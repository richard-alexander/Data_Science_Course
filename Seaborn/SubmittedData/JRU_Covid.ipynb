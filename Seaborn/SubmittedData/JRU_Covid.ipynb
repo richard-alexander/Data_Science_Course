{
 "cells": [
  {
   "cell_type": "code",
   "execution_count": 164,
   "metadata": {},
   "outputs": [],
   "source": [
    "import scipy.optimize as so\n",
    "import math\n",
    "import numpy as np\n",
    "import pandas as pd\n",
    "import matplotlib.pyplot as plt\n",
    "%matplotlib inline\n",
    "\n",
    "import seaborn as sns\n",
    "import plotly.express as px"
   ]
  },
  {
   "cell_type": "markdown",
   "metadata": {},
   "source": [
    "# Load our data"
   ]
  },
  {
   "cell_type": "code",
   "execution_count": 165,
   "metadata": {},
   "outputs": [
    {
     "data": {
      "text/html": [
       "<div>\n",
       "<style scoped>\n",
       "    .dataframe tbody tr th:only-of-type {\n",
       "        vertical-align: middle;\n",
       "    }\n",
       "\n",
       "    .dataframe tbody tr th {\n",
       "        vertical-align: top;\n",
       "    }\n",
       "\n",
       "    .dataframe thead th {\n",
       "        text-align: right;\n",
       "    }\n",
       "</style>\n",
       "<table border=\"1\" class=\"dataframe\">\n",
       "  <thead>\n",
       "    <tr style=\"text-align: right;\">\n",
       "      <th></th>\n",
       "      <th>Cycle</th>\n",
       "      <th>A1</th>\n",
       "      <th>A2</th>\n",
       "      <th>A3</th>\n",
       "      <th>A4</th>\n",
       "      <th>A5</th>\n",
       "      <th>A6</th>\n",
       "      <th>A7</th>\n",
       "      <th>A8</th>\n",
       "      <th>A9</th>\n",
       "      <th>...</th>\n",
       "      <th>P6</th>\n",
       "      <th>P7</th>\n",
       "      <th>P8</th>\n",
       "      <th>P9</th>\n",
       "      <th>P16</th>\n",
       "      <th>P17</th>\n",
       "      <th>P18</th>\n",
       "      <th>P22</th>\n",
       "      <th>P23</th>\n",
       "      <th>P24</th>\n",
       "    </tr>\n",
       "  </thead>\n",
       "  <tbody>\n",
       "    <tr>\n",
       "      <th>0</th>\n",
       "      <td>0</td>\n",
       "      <td>0.021859</td>\n",
       "      <td>0.014456</td>\n",
       "      <td>0.011372</td>\n",
       "      <td>0.010053</td>\n",
       "      <td>0.016725</td>\n",
       "      <td>0.019795</td>\n",
       "      <td>0.016086</td>\n",
       "      <td>0.047403</td>\n",
       "      <td>0.012987</td>\n",
       "      <td>...</td>\n",
       "      <td>0.016459</td>\n",
       "      <td>0.003656</td>\n",
       "      <td>0.013614</td>\n",
       "      <td>0.017267</td>\n",
       "      <td>-0.012701</td>\n",
       "      <td>-0.001568</td>\n",
       "      <td>0.001697</td>\n",
       "      <td>0.013966</td>\n",
       "      <td>0.014161</td>\n",
       "      <td>0.008281</td>\n",
       "    </tr>\n",
       "    <tr>\n",
       "      <th>1</th>\n",
       "      <td>1</td>\n",
       "      <td>0.019846</td>\n",
       "      <td>0.013897</td>\n",
       "      <td>0.011211</td>\n",
       "      <td>0.006202</td>\n",
       "      <td>0.013712</td>\n",
       "      <td>0.017276</td>\n",
       "      <td>0.013523</td>\n",
       "      <td>0.041337</td>\n",
       "      <td>0.010360</td>\n",
       "      <td>...</td>\n",
       "      <td>0.014916</td>\n",
       "      <td>0.001246</td>\n",
       "      <td>0.011602</td>\n",
       "      <td>0.013852</td>\n",
       "      <td>-0.015724</td>\n",
       "      <td>-0.004796</td>\n",
       "      <td>-0.002605</td>\n",
       "      <td>0.011066</td>\n",
       "      <td>0.010012</td>\n",
       "      <td>0.004105</td>\n",
       "    </tr>\n",
       "    <tr>\n",
       "      <th>2</th>\n",
       "      <td>2</td>\n",
       "      <td>0.022309</td>\n",
       "      <td>0.014238</td>\n",
       "      <td>0.008758</td>\n",
       "      <td>0.004615</td>\n",
       "      <td>0.009674</td>\n",
       "      <td>0.011937</td>\n",
       "      <td>0.011629</td>\n",
       "      <td>0.032277</td>\n",
       "      <td>0.007218</td>\n",
       "      <td>...</td>\n",
       "      <td>0.011485</td>\n",
       "      <td>-0.000806</td>\n",
       "      <td>0.007893</td>\n",
       "      <td>0.009595</td>\n",
       "      <td>-0.018019</td>\n",
       "      <td>-0.008014</td>\n",
       "      <td>-0.007788</td>\n",
       "      <td>0.008195</td>\n",
       "      <td>0.006354</td>\n",
       "      <td>-0.001799</td>\n",
       "    </tr>\n",
       "    <tr>\n",
       "      <th>3</th>\n",
       "      <td>3</td>\n",
       "      <td>0.014516</td>\n",
       "      <td>0.008165</td>\n",
       "      <td>0.005209</td>\n",
       "      <td>-0.001370</td>\n",
       "      <td>0.004691</td>\n",
       "      <td>0.006919</td>\n",
       "      <td>0.005250</td>\n",
       "      <td>0.019608</td>\n",
       "      <td>0.003688</td>\n",
       "      <td>...</td>\n",
       "      <td>0.004924</td>\n",
       "      <td>-0.002949</td>\n",
       "      <td>0.003834</td>\n",
       "      <td>0.005573</td>\n",
       "      <td>-0.021687</td>\n",
       "      <td>-0.010138</td>\n",
       "      <td>-0.009051</td>\n",
       "      <td>0.001086</td>\n",
       "      <td>0.000683</td>\n",
       "      <td>-0.003963</td>\n",
       "    </tr>\n",
       "    <tr>\n",
       "      <th>4</th>\n",
       "      <td>4</td>\n",
       "      <td>0.006118</td>\n",
       "      <td>0.004875</td>\n",
       "      <td>0.002143</td>\n",
       "      <td>-0.010138</td>\n",
       "      <td>-0.002345</td>\n",
       "      <td>0.003786</td>\n",
       "      <td>-0.000379</td>\n",
       "      <td>0.008648</td>\n",
       "      <td>0.000307</td>\n",
       "      <td>...</td>\n",
       "      <td>-0.001133</td>\n",
       "      <td>-0.006517</td>\n",
       "      <td>-0.001435</td>\n",
       "      <td>-0.000117</td>\n",
       "      <td>-0.022696</td>\n",
       "      <td>-0.011455</td>\n",
       "      <td>-0.004308</td>\n",
       "      <td>-0.009803</td>\n",
       "      <td>-0.003145</td>\n",
       "      <td>-0.005782</td>\n",
       "    </tr>\n",
       "  </tbody>\n",
       "</table>\n",
       "<p>5 rows × 211 columns</p>\n",
       "</div>"
      ],
      "text/plain": [
       "   Cycle        A1        A2        A3        A4        A5        A6  \\\n",
       "0      0  0.021859  0.014456  0.011372  0.010053  0.016725  0.019795   \n",
       "1      1  0.019846  0.013897  0.011211  0.006202  0.013712  0.017276   \n",
       "2      2  0.022309  0.014238  0.008758  0.004615  0.009674  0.011937   \n",
       "3      3  0.014516  0.008165  0.005209 -0.001370  0.004691  0.006919   \n",
       "4      4  0.006118  0.004875  0.002143 -0.010138 -0.002345  0.003786   \n",
       "\n",
       "         A7        A8        A9  ...        P6        P7        P8        P9  \\\n",
       "0  0.016086  0.047403  0.012987  ...  0.016459  0.003656  0.013614  0.017267   \n",
       "1  0.013523  0.041337  0.010360  ...  0.014916  0.001246  0.011602  0.013852   \n",
       "2  0.011629  0.032277  0.007218  ...  0.011485 -0.000806  0.007893  0.009595   \n",
       "3  0.005250  0.019608  0.003688  ...  0.004924 -0.002949  0.003834  0.005573   \n",
       "4 -0.000379  0.008648  0.000307  ... -0.001133 -0.006517 -0.001435 -0.000117   \n",
       "\n",
       "        P16       P17       P18       P22       P23       P24  \n",
       "0 -0.012701 -0.001568  0.001697  0.013966  0.014161  0.008281  \n",
       "1 -0.015724 -0.004796 -0.002605  0.011066  0.010012  0.004105  \n",
       "2 -0.018019 -0.008014 -0.007788  0.008195  0.006354 -0.001799  \n",
       "3 -0.021687 -0.010138 -0.009051  0.001086  0.000683 -0.003963  \n",
       "4 -0.022696 -0.011455 -0.004308 -0.009803 -0.003145 -0.005782  \n",
       "\n",
       "[5 rows x 211 columns]"
      ]
     },
     "execution_count": 165,
     "metadata": {},
     "output_type": "execute_result"
    }
   ],
   "source": [
    "#start by reading in all of the curves\n",
    "df=pd.read_csv('JRU_curves.csv')\n",
    "df.head()"
   ]
  },
  {
   "cell_type": "markdown",
   "metadata": {},
   "source": [
    "# Setup fitting parameters"
   ]
  },
  {
   "cell_type": "markdown",
   "metadata": {},
   "source": [
    "Define a fitting function, we will use a sigmoid"
   ]
  },
  {
   "cell_type": "code",
   "execution_count": 166,
   "metadata": {},
   "outputs": [],
   "source": [
    "def fitfunc(x,*params):\n",
    "    return params[0]+params[1]/(1.0+np.exp(-params[3]*(x-params[2])))"
   ]
  },
  {
   "cell_type": "markdown",
   "metadata": {},
   "source": [
    "Setup our minimum (lb), maximum (ub), and initial guesses (guessparams) for each of our 4 parameters."
   ]
  },
  {
   "cell_type": "code",
   "execution_count": 167,
   "metadata": {},
   "outputs": [],
   "source": [
    "guessparams=[0.0,1.0,36.0,1.0]\n",
    "lb=[-0.25,-0.2,15.0,0.2]\n",
    "ub=[0.25,4.0,50.0,2.0]"
   ]
  },
  {
   "cell_type": "markdown",
   "metadata": {},
   "source": [
    "Let's look at an example of our function with just the guess parameters compared to well A1."
   ]
  },
  {
   "cell_type": "code",
   "execution_count": 168,
   "metadata": {},
   "outputs": [
    {
     "data": {
      "image/png": "[encoded data removed]",
      "text/plain": [
       "<Figure size 432x288 with 1 Axes>"
      ]
     },
     "metadata": {
      "needs_background": "light"
     },
     "output_type": "display_data"
    }
   ],
   "source": [
    "guessfit=fitfunc(df['Cycle'].values,*guessparams)\n",
    "plt.plot(df['Cycle'].values,df['A1'].values)\n",
    "plt.plot(df['Cycle'].values,guessfit)\n",
    "plt.show();"
   ]
  },
  {
   "cell_type": "markdown",
   "metadata": {},
   "source": [
    "Obviously we have some fitting to do, we will use curve_fit from scipy.optimize to do the fitting."
   ]
  },
  {
   "cell_type": "code",
   "execution_count": 169,
   "metadata": {},
   "outputs": [
    {
     "data": {
      "image/png": "[encoded data removed]",
      "text/plain": [
       "<Figure size 432x288 with 1 Axes>"
      ]
     },
     "metadata": {
      "needs_background": "light"
     },
     "output_type": "display_data"
    }
   ],
   "source": [
    "#test out a fit\n",
    "fitparams,_=so.curve_fit(fitfunc,df['Cycle'].values,df['A1'].values,p0=guessparams,bounds=(lb,ub),method='trf')\n",
    "plt.plot(df['Cycle'].values,df['A1'].values)\n",
    "plt.plot(df['Cycle'].values,fitfunc(df['Cycle'].values,*fitparams))\n",
    "plt.show()"
   ]
  },
  {
   "cell_type": "code",
   "execution_count": 170,
   "metadata": {},
   "outputs": [
    {
     "data": {
      "text/plain": [
       "array([-7.99398608e-04,  4.78787731e-01,  3.94409066e+01,  3.00079901e-01])"
      ]
     },
     "execution_count": 170,
     "metadata": {},
     "output_type": "execute_result"
    }
   ],
   "source": [
    "#what were the best fit parameters?\n",
    "fitparams"
   ]
  },
  {
   "cell_type": "markdown",
   "metadata": {},
   "source": [
    "# Fit all the data and annotate"
   ]
  },
  {
   "cell_type": "markdown",
   "metadata": {},
   "source": [
    "Now we want to fit ALL of the columns, it is easy to process all of the columns at once using pandas \"apply\" function."
   ]
  },
  {
   "cell_type": "code",
   "execution_count": 171,
   "metadata": {},
   "outputs": [
    {
     "data": {
      "text/html": [
       "<div>\n",
       "<style scoped>\n",
       "    .dataframe tbody tr th:only-of-type {\n",
       "        vertical-align: middle;\n",
       "    }\n",
       "\n",
       "    .dataframe tbody tr th {\n",
       "        vertical-align: top;\n",
       "    }\n",
       "\n",
       "    .dataframe thead th {\n",
       "        text-align: right;\n",
       "    }\n",
       "</style>\n",
       "<table border=\"1\" class=\"dataframe\">\n",
       "  <thead>\n",
       "    <tr style=\"text-align: right;\">\n",
       "      <th></th>\n",
       "      <th>A1</th>\n",
       "      <th>A2</th>\n",
       "      <th>A3</th>\n",
       "      <th>A4</th>\n",
       "      <th>A5</th>\n",
       "      <th>A6</th>\n",
       "      <th>A7</th>\n",
       "      <th>A8</th>\n",
       "      <th>A9</th>\n",
       "      <th>A10</th>\n",
       "      <th>...</th>\n",
       "      <th>P6</th>\n",
       "      <th>P7</th>\n",
       "      <th>P8</th>\n",
       "      <th>P9</th>\n",
       "      <th>P16</th>\n",
       "      <th>P17</th>\n",
       "      <th>P18</th>\n",
       "      <th>P22</th>\n",
       "      <th>P23</th>\n",
       "      <th>P24</th>\n",
       "    </tr>\n",
       "  </thead>\n",
       "  <tbody>\n",
       "    <tr>\n",
       "      <th>0</th>\n",
       "      <td>-0.000799</td>\n",
       "      <td>-0.001838</td>\n",
       "      <td>-0.006905</td>\n",
       "      <td>0.002039</td>\n",
       "      <td>0.001869</td>\n",
       "      <td>-0.011554</td>\n",
       "      <td>0.001776</td>\n",
       "      <td>0.003996</td>\n",
       "      <td>-0.011043</td>\n",
       "      <td>0.002154</td>\n",
       "      <td>...</td>\n",
       "      <td>-0.011897</td>\n",
       "      <td>0.000815</td>\n",
       "      <td>0.001370</td>\n",
       "      <td>-0.011705</td>\n",
       "      <td>0.000878</td>\n",
       "      <td>0.000946</td>\n",
       "      <td>-0.005393</td>\n",
       "      <td>-0.012061</td>\n",
       "      <td>-0.007561</td>\n",
       "      <td>-0.006150</td>\n",
       "    </tr>\n",
       "    <tr>\n",
       "      <th>1</th>\n",
       "      <td>0.478788</td>\n",
       "      <td>1.291934</td>\n",
       "      <td>2.210948</td>\n",
       "      <td>-0.016253</td>\n",
       "      <td>-0.012494</td>\n",
       "      <td>2.145053</td>\n",
       "      <td>-0.009896</td>\n",
       "      <td>-0.024128</td>\n",
       "      <td>2.090890</td>\n",
       "      <td>-0.020097</td>\n",
       "      <td>...</td>\n",
       "      <td>2.284975</td>\n",
       "      <td>-0.006457</td>\n",
       "      <td>-0.007544</td>\n",
       "      <td>2.120001</td>\n",
       "      <td>-0.010900</td>\n",
       "      <td>-0.011482</td>\n",
       "      <td>1.971571</td>\n",
       "      <td>1.704303</td>\n",
       "      <td>2.069177</td>\n",
       "      <td>1.952235</td>\n",
       "    </tr>\n",
       "    <tr>\n",
       "      <th>2</th>\n",
       "      <td>39.440907</td>\n",
       "      <td>37.427944</td>\n",
       "      <td>29.293167</td>\n",
       "      <td>39.239305</td>\n",
       "      <td>39.631263</td>\n",
       "      <td>25.933741</td>\n",
       "      <td>38.501132</td>\n",
       "      <td>40.052265</td>\n",
       "      <td>26.212965</td>\n",
       "      <td>39.439322</td>\n",
       "      <td>...</td>\n",
       "      <td>25.470309</td>\n",
       "      <td>38.905919</td>\n",
       "      <td>38.924150</td>\n",
       "      <td>25.735880</td>\n",
       "      <td>37.355685</td>\n",
       "      <td>39.760746</td>\n",
       "      <td>34.864014</td>\n",
       "      <td>33.408489</td>\n",
       "      <td>32.433184</td>\n",
       "      <td>31.974420</td>\n",
       "    </tr>\n",
       "    <tr>\n",
       "      <th>3</th>\n",
       "      <td>0.300080</td>\n",
       "      <td>0.471699</td>\n",
       "      <td>0.487588</td>\n",
       "      <td>0.453270</td>\n",
       "      <td>0.480993</td>\n",
       "      <td>0.469922</td>\n",
       "      <td>0.833469</td>\n",
       "      <td>0.635426</td>\n",
       "      <td>0.455376</td>\n",
       "      <td>0.462512</td>\n",
       "      <td>...</td>\n",
       "      <td>0.476987</td>\n",
       "      <td>0.988328</td>\n",
       "      <td>0.873247</td>\n",
       "      <td>0.481758</td>\n",
       "      <td>0.539699</td>\n",
       "      <td>0.388927</td>\n",
       "      <td>0.555163</td>\n",
       "      <td>0.362225</td>\n",
       "      <td>0.485218</td>\n",
       "      <td>0.552432</td>\n",
       "    </tr>\n",
       "  </tbody>\n",
       "</table>\n",
       "<p>4 rows × 210 columns</p>\n",
       "</div>"
      ],
      "text/plain": [
       "          A1         A2         A3         A4         A5         A6  \\\n",
       "0  -0.000799  -0.001838  -0.006905   0.002039   0.001869  -0.011554   \n",
       "1   0.478788   1.291934   2.210948  -0.016253  -0.012494   2.145053   \n",
       "2  39.440907  37.427944  29.293167  39.239305  39.631263  25.933741   \n",
       "3   0.300080   0.471699   0.487588   0.453270   0.480993   0.469922   \n",
       "\n",
       "          A7         A8         A9        A10  ...         P6         P7  \\\n",
       "0   0.001776   0.003996  -0.011043   0.002154  ...  -0.011897   0.000815   \n",
       "1  -0.009896  -0.024128   2.090890  -0.020097  ...   2.284975  -0.006457   \n",
       "2  38.501132  40.052265  26.212965  39.439322  ...  25.470309  38.905919   \n",
       "3   0.833469   0.635426   0.455376   0.462512  ...   0.476987   0.988328   \n",
       "\n",
       "          P8         P9        P16        P17        P18        P22  \\\n",
       "0   0.001370  -0.011705   0.000878   0.000946  -0.005393  -0.012061   \n",
       "1  -0.007544   2.120001  -0.010900  -0.011482   1.971571   1.704303   \n",
       "2  38.924150  25.735880  37.355685  39.760746  34.864014  33.408489   \n",
       "3   0.873247   0.481758   0.539699   0.388927   0.555163   0.362225   \n",
       "\n",
       "         P23        P24  \n",
       "0  -0.007561  -0.006150  \n",
       "1   2.069177   1.952235  \n",
       "2  32.433184  31.974420  \n",
       "3   0.485218   0.552432  \n",
       "\n",
       "[4 rows x 210 columns]"
      ]
     },
     "execution_count": 171,
     "metadata": {},
     "output_type": "execute_result"
    }
   ],
   "source": [
    "allfitparams = df.iloc[:,1:].apply(lambda x: so.curve_fit(fitfunc,df['Cycle'].values,\n",
    "                                           x.values,p0=guessparams,bounds=(lb,ub),method='trf')[0])\n",
    "allfitparams"
   ]
  },
  {
   "cell_type": "markdown",
   "metadata": {},
   "source": [
    "This puts the columns still as the wells and the rows as the fit parameters, let's flip the axes and give the parameters useful names."
   ]
  },
  {
   "cell_type": "code",
   "execution_count": 172,
   "metadata": {},
   "outputs": [
    {
     "data": {
      "text/html": [
       "<div>\n",
       "<style scoped>\n",
       "    .dataframe tbody tr th:only-of-type {\n",
       "        vertical-align: middle;\n",
       "    }\n",
       "\n",
       "    .dataframe tbody tr th {\n",
       "        vertical-align: top;\n",
       "    }\n",
       "\n",
       "    .dataframe thead th {\n",
       "        text-align: right;\n",
       "    }\n",
       "</style>\n",
       "<table border=\"1\" class=\"dataframe\">\n",
       "  <thead>\n",
       "    <tr style=\"text-align: right;\">\n",
       "      <th></th>\n",
       "      <th>well</th>\n",
       "      <th>bias</th>\n",
       "      <th>amplitude</th>\n",
       "      <th>exponent</th>\n",
       "      <th>offset</th>\n",
       "    </tr>\n",
       "  </thead>\n",
       "  <tbody>\n",
       "    <tr>\n",
       "      <th>0</th>\n",
       "      <td>A1</td>\n",
       "      <td>-0.000799</td>\n",
       "      <td>0.478788</td>\n",
       "      <td>39.440907</td>\n",
       "      <td>0.300080</td>\n",
       "    </tr>\n",
       "    <tr>\n",
       "      <th>1</th>\n",
       "      <td>A2</td>\n",
       "      <td>-0.001838</td>\n",
       "      <td>1.291934</td>\n",
       "      <td>37.427944</td>\n",
       "      <td>0.471699</td>\n",
       "    </tr>\n",
       "    <tr>\n",
       "      <th>2</th>\n",
       "      <td>A3</td>\n",
       "      <td>-0.006905</td>\n",
       "      <td>2.210948</td>\n",
       "      <td>29.293167</td>\n",
       "      <td>0.487588</td>\n",
       "    </tr>\n",
       "    <tr>\n",
       "      <th>3</th>\n",
       "      <td>A4</td>\n",
       "      <td>0.002039</td>\n",
       "      <td>-0.016253</td>\n",
       "      <td>39.239305</td>\n",
       "      <td>0.453270</td>\n",
       "    </tr>\n",
       "    <tr>\n",
       "      <th>4</th>\n",
       "      <td>A5</td>\n",
       "      <td>0.001869</td>\n",
       "      <td>-0.012494</td>\n",
       "      <td>39.631263</td>\n",
       "      <td>0.480993</td>\n",
       "    </tr>\n",
       "  </tbody>\n",
       "</table>\n",
       "</div>"
      ],
      "text/plain": [
       "  well      bias  amplitude   exponent    offset\n",
       "0   A1 -0.000799   0.478788  39.440907  0.300080\n",
       "1   A2 -0.001838   1.291934  37.427944  0.471699\n",
       "2   A3 -0.006905   2.210948  29.293167  0.487588\n",
       "3   A4  0.002039  -0.016253  39.239305  0.453270\n",
       "4   A5  0.001869  -0.012494  39.631263  0.480993"
      ]
     },
     "execution_count": 172,
     "metadata": {},
     "output_type": "execute_result"
    }
   ],
   "source": [
    "allfitparams = allfitparams.T.reset_index()\n",
    "allfitparams.columns = ['well', 'bias', 'amplitude', 'exponent', 'offset']\n",
    "allfitparams.head()"
   ]
  },
  {
   "cell_type": "markdown",
   "metadata": {},
   "source": [
    "Let's add a field for whether this well was a control or not."
   ]
  },
  {
   "cell_type": "code",
   "execution_count": 173,
   "metadata": {},
   "outputs": [],
   "source": [
    "allfitparams['Condition'] = ''\n",
    "allfitparams.iloc[1::3,allfitparams.columns.get_indexer(['Condition'])] = 'Experiment'\n",
    "allfitparams.iloc[0::3,allfitparams.columns.get_indexer(['Condition'])] = 'NegativeControl'\n",
    "allfitparams.iloc[2::3,allfitparams.columns.get_indexer(['Condition'])] = 'PositiveControl'"
   ]
  },
  {
   "cell_type": "markdown",
   "metadata": {},
   "source": [
    "And we will add fields for the Row in our well plate and the Column that this was from."
   ]
  },
  {
   "cell_type": "code",
   "execution_count": 174,
   "metadata": {},
   "outputs": [
    {
     "data": {
      "text/html": [
       "<div>\n",
       "<style scoped>\n",
       "    .dataframe tbody tr th:only-of-type {\n",
       "        vertical-align: middle;\n",
       "    }\n",
       "\n",
       "    .dataframe tbody tr th {\n",
       "        vertical-align: top;\n",
       "    }\n",
       "\n",
       "    .dataframe thead th {\n",
       "        text-align: right;\n",
       "    }\n",
       "</style>\n",
       "<table border=\"1\" class=\"dataframe\">\n",
       "  <thead>\n",
       "    <tr style=\"text-align: right;\">\n",
       "      <th></th>\n",
       "      <th>well</th>\n",
       "      <th>bias</th>\n",
       "      <th>amplitude</th>\n",
       "      <th>exponent</th>\n",
       "      <th>offset</th>\n",
       "      <th>Condition</th>\n",
       "      <th>Row</th>\n",
       "      <th>Column</th>\n",
       "    </tr>\n",
       "  </thead>\n",
       "  <tbody>\n",
       "    <tr>\n",
       "      <th>0</th>\n",
       "      <td>A1</td>\n",
       "      <td>-0.000799</td>\n",
       "      <td>0.478788</td>\n",
       "      <td>39.440907</td>\n",
       "      <td>0.300080</td>\n",
       "      <td>NegativeControl</td>\n",
       "      <td>A</td>\n",
       "      <td>1</td>\n",
       "    </tr>\n",
       "    <tr>\n",
       "      <th>1</th>\n",
       "      <td>A2</td>\n",
       "      <td>-0.001838</td>\n",
       "      <td>1.291934</td>\n",
       "      <td>37.427944</td>\n",
       "      <td>0.471699</td>\n",
       "      <td>Experiment</td>\n",
       "      <td>A</td>\n",
       "      <td>2</td>\n",
       "    </tr>\n",
       "    <tr>\n",
       "      <th>2</th>\n",
       "      <td>A3</td>\n",
       "      <td>-0.006905</td>\n",
       "      <td>2.210948</td>\n",
       "      <td>29.293167</td>\n",
       "      <td>0.487588</td>\n",
       "      <td>PositiveControl</td>\n",
       "      <td>A</td>\n",
       "      <td>3</td>\n",
       "    </tr>\n",
       "    <tr>\n",
       "      <th>3</th>\n",
       "      <td>A4</td>\n",
       "      <td>0.002039</td>\n",
       "      <td>-0.016253</td>\n",
       "      <td>39.239305</td>\n",
       "      <td>0.453270</td>\n",
       "      <td>NegativeControl</td>\n",
       "      <td>A</td>\n",
       "      <td>4</td>\n",
       "    </tr>\n",
       "    <tr>\n",
       "      <th>4</th>\n",
       "      <td>A5</td>\n",
       "      <td>0.001869</td>\n",
       "      <td>-0.012494</td>\n",
       "      <td>39.631263</td>\n",
       "      <td>0.480993</td>\n",
       "      <td>Experiment</td>\n",
       "      <td>A</td>\n",
       "      <td>5</td>\n",
       "    </tr>\n",
       "  </tbody>\n",
       "</table>\n",
       "</div>"
      ],
      "text/plain": [
       "  well      bias  amplitude   exponent    offset        Condition Row  Column\n",
       "0   A1 -0.000799   0.478788  39.440907  0.300080  NegativeControl   A       1\n",
       "1   A2 -0.001838   1.291934  37.427944  0.471699       Experiment   A       2\n",
       "2   A3 -0.006905   2.210948  29.293167  0.487588  PositiveControl   A       3\n",
       "3   A4  0.002039  -0.016253  39.239305  0.453270  NegativeControl   A       4\n",
       "4   A5  0.001869  -0.012494  39.631263  0.480993       Experiment   A       5"
      ]
     },
     "execution_count": 174,
     "metadata": {},
     "output_type": "execute_result"
    }
   ],
   "source": [
    "allfitparams['Row'] = allfitparams['well'].str[0]\n",
    "allfitparams['Column'] = allfitparams['well'].str[1:].astype(int)\n",
    "allfitparams.head()"
   ]
  },
  {
   "cell_type": "markdown",
   "metadata": {},
   "source": [
    "# Use Seaborn and Plotly to look at the results"
   ]
  },
  {
   "cell_type": "markdown",
   "metadata": {},
   "source": [
    "## Scatterplot"
   ]
  },
  {
   "cell_type": "markdown",
   "metadata": {},
   "source": [
    "First we'll look at a scatterplot of the amplitude vs. the exponent."
   ]
  },
  {
   "cell_type": "code",
   "execution_count": 175,
   "metadata": {
    "scrolled": false
   },
   "outputs": [
    {
     "data": {
      "text/plain": [
       "<AxesSubplot:xlabel='exponent', ylabel='amplitude'>"
      ]
     },
     "execution_count": 175,
     "metadata": {},
     "output_type": "execute_result"
    },
    {
     "data": {
      "image/png": "[encoded data removed]",
      "text/plain": [
       "<Figure size 1080x576 with 1 Axes>"
      ]
     },
     "metadata": {
      "needs_background": "light"
     },
     "output_type": "display_data"
    }
   ],
   "source": [
    "plt.figure(figsize=[15,8])\n",
    "sns.scatterplot(data=allfitparams, x='exponent', y='amplitude', hue='Condition', palette=['r', 'g', 'b'])"
   ]
  },
  {
   "cell_type": "markdown",
   "metadata": {},
   "source": [
    "Plotly let's us mouse over the plot point to see which well it is."
   ]
  },
  {
   "cell_type": "code",
   "execution_count": 176,
   "metadata": {},
   "outputs": [
    {
     "data": {
      "application/vnd.plotly.v1+json": {
       "config": {
        "plotlyServerURL": "https://plot.ly"
       },
       "data": [
        {
         "customdata": [
          [
           "A1"
          ],
          [
           "A4"
          ],
          [
           "A7"
          ],
          [
           "A10"
          ],
          [
           "A22"
          ],
          [
           "B1"
          ],
          [
           "B4"
          ],
          [
           "B7"
          ],
          [
           "B10"
          ],
          [
           "B22"
          ],
          [
           "C1"
          ],
          [
           "C4"
          ],
          [
           "C7"
          ],
          [
           "C10"
          ],
          [
           "D1"
          ],
          [
           "D4"
          ],
          [
           "D7"
          ],
          [
           "D10"
          ],
          [
           "E1"
          ],
          [
           "E4"
          ],
          [
           "E7"
          ],
          [
           "E10"
          ],
          [
           "F1"
          ],
          [
           "F4"
          ],
          [
           "F7"
          ],
          [
           "F10"
          ],
          [
           "G1"
          ],
          [
           "G4"
          ],
          [
           "G7"
          ],
          [
           "G10"
          ],
          [
           "H1"
          ],
          [
           "H4"
          ],
          [
           "H7"
          ],
          [
           "H10"
          ],
          [
           "I1"
          ],
          [
           "I4"
          ],
          [
           "I7"
          ],
          [
           "I10"
          ],
          [
           "J1"
          ],
          [
           "J4"
          ],
          [
           "J7"
          ],
          [
           "J10"
          ],
          [
           "J16"
          ],
          [
           "K1"
          ],
          [
           "K4"
          ],
          [
           "K7"
          ],
          [
           "K10"
          ],
          [
           "L1"
          ],
          [
           "L4"
          ],
          [
           "L7"
          ],
          [
           "L10"
          ],
          [
           "L16"
          ],
          [
           "M1"
          ],
          [
           "M4"
          ],
          [
           "M7"
          ],
          [
           "M10"
          ],
          [
           "N1"
          ],
          [
           "N4"
          ],
          [
           "N7"
          ],
          [
           "N16"
          ],
          [
           "O1"
          ],
          [
           "O4"
          ],
          [
           "O7"
          ],
          [
           "O10"
          ],
          [
           "O22"
          ],
          [
           "P1"
          ],
          [
           "P4"
          ],
          [
           "P7"
          ],
          [
           "P16"
          ],
          [
           "P22"
          ]
         ],
         "hovertemplate": "Condition=NegativeControl<br>exponent=%{x}<br>amplitude=%{y}<br>well=%{customdata[0]}<extra></extra>",
         "legendgroup": "NegativeControl",
         "marker": {
          "color": "#636efa",
          "symbol": "circle"
         },
         "mode": "markers",
         "name": "NegativeControl",
         "orientation": "v",
         "showlegend": true,
         "type": "scatter",
         "x": [
          39.440906620038675,
          39.23930528444257,
          38.501132493409756,
          39.43932184121716,
          38.44342183326008,
          40.424419622102384,
          40.472680618271696,
          38.5412450592496,
          39.26223916068812,
          38.017880514129295,
          38.17496073259959,
          40.27860270806673,
          38.89416760475524,
          38.8700559535175,
          37.3718412897273,
          39.29594171286439,
          40.27431758376861,
          27.91199877813612,
          38.721055835675955,
          38.931759278175385,
          38.93390336114468,
          40.11671482723715,
          39.58011954319239,
          39.21913223706322,
          38.90727418426856,
          43.872336526685174,
          41.050657241342535,
          39.654269902674464,
          42.41965153281886,
          41.15720070965495,
          40.64325367722662,
          36.80423768638683,
          38.07633228662429,
          39.05124233217815,
          38.68424782414189,
          40.968392263673344,
          38.33570911474698,
          38.38590124119153,
          39.55235604234234,
          38.69449985161412,
          41.35612310462473,
          41.112958580286644,
          37.715292743827874,
          40.86166887123393,
          39.151835456208026,
          33.232140967948894,
          40.47580256653426,
          39.52452627024814,
          41.03653572783217,
          41.838491598548664,
          40.80373588798057,
          35.739128529421464,
          39.80996283890297,
          40.38725375522529,
          38.534862225548366,
          39.284125848406454,
          39.53322509138371,
          39.85810564492349,
          40.880744724881225,
          38.46656415855501,
          35.38760432234583,
          39.652780180845035,
          39.63748426496886,
          38.92130545467416,
          33.285247166670516,
          41.018851589855544,
          38.51989704598816,
          38.905918612552576,
          37.355685234085826,
          33.40848870977238
         ],
         "xaxis": "x",
         "y": [
          0.478787731251923,
          -0.016252575483904335,
          -0.009896109232223801,
          -0.020097432044584394,
          -0.025308273600373517,
          -0.01942671328056925,
          -0.015839981165641417,
          -0.011366720312753889,
          -0.010495141543652537,
          -0.018284435090631507,
          -0.015108499667709089,
          -0.017961067411302788,
          -0.008271455919135145,
          -0.0034029508054194504,
          -0.01520483915030317,
          -0.009915694961224733,
          -0.004983269764007043,
          0.0014803694021270145,
          -0.014685871097121961,
          -0.01809958114502381,
          -0.008511419041343858,
          -0.004976154837481869,
          -0.0155594380075264,
          -0.013957826699448821,
          -0.006852016265305687,
          -0.019815137524444543,
          -0.014208676908751324,
          -0.0021211955712824833,
          -0.01140118087715165,
          -0.015118532725785113,
          -0.012745570767658398,
          -0.0036179213063054568,
          -0.004682553127960236,
          -0.007083134796978917,
          -0.014654212095331435,
          -0.013016440190761402,
          -0.01418017598807566,
          -0.0024286177682744737,
          -0.010387414154999634,
          -0.008802173430615803,
          -0.008596352432447801,
          -0.0037258974792961116,
          -0.012744966679853321,
          -0.0015491130190145948,
          -0.009637172585177661,
          0.0017464274108236766,
          -0.005751427005414842,
          -0.012713999573126723,
          -0.007598907558159733,
          -0.011282043712495636,
          -0.01212184004886312,
          -0.009724828789217873,
          -0.009670387794458134,
          -0.01103329913120167,
          -0.011163317156005529,
          -0.021004193725279414,
          -0.0065070376421760105,
          -0.0077097420588558225,
          -0.008578859110082389,
          -0.010273456221809429,
          0.0033868856863834536,
          -0.010528373609897185,
          -0.010620262796992526,
          -0.011954405939398945,
          1.7494395056800585,
          -0.014964610474685003,
          -0.00701268299715037,
          -0.0064570086171909565,
          -0.010900051283316768,
          1.7043033911719736
         ],
         "yaxis": "y"
        },
        {
         "customdata": [
          [
           "A2"
          ],
          [
           "A5"
          ],
          [
           "A8"
          ],
          [
           "A11"
          ],
          [
           "A23"
          ],
          [
           "B2"
          ],
          [
           "B5"
          ],
          [
           "B8"
          ],
          [
           "B11"
          ],
          [
           "B23"
          ],
          [
           "C2"
          ],
          [
           "C5"
          ],
          [
           "C8"
          ],
          [
           "C11"
          ],
          [
           "D2"
          ],
          [
           "D5"
          ],
          [
           "D8"
          ],
          [
           "D11"
          ],
          [
           "E2"
          ],
          [
           "E5"
          ],
          [
           "E8"
          ],
          [
           "E11"
          ],
          [
           "F2"
          ],
          [
           "F5"
          ],
          [
           "F8"
          ],
          [
           "F11"
          ],
          [
           "G2"
          ],
          [
           "G5"
          ],
          [
           "G8"
          ],
          [
           "G11"
          ],
          [
           "H2"
          ],
          [
           "H5"
          ],
          [
           "H8"
          ],
          [
           "H11"
          ],
          [
           "I2"
          ],
          [
           "I5"
          ],
          [
           "I8"
          ],
          [
           "I11"
          ],
          [
           "J2"
          ],
          [
           "J5"
          ],
          [
           "J8"
          ],
          [
           "J11"
          ],
          [
           "J17"
          ],
          [
           "K2"
          ],
          [
           "K5"
          ],
          [
           "K8"
          ],
          [
           "K11"
          ],
          [
           "L2"
          ],
          [
           "L5"
          ],
          [
           "L8"
          ],
          [
           "L11"
          ],
          [
           "L17"
          ],
          [
           "M2"
          ],
          [
           "M5"
          ],
          [
           "M8"
          ],
          [
           "M11"
          ],
          [
           "N2"
          ],
          [
           "N5"
          ],
          [
           "N8"
          ],
          [
           "N17"
          ],
          [
           "O2"
          ],
          [
           "O5"
          ],
          [
           "O8"
          ],
          [
           "O11"
          ],
          [
           "O23"
          ],
          [
           "P2"
          ],
          [
           "P5"
          ],
          [
           "P8"
          ],
          [
           "P17"
          ],
          [
           "P23"
          ]
         ],
         "hovertemplate": "Condition=Experiment<br>exponent=%{x}<br>amplitude=%{y}<br>well=%{customdata[0]}<extra></extra>",
         "legendgroup": "Experiment",
         "marker": {
          "color": "#EF553B",
          "symbol": "circle"
         },
         "mode": "markers",
         "name": "Experiment",
         "orientation": "v",
         "showlegend": true,
         "type": "scatter",
         "x": [
          37.427944276119774,
          39.6312634355761,
          40.05226531176375,
          22.605587337014736,
          38.368358039456695,
          39.65141362982979,
          40.12952821658086,
          40.46259994852176,
          39.4589476064467,
          38.79012355695468,
          39.214950038052045,
          40.641131265098984,
          36.84435362616173,
          42.471079745322,
          38.315028162404275,
          41.37199698199466,
          38.41962115052536,
          39.06222954978145,
          38.87301967150552,
          40.0338683320165,
          39.689014048141736,
          36.86879667066051,
          40.40819146059445,
          40.40678366602538,
          37.911829977307505,
          41.79586431075284,
          40.32690790699037,
          30.006583432742087,
          39.65287559320929,
          40.72575777600681,
          40.19918845368391,
          40.3332300963669,
          45.08448393849636,
          39.21941023228886,
          39.003016510527345,
          39.90500809171873,
          42.7860673379248,
          39.5880345528181,
          38.93411331433536,
          39.49222520771601,
          41.88995210928977,
          36.33816239053795,
          38.87531153324768,
          30.80403832880364,
          41.02722608173973,
          31.543479712847798,
          24.602881396104376,
          40.30647831336361,
          39.295474512306356,
          40.63938480775451,
          40.14312245696035,
          37.94324623795425,
          39.82399543677723,
          39.65409681977701,
          40.745373443040016,
          40.716207468581324,
          39.93542406828253,
          38.97424862741296,
          40.81584527145501,
          41.93541103822572,
          29.483087131212887,
          40.16927953530728,
          40.26171596694228,
          38.00098871201505,
          32.32418520383604,
          38.6848378741292,
          40.46603357430594,
          38.92414958070562,
          39.760745718739614,
          32.433183967369565
         ],
         "xaxis": "x",
         "y": [
          1.2919340798618237,
          -0.0124936433414209,
          -0.024128152531436662,
          -0.001854596739948208,
          -0.013644231291861176,
          -0.01269790787964692,
          -0.005298616862309952,
          -0.008219567076020829,
          -0.006874904312127654,
          -0.013748639569534708,
          -0.009016686860139029,
          -0.013499184142275326,
          -0.004835120715476783,
          -0.006764501772213781,
          -0.012813194267454557,
          -0.010646319800158243,
          -0.0036118669838223613,
          -0.010606483291488267,
          -0.0106600888141458,
          -0.01891613864339355,
          -0.008394765915538007,
          -0.0035854648722249403,
          -0.008797942815847396,
          -0.0035415596376490452,
          -0.004427119097379213,
          -0.00415505360658663,
          -0.006327472138165121,
          0.0027744632030554162,
          -0.006117060297697837,
          -0.00844335791368727,
          -0.0027483670097895384,
          -0.006061917000818758,
          -0.022292372349512132,
          -0.006255932047719014,
          -0.008413564969682277,
          -0.003896718534282365,
          -0.009160328655174188,
          -0.0042893127952850045,
          -0.009336773812778056,
          -0.009086960666272428,
          -0.00848460721333417,
          -0.002974062289173016,
          -0.010500641822455647,
          0.00102973910594725,
          -0.005253756709497117,
          0.001598828480434194,
          0.0008136364117356542,
          -0.01367849666431669,
          -0.0077243744639693985,
          -0.006502064964069215,
          -0.011396210002123985,
          -0.009480207571888766,
          -0.00972540471401903,
          -0.009145786236296685,
          -0.00752587416908182,
          -0.014192187092091996,
          -0.009522917144271574,
          -0.010624816304245948,
          -0.002791309991378796,
          -0.006702705949983451,
          0.005365059753411143,
          -0.01309026219248815,
          -0.008126416329680414,
          -0.009305260660371607,
          2.1513062481775096,
          -0.012165293765894081,
          -0.01035284059729547,
          -0.007544484990014192,
          -0.011482051928796493,
          2.0691770805810616
         ],
         "yaxis": "y"
        },
        {
         "customdata": [
          [
           "A3"
          ],
          [
           "A6"
          ],
          [
           "A9"
          ],
          [
           "A12"
          ],
          [
           "A24"
          ],
          [
           "B3"
          ],
          [
           "B6"
          ],
          [
           "B9"
          ],
          [
           "B12"
          ],
          [
           "B24"
          ],
          [
           "C3"
          ],
          [
           "C6"
          ],
          [
           "C9"
          ],
          [
           "C12"
          ],
          [
           "D3"
          ],
          [
           "D6"
          ],
          [
           "D9"
          ],
          [
           "D12"
          ],
          [
           "E3"
          ],
          [
           "E6"
          ],
          [
           "E9"
          ],
          [
           "E12"
          ],
          [
           "F3"
          ],
          [
           "F6"
          ],
          [
           "F9"
          ],
          [
           "F12"
          ],
          [
           "G3"
          ],
          [
           "G6"
          ],
          [
           "G9"
          ],
          [
           "G12"
          ],
          [
           "H3"
          ],
          [
           "H6"
          ],
          [
           "H9"
          ],
          [
           "H12"
          ],
          [
           "I3"
          ],
          [
           "I6"
          ],
          [
           "I9"
          ],
          [
           "I12"
          ],
          [
           "J3"
          ],
          [
           "J6"
          ],
          [
           "J9"
          ],
          [
           "J12"
          ],
          [
           "J18"
          ],
          [
           "K3"
          ],
          [
           "K6"
          ],
          [
           "K9"
          ],
          [
           "K12"
          ],
          [
           "L3"
          ],
          [
           "L6"
          ],
          [
           "L9"
          ],
          [
           "L12"
          ],
          [
           "L18"
          ],
          [
           "M3"
          ],
          [
           "M6"
          ],
          [
           "M9"
          ],
          [
           "M12"
          ],
          [
           "N3"
          ],
          [
           "N6"
          ],
          [
           "N9"
          ],
          [
           "N18"
          ],
          [
           "O3"
          ],
          [
           "O6"
          ],
          [
           "O9"
          ],
          [
           "O12"
          ],
          [
           "O24"
          ],
          [
           "P3"
          ],
          [
           "P6"
          ],
          [
           "P9"
          ],
          [
           "P18"
          ],
          [
           "P24"
          ]
         ],
         "hovertemplate": "Condition=PositiveControl<br>exponent=%{x}<br>amplitude=%{y}<br>well=%{customdata[0]}<extra></extra>",
         "legendgroup": "PositiveControl",
         "marker": {
          "color": "#00cc96",
          "symbol": "circle"
         },
         "mode": "markers",
         "name": "PositiveControl",
         "orientation": "v",
         "showlegend": true,
         "type": "scatter",
         "x": [
          29.293167006487774,
          25.93374085360841,
          26.21296483447385,
          27.69437583675303,
          41.845272338254354,
          27.055831510094443,
          25.96031962640606,
          25.33396510671575,
          26.777629085142497,
          41.39493172419554,
          27.60536125709506,
          25.967364485961514,
          25.63243394096009,
          23.978907037166586,
          28.78775080995718,
          25.242585993019976,
          24.801866358946352,
          27.855688659861876,
          28.061141097888047,
          27.373480274900132,
          25.24036901104555,
          27.29106656043233,
          25.336302559901014,
          26.782353293474326,
          24.485293009203378,
          28.084007028802603,
          25.59605164036099,
          26.821555713653435,
          24.91924748655318,
          26.011010687265912,
          25.87607556948289,
          25.80527844012143,
          26.24854084974027,
          24.839309832850066,
          27.831047475676264,
          25.569506454832638,
          25.713478875616037,
          24.981294461845312,
          25.39987555291117,
          25.292202511729933,
          25.669484392517322,
          25.15178662388089,
          34.2282373291084,
          24.53373196664679,
          25.28815299366318,
          27.362441810366523,
          27.764547567895107,
          27.48302295459225,
          26.06910415880324,
          24.324324383960285,
          25.471333426162968,
          34.65614443359109,
          26.35764258819263,
          25.19784873395407,
          25.642529062717287,
          26.801529313494516,
          25.477686637739346,
          27.65637401475824,
          25.032843713602617,
          35.16152241860838,
          29.297798127436906,
          27.51771440576659,
          25.835367200407813,
          25.474477059716815,
          31.956652941340902,
          27.49304543286865,
          25.470308933831703,
          25.73588012621523,
          34.864013789173825,
          31.974419562189237
         ],
         "xaxis": "x",
         "y": [
          2.2109482188962835,
          2.1450532628715684,
          2.090890093303879,
          1.8094642421278166,
          0.12322049425128344,
          1.9052151095179741,
          2.2494000045226943,
          2.300816485918854,
          2.223239114934133,
          0.28387632125776807,
          1.85452101586922,
          2.03620740610278,
          2.0137094697971065,
          2.405481021299868,
          1.639122877340214,
          2.2774874157325113,
          2.359702974683338,
          1.8530801612508663,
          1.6818114868501801,
          1.8439907945767449,
          2.239219406377687,
          2.4374227779935964,
          2.2006537751277038,
          2.021279207810193,
          2.4155733375551467,
          2.1879440607160516,
          2.1153437092149145,
          2.220138386856908,
          2.311631858706634,
          2.297782129781288,
          2.1915690043457436,
          2.099978960393713,
          2.1572341939226862,
          2.300704130033819,
          1.8029631642202242,
          2.1493532283596353,
          2.1592058273206423,
          2.2117510542771237,
          2.1390568387933824,
          2.1614558701053848,
          2.1298428141603014,
          2.2922090570665703,
          1.9859759715477765,
          2.2080409420204696,
          2.0499300419386413,
          2.3845700354741597,
          2.0332893250547204,
          1.9147916841585952,
          2.313852615724695,
          2.303240520962644,
          2.2325473298248237,
          2.023579738501343,
          1.9541509373722004,
          2.1795507761401307,
          2.0116305507330385,
          1.8929876033943924,
          2.146366579735417,
          1.9695683495236658,
          2.3375825604372356,
          1.9868832294345868,
          2.2489277762323177,
          1.8596210795025763,
          2.106677134303195,
          2.163638513455659,
          1.984485548794379,
          1.8433551662479888,
          2.2849751088774917,
          2.120000865143483,
          1.971570711752885,
          1.9522345219150254
         ],
         "yaxis": "y"
        }
       ],
       "layout": {
        "legend": {
         "title": {
          "text": "Condition"
         },
         "tracegroupgap": 0
        },
        "margin": {
         "t": 60
        },
        "template": {
         "data": {
          "bar": [
           {
            "error_x": {
             "color": "#2a3f5f"
            },
            "error_y": {
             "color": "#2a3f5f"
            },
            "marker": {
             "line": {
              "color": "#E5ECF6",
              "width": 0.5
             }
            },
            "type": "bar"
           }
          ],
          "barpolar": [
           {
            "marker": {
             "line": {
              "color": "#E5ECF6",
              "width": 0.5
             }
            },
            "type": "barpolar"
           }
          ],
          "carpet": [
           {
            "aaxis": {
             "endlinecolor": "#2a3f5f",
             "gridcolor": "white",
             "linecolor": "white",
             "minorgridcolor": "white",
             "startlinecolor": "#2a3f5f"
            },
            "baxis": {
             "endlinecolor": "#2a3f5f",
             "gridcolor": "white",
             "linecolor": "white",
             "minorgridcolor": "white",
             "startlinecolor": "#2a3f5f"
            },
            "type": "carpet"
           }
          ],
          "choropleth": [
           {
            "colorbar": {
             "outlinewidth": 0,
             "ticks": ""
            },
            "type": "choropleth"
           }
          ],
          "contour": [
           {
            "colorbar": {
             "outlinewidth": 0,
             "ticks": ""
            },
            "colorscale": [
             [
              0,
              "#0d0887"
             ],
             [
              0.1111111111111111,
              "#46039f"
             ],
             [
              0.2222222222222222,
              "#7201a8"
             ],
             [
              0.3333333333333333,
              "#9c179e"
             ],
             [
              0.4444444444444444,
              "#bd3786"
             ],
             [
              0.5555555555555556,
              "#d8576b"
             ],
             [
              0.6666666666666666,
              "#ed7953"
             ],
             [
              0.7777777777777778,
              "#fb9f3a"
             ],
             [
              0.8888888888888888,
              "#fdca26"
             ],
             [
              1,
              "#f0f921"
             ]
            ],
            "type": "contour"
           }
          ],
          "contourcarpet": [
           {
            "colorbar": {
             "outlinewidth": 0,
             "ticks": ""
            },
            "type": "contourcarpet"
           }
          ],
          "heatmap": [
           {
            "colorbar": {
             "outlinewidth": 0,
             "ticks": ""
            },
            "colorscale": [
             [
              0,
              "#0d0887"
             ],
             [
              0.1111111111111111,
              "#46039f"
             ],
             [
              0.2222222222222222,
              "#7201a8"
             ],
             [
              0.3333333333333333,
              "#9c179e"
             ],
             [
              0.4444444444444444,
              "#bd3786"
             ],
             [
              0.5555555555555556,
              "#d8576b"
             ],
             [
              0.6666666666666666,
              "#ed7953"
             ],
             [
              0.7777777777777778,
              "#fb9f3a"
             ],
             [
              0.8888888888888888,
              "#fdca26"
             ],
             [
              1,
              "#f0f921"
             ]
            ],
            "type": "heatmap"
           }
          ],
          "heatmapgl": [
           {
            "colorbar": {
             "outlinewidth": 0,
             "ticks": ""
            },
            "colorscale": [
             [
              0,
              "#0d0887"
             ],
             [
              0.1111111111111111,
              "#46039f"
             ],
             [
              0.2222222222222222,
              "#7201a8"
             ],
             [
              0.3333333333333333,
              "#9c179e"
             ],
             [
              0.4444444444444444,
              "#bd3786"
             ],
             [
              0.5555555555555556,
              "#d8576b"
             ],
             [
              0.6666666666666666,
              "#ed7953"
             ],
             [
              0.7777777777777778,
              "#fb9f3a"
             ],
             [
              0.8888888888888888,
              "#fdca26"
             ],
             [
              1,
              "#f0f921"
             ]
            ],
            "type": "heatmapgl"
           }
          ],
          "histogram": [
           {
            "marker": {
             "colorbar": {
              "outlinewidth": 0,
              "ticks": ""
             }
            },
            "type": "histogram"
           }
          ],
          "histogram2d": [
           {
            "colorbar": {
             "outlinewidth": 0,
             "ticks": ""
            },
            "colorscale": [
             [
              0,
              "#0d0887"
             ],
             [
              0.1111111111111111,
              "#46039f"
             ],
             [
              0.2222222222222222,
              "#7201a8"
             ],
             [
              0.3333333333333333,
              "#9c179e"
             ],
             [
              0.4444444444444444,
              "#bd3786"
             ],
             [
              0.5555555555555556,
              "#d8576b"
             ],
             [
              0.6666666666666666,
              "#ed7953"
             ],
             [
              0.7777777777777778,
              "#fb9f3a"
             ],
             [
              0.8888888888888888,
              "#fdca26"
             ],
             [
              1,
              "#f0f921"
             ]
            ],
            "type": "histogram2d"
           }
          ],
          "histogram2dcontour": [
           {
            "colorbar": {
             "outlinewidth": 0,
             "ticks": ""
            },
            "colorscale": [
             [
              0,
              "#0d0887"
             ],
             [
              0.1111111111111111,
              "#46039f"
             ],
             [
              0.2222222222222222,
              "#7201a8"
             ],
             [
              0.3333333333333333,
              "#9c179e"
             ],
             [
              0.4444444444444444,
              "#bd3786"
             ],
             [
              0.5555555555555556,
              "#d8576b"
             ],
             [
              0.6666666666666666,
              "#ed7953"
             ],
             [
              0.7777777777777778,
              "#fb9f3a"
             ],
             [
              0.8888888888888888,
              "#fdca26"
             ],
             [
              1,
              "#f0f921"
             ]
            ],
            "type": "histogram2dcontour"
           }
          ],
          "mesh3d": [
           {
            "colorbar": {
             "outlinewidth": 0,
             "ticks": ""
            },
            "type": "mesh3d"
           }
          ],
          "parcoords": [
           {
            "line": {
             "colorbar": {
              "outlinewidth": 0,
              "ticks": ""
             }
            },
            "type": "parcoords"
           }
          ],
          "pie": [
           {
            "automargin": true,
            "type": "pie"
           }
          ],
          "scatter": [
           {
            "marker": {
             "colorbar": {
              "outlinewidth": 0,
              "ticks": ""
             }
            },
            "type": "scatter"
           }
          ],
          "scatter3d": [
           {
            "line": {
             "colorbar": {
              "outlinewidth": 0,
              "ticks": ""
             }
            },
            "marker": {
             "colorbar": {
              "outlinewidth": 0,
              "ticks": ""
             }
            },
            "type": "scatter3d"
           }
          ],
          "scattercarpet": [
           {
            "marker": {
             "colorbar": {
              "outlinewidth": 0,
              "ticks": ""
             }
            },
            "type": "scattercarpet"
           }
          ],
          "scattergeo": [
           {
            "marker": {
             "colorbar": {
              "outlinewidth": 0,
              "ticks": ""
             }
            },
            "type": "scattergeo"
           }
          ],
          "scattergl": [
           {
            "marker": {
             "colorbar": {
              "outlinewidth": 0,
              "ticks": ""
             }
            },
            "type": "scattergl"
           }
          ],
          "scattermapbox": [
           {
            "marker": {
             "colorbar": {
              "outlinewidth": 0,
              "ticks": ""
             }
            },
            "type": "scattermapbox"
           }
          ],
          "scatterpolar": [
           {
            "marker": {
             "colorbar": {
              "outlinewidth": 0,
              "ticks": ""
             }
            },
            "type": "scatterpolar"
           }
          ],
          "scatterpolargl": [
           {
            "marker": {
             "colorbar": {
              "outlinewidth": 0,
              "ticks": ""
             }
            },
            "type": "scatterpolargl"
           }
          ],
          "scatterternary": [
           {
            "marker": {
             "colorbar": {
              "outlinewidth": 0,
              "ticks": ""
             }
            },
            "type": "scatterternary"
           }
          ],
          "surface": [
           {
            "colorbar": {
             "outlinewidth": 0,
             "ticks": ""
            },
            "colorscale": [
             [
              0,
              "#0d0887"
             ],
             [
              0.1111111111111111,
              "#46039f"
             ],
             [
              0.2222222222222222,
              "#7201a8"
             ],
             [
              0.3333333333333333,
              "#9c179e"
             ],
             [
              0.4444444444444444,
              "#bd3786"
             ],
             [
              0.5555555555555556,
              "#d8576b"
             ],
             [
              0.6666666666666666,
              "#ed7953"
             ],
             [
              0.7777777777777778,
              "#fb9f3a"
             ],
             [
              0.8888888888888888,
              "#fdca26"
             ],
             [
              1,
              "#f0f921"
             ]
            ],
            "type": "surface"
           }
          ],
          "table": [
           {
            "cells": {
             "fill": {
              "color": "#EBF0F8"
             },
             "line": {
              "color": "white"
             }
            },
            "header": {
             "fill": {
              "color": "#C8D4E3"
             },
             "line": {
              "color": "white"
             }
            },
            "type": "table"
           }
          ]
         },
         "layout": {
          "annotationdefaults": {
           "arrowcolor": "#2a3f5f",
           "arrowhead": 0,
           "arrowwidth": 1
          },
          "coloraxis": {
           "colorbar": {
            "outlinewidth": 0,
            "ticks": ""
           }
          },
          "colorscale": {
           "diverging": [
            [
             0,
             "#8e0152"
            ],
            [
             0.1,
             "#c51b7d"
            ],
            [
             0.2,
             "#de77ae"
            ],
            [
             0.3,
             "#f1b6da"
            ],
            [
             0.4,
             "#fde0ef"
            ],
            [
             0.5,
             "#f7f7f7"
            ],
            [
             0.6,
             "#e6f5d0"
            ],
            [
             0.7,
             "#b8e186"
            ],
            [
             0.8,
             "#7fbc41"
            ],
            [
             0.9,
             "#4d9221"
            ],
            [
             1,
             "#276419"
            ]
           ],
           "sequential": [
            [
             0,
             "#0d0887"
            ],
            [
             0.1111111111111111,
             "#46039f"
            ],
            [
             0.2222222222222222,
             "#7201a8"
            ],
            [
             0.3333333333333333,
             "#9c179e"
            ],
            [
             0.4444444444444444,
             "#bd3786"
            ],
            [
             0.5555555555555556,
             "#d8576b"
            ],
            [
             0.6666666666666666,
             "#ed7953"
            ],
            [
             0.7777777777777778,
             "#fb9f3a"
            ],
            [
             0.8888888888888888,
             "#fdca26"
            ],
            [
             1,
             "#f0f921"
            ]
           ],
           "sequentialminus": [
            [
             0,
             "#0d0887"
            ],
            [
             0.1111111111111111,
             "#46039f"
            ],
            [
             0.2222222222222222,
             "#7201a8"
            ],
            [
             0.3333333333333333,
             "#9c179e"
            ],
            [
             0.4444444444444444,
             "#bd3786"
            ],
            [
             0.5555555555555556,
             "#d8576b"
            ],
            [
             0.6666666666666666,
             "#ed7953"
            ],
            [
             0.7777777777777778,
             "#fb9f3a"
            ],
            [
             0.8888888888888888,
             "#fdca26"
            ],
            [
             1,
             "#f0f921"
            ]
           ]
          },
          "colorway": [
           "#636efa",
           "#EF553B",
           "#00cc96",
           "#ab63fa",
           "#FFA15A",
           "#19d3f3",
           "#FF6692",
           "#B6E880",
           "#FF97FF",
           "#FECB52"
          ],
          "font": {
           "color": "#2a3f5f"
          },
          "geo": {
           "bgcolor": "white",
           "lakecolor": "white",
           "landcolor": "#E5ECF6",
           "showlakes": true,
           "showland": true,
           "subunitcolor": "white"
          },
          "hoverlabel": {
           "align": "left"
          },
          "hovermode": "closest",
          "mapbox": {
           "style": "light"
          },
          "paper_bgcolor": "white",
          "plot_bgcolor": "#E5ECF6",
          "polar": {
           "angularaxis": {
            "gridcolor": "white",
            "linecolor": "white",
            "ticks": ""
           },
           "bgcolor": "#E5ECF6",
           "radialaxis": {
            "gridcolor": "white",
            "linecolor": "white",
            "ticks": ""
           }
          },
          "scene": {
           "xaxis": {
            "backgroundcolor": "#E5ECF6",
            "gridcolor": "white",
            "gridwidth": 2,
            "linecolor": "white",
            "showbackground": true,
            "ticks": "",
            "zerolinecolor": "white"
           },
           "yaxis": {
            "backgroundcolor": "#E5ECF6",
            "gridcolor": "white",
            "gridwidth": 2,
            "linecolor": "white",
            "showbackground": true,
            "ticks": "",
            "zerolinecolor": "white"
           },
           "zaxis": {
            "backgroundcolor": "#E5ECF6",
            "gridcolor": "white",
            "gridwidth": 2,
            "linecolor": "white",
            "showbackground": true,
            "ticks": "",
            "zerolinecolor": "white"
           }
          },
          "shapedefaults": {
           "line": {
            "color": "#2a3f5f"
           }
          },
          "ternary": {
           "aaxis": {
            "gridcolor": "white",
            "linecolor": "white",
            "ticks": ""
           },
           "baxis": {
            "gridcolor": "white",
            "linecolor": "white",
            "ticks": ""
           },
           "bgcolor": "#E5ECF6",
           "caxis": {
            "gridcolor": "white",
            "linecolor": "white",
            "ticks": ""
           }
          },
          "title": {
           "x": 0.05
          },
          "xaxis": {
           "automargin": true,
           "gridcolor": "white",
           "linecolor": "white",
           "ticks": "",
           "title": {
            "standoff": 15
           },
           "zerolinecolor": "white",
           "zerolinewidth": 2
          },
          "yaxis": {
           "automargin": true,
           "gridcolor": "white",
           "linecolor": "white",
           "ticks": "",
           "title": {
            "standoff": 15
           },
           "zerolinecolor": "white",
           "zerolinewidth": 2
          }
         }
        },
        "xaxis": {
         "anchor": "y",
         "domain": [
          0,
          1
         ],
         "title": {
          "text": "exponent"
         }
        },
        "yaxis": {
         "anchor": "x",
         "domain": [
          0,
          1
         ],
         "title": {
          "text": "amplitude"
         }
        }
       }
      },
      "text/html": [
       "<div>                            <div id=\"edce547f-2764-470e-8a1f-b298477c8f67\" class=\"plotly-graph-div\" style=\"height:525px; width:100%;\"></div>            <script type=\"text/javascript\">                require([\"plotly\"], function(Plotly) {                    window.PLOTLYENV=window.PLOTLYENV || {};                                    if (document.getElementById(\"edce547f-2764-470e-8a1f-b298477c8f67\")) {                    Plotly.newPlot(                        \"edce547f-2764-470e-8a1f-b298477c8f67\",                        [{\"customdata\": [[\"A1\"], [\"A4\"], [\"A7\"], [\"A10\"], [\"A22\"], [\"B1\"], [\"B4\"], [\"B7\"], [\"B10\"], [\"B22\"], [\"C1\"], [\"C4\"], [\"C7\"], [\"C10\"], [\"D1\"], [\"D4\"], [\"D7\"], [\"D10\"], [\"E1\"], [\"E4\"], [\"E7\"], [\"E10\"], [\"F1\"], [\"F4\"], [\"F7\"], [\"F10\"], [\"G1\"], [\"G4\"], [\"G7\"], [\"G10\"], [\"H1\"], [\"H4\"], [\"H7\"], [\"H10\"], [\"I1\"], [\"I4\"], [\"I7\"], [\"I10\"], [\"J1\"], [\"J4\"], [\"J7\"], [\"J10\"], [\"J16\"], [\"K1\"], [\"K4\"], [\"K7\"], [\"K10\"], [\"L1\"], [\"L4\"], [\"L7\"], [\"L10\"], [\"L16\"], [\"M1\"], [\"M4\"], [\"M7\"], [\"M10\"], [\"N1\"], [\"N4\"], [\"N7\"], [\"N16\"], [\"O1\"], [\"O4\"], [\"O7\"], [\"O10\"], [\"O22\"], [\"P1\"], [\"P4\"], [\"P7\"], [\"P16\"], [\"P22\"]], \"hovertemplate\": \"Condition=NegativeControl<br>exponent=%{x}<br>amplitude=%{y}<br>well=%{customdata[0]}<extra></extra>\", \"legendgroup\": \"NegativeControl\", \"marker\": {\"color\": \"#636efa\", \"symbol\": \"circle\"}, \"mode\": \"markers\", \"name\": \"NegativeControl\", \"orientation\": \"v\", \"showlegend\": true, \"type\": \"scatter\", \"x\": [39.440906620038675, 39.23930528444257, 38.501132493409756, 39.43932184121716, 38.44342183326008, 40.424419622102384, 40.472680618271696, 38.5412450592496, 39.26223916068812, 38.017880514129295, 38.17496073259959, 40.27860270806673, 38.89416760475524, 38.8700559535175, 37.3718412897273, 39.29594171286439, 40.27431758376861, 27.91199877813612, 38.721055835675955, 38.931759278175385, 38.93390336114468, 40.11671482723715, 39.58011954319239, 39.21913223706322, 38.90727418426856, 43.872336526685174, 41.050657241342535, 39.654269902674464, 42.41965153281886, 41.15720070965495, 40.64325367722662, 36.80423768638683, 38.07633228662429, 39.05124233217815, 38.68424782414189, 40.968392263673344, 38.33570911474698, 38.38590124119153, 39.55235604234234, 38.69449985161412, 41.35612310462473, 41.112958580286644, 37.715292743827874, 40.86166887123393, 39.151835456208026, 33.232140967948894, 40.47580256653426, 39.52452627024814, 41.03653572783217, 41.838491598548664, 40.80373588798057, 35.739128529421464, 39.80996283890297, 40.38725375522529, 38.534862225548366, 39.284125848406454, 39.53322509138371, 39.85810564492349, 40.880744724881225, 38.46656415855501, 35.38760432234583, 39.652780180845035, 39.63748426496886, 38.92130545467416, 33.285247166670516, 41.018851589855544, 38.51989704598816, 38.905918612552576, 37.355685234085826, 33.40848870977238], \"xaxis\": \"x\", \"y\": [0.478787731251923, -0.016252575483904335, -0.009896109232223801, -0.020097432044584394, -0.025308273600373517, -0.01942671328056925, -0.015839981165641417, -0.011366720312753889, -0.010495141543652537, -0.018284435090631507, -0.015108499667709089, -0.017961067411302788, -0.008271455919135145, -0.0034029508054194504, -0.01520483915030317, -0.009915694961224733, -0.004983269764007043, 0.0014803694021270145, -0.014685871097121961, -0.01809958114502381, -0.008511419041343858, -0.004976154837481869, -0.0155594380075264, -0.013957826699448821, -0.006852016265305687, -0.019815137524444543, -0.014208676908751324, -0.0021211955712824833, -0.01140118087715165, -0.015118532725785113, -0.012745570767658398, -0.0036179213063054568, -0.004682553127960236, -0.007083134796978917, -0.014654212095331435, -0.013016440190761402, -0.01418017598807566, -0.0024286177682744737, -0.010387414154999634, -0.008802173430615803, -0.008596352432447801, -0.0037258974792961116, -0.012744966679853321, -0.0015491130190145948, -0.009637172585177661, 0.0017464274108236766, -0.005751427005414842, -0.012713999573126723, -0.007598907558159733, -0.011282043712495636, -0.01212184004886312, -0.009724828789217873, -0.009670387794458134, -0.01103329913120167, -0.011163317156005529, -0.021004193725279414, -0.0065070376421760105, -0.0077097420588558225, -0.008578859110082389, -0.010273456221809429, 0.0033868856863834536, -0.010528373609897185, -0.010620262796992526, -0.011954405939398945, 1.7494395056800585, -0.014964610474685003, -0.00701268299715037, -0.0064570086171909565, -0.010900051283316768, 1.7043033911719736], \"yaxis\": \"y\"}, {\"customdata\": [[\"A2\"], [\"A5\"], [\"A8\"], [\"A11\"], [\"A23\"], [\"B2\"], [\"B5\"], [\"B8\"], [\"B11\"], [\"B23\"], [\"C2\"], [\"C5\"], [\"C8\"], [\"C11\"], [\"D2\"], [\"D5\"], [\"D8\"], [\"D11\"], [\"E2\"], [\"E5\"], [\"E8\"], [\"E11\"], [\"F2\"], [\"F5\"], [\"F8\"], [\"F11\"], [\"G2\"], [\"G5\"], [\"G8\"], [\"G11\"], [\"H2\"], [\"H5\"], [\"H8\"], [\"H11\"], [\"I2\"], [\"I5\"], [\"I8\"], [\"I11\"], [\"J2\"], [\"J5\"], [\"J8\"], [\"J11\"], [\"J17\"], [\"K2\"], [\"K5\"], [\"K8\"], [\"K11\"], [\"L2\"], [\"L5\"], [\"L8\"], [\"L11\"], [\"L17\"], [\"M2\"], [\"M5\"], [\"M8\"], [\"M11\"], [\"N2\"], [\"N5\"], [\"N8\"], [\"N17\"], [\"O2\"], [\"O5\"], [\"O8\"], [\"O11\"], [\"O23\"], [\"P2\"], [\"P5\"], [\"P8\"], [\"P17\"], [\"P23\"]], \"hovertemplate\": \"Condition=Experiment<br>exponent=%{x}<br>amplitude=%{y}<br>well=%{customdata[0]}<extra></extra>\", \"legendgroup\": \"Experiment\", \"marker\": {\"color\": \"#EF553B\", \"symbol\": \"circle\"}, \"mode\": \"markers\", \"name\": \"Experiment\", \"orientation\": \"v\", \"showlegend\": true, \"type\": \"scatter\", \"x\": [37.427944276119774, 39.6312634355761, 40.05226531176375, 22.605587337014736, 38.368358039456695, 39.65141362982979, 40.12952821658086, 40.46259994852176, 39.4589476064467, 38.79012355695468, 39.214950038052045, 40.641131265098984, 36.84435362616173, 42.471079745322, 38.315028162404275, 41.37199698199466, 38.41962115052536, 39.06222954978145, 38.87301967150552, 40.0338683320165, 39.689014048141736, 36.86879667066051, 40.40819146059445, 40.40678366602538, 37.911829977307505, 41.79586431075284, 40.32690790699037, 30.006583432742087, 39.65287559320929, 40.72575777600681, 40.19918845368391, 40.3332300963669, 45.08448393849636, 39.21941023228886, 39.003016510527345, 39.90500809171873, 42.7860673379248, 39.5880345528181, 38.93411331433536, 39.49222520771601, 41.88995210928977, 36.33816239053795, 38.87531153324768, 30.80403832880364, 41.02722608173973, 31.543479712847798, 24.602881396104376, 40.30647831336361, 39.295474512306356, 40.63938480775451, 40.14312245696035, 37.94324623795425, 39.82399543677723, 39.65409681977701, 40.745373443040016, 40.716207468581324, 39.93542406828253, 38.97424862741296, 40.81584527145501, 41.93541103822572, 29.483087131212887, 40.16927953530728, 40.26171596694228, 38.00098871201505, 32.32418520383604, 38.6848378741292, 40.46603357430594, 38.92414958070562, 39.760745718739614, 32.433183967369565], \"xaxis\": \"x\", \"y\": [1.2919340798618237, -0.0124936433414209, -0.024128152531436662, -0.001854596739948208, -0.013644231291861176, -0.01269790787964692, -0.005298616862309952, -0.008219567076020829, -0.006874904312127654, -0.013748639569534708, -0.009016686860139029, -0.013499184142275326, -0.004835120715476783, -0.006764501772213781, -0.012813194267454557, -0.010646319800158243, -0.0036118669838223613, -0.010606483291488267, -0.0106600888141458, -0.01891613864339355, -0.008394765915538007, -0.0035854648722249403, -0.008797942815847396, -0.0035415596376490452, -0.004427119097379213, -0.00415505360658663, -0.006327472138165121, 0.0027744632030554162, -0.006117060297697837, -0.00844335791368727, -0.0027483670097895384, -0.006061917000818758, -0.022292372349512132, -0.006255932047719014, -0.008413564969682277, -0.003896718534282365, -0.009160328655174188, -0.0042893127952850045, -0.009336773812778056, -0.009086960666272428, -0.00848460721333417, -0.002974062289173016, -0.010500641822455647, 0.00102973910594725, -0.005253756709497117, 0.001598828480434194, 0.0008136364117356542, -0.01367849666431669, -0.0077243744639693985, -0.006502064964069215, -0.011396210002123985, -0.009480207571888766, -0.00972540471401903, -0.009145786236296685, -0.00752587416908182, -0.014192187092091996, -0.009522917144271574, -0.010624816304245948, -0.002791309991378796, -0.006702705949983451, 0.005365059753411143, -0.01309026219248815, -0.008126416329680414, -0.009305260660371607, 2.1513062481775096, -0.012165293765894081, -0.01035284059729547, -0.007544484990014192, -0.011482051928796493, 2.0691770805810616], \"yaxis\": \"y\"}, {\"customdata\": [[\"A3\"], [\"A6\"], [\"A9\"], [\"A12\"], [\"A24\"], [\"B3\"], [\"B6\"], [\"B9\"], [\"B12\"], [\"B24\"], [\"C3\"], [\"C6\"], [\"C9\"], [\"C12\"], [\"D3\"], [\"D6\"], [\"D9\"], [\"D12\"], [\"E3\"], [\"E6\"], [\"E9\"], [\"E12\"], [\"F3\"], [\"F6\"], [\"F9\"], [\"F12\"], [\"G3\"], [\"G6\"], [\"G9\"], [\"G12\"], [\"H3\"], [\"H6\"], [\"H9\"], [\"H12\"], [\"I3\"], [\"I6\"], [\"I9\"], [\"I12\"], [\"J3\"], [\"J6\"], [\"J9\"], [\"J12\"], [\"J18\"], [\"K3\"], [\"K6\"], [\"K9\"], [\"K12\"], [\"L3\"], [\"L6\"], [\"L9\"], [\"L12\"], [\"L18\"], [\"M3\"], [\"M6\"], [\"M9\"], [\"M12\"], [\"N3\"], [\"N6\"], [\"N9\"], [\"N18\"], [\"O3\"], [\"O6\"], [\"O9\"], [\"O12\"], [\"O24\"], [\"P3\"], [\"P6\"], [\"P9\"], [\"P18\"], [\"P24\"]], \"hovertemplate\": \"Condition=PositiveControl<br>exponent=%{x}<br>amplitude=%{y}<br>well=%{customdata[0]}<extra></extra>\", \"legendgroup\": \"PositiveControl\", \"marker\": {\"color\": \"#00cc96\", \"symbol\": \"circle\"}, \"mode\": \"markers\", \"name\": \"PositiveControl\", \"orientation\": \"v\", \"showlegend\": true, \"type\": \"scatter\", \"x\": [29.293167006487774, 25.93374085360841, 26.21296483447385, 27.69437583675303, 41.845272338254354, 27.055831510094443, 25.96031962640606, 25.33396510671575, 26.777629085142497, 41.39493172419554, 27.60536125709506, 25.967364485961514, 25.63243394096009, 23.978907037166586, 28.78775080995718, 25.242585993019976, 24.801866358946352, 27.855688659861876, 28.061141097888047, 27.373480274900132, 25.24036901104555, 27.29106656043233, 25.336302559901014, 26.782353293474326, 24.485293009203378, 28.084007028802603, 25.59605164036099, 26.821555713653435, 24.91924748655318, 26.011010687265912, 25.87607556948289, 25.80527844012143, 26.24854084974027, 24.839309832850066, 27.831047475676264, 25.569506454832638, 25.713478875616037, 24.981294461845312, 25.39987555291117, 25.292202511729933, 25.669484392517322, 25.15178662388089, 34.2282373291084, 24.53373196664679, 25.28815299366318, 27.362441810366523, 27.764547567895107, 27.48302295459225, 26.06910415880324, 24.324324383960285, 25.471333426162968, 34.65614443359109, 26.35764258819263, 25.19784873395407, 25.642529062717287, 26.801529313494516, 25.477686637739346, 27.65637401475824, 25.032843713602617, 35.16152241860838, 29.297798127436906, 27.51771440576659, 25.835367200407813, 25.474477059716815, 31.956652941340902, 27.49304543286865, 25.470308933831703, 25.73588012621523, 34.864013789173825, 31.974419562189237], \"xaxis\": \"x\", \"y\": [2.2109482188962835, 2.1450532628715684, 2.090890093303879, 1.8094642421278166, 0.12322049425128344, 1.9052151095179741, 2.2494000045226943, 2.300816485918854, 2.223239114934133, 0.28387632125776807, 1.85452101586922, 2.03620740610278, 2.0137094697971065, 2.405481021299868, 1.639122877340214, 2.2774874157325113, 2.359702974683338, 1.8530801612508663, 1.6818114868501801, 1.8439907945767449, 2.239219406377687, 2.4374227779935964, 2.2006537751277038, 2.021279207810193, 2.4155733375551467, 2.1879440607160516, 2.1153437092149145, 2.220138386856908, 2.311631858706634, 2.297782129781288, 2.1915690043457436, 2.099978960393713, 2.1572341939226862, 2.300704130033819, 1.8029631642202242, 2.1493532283596353, 2.1592058273206423, 2.2117510542771237, 2.1390568387933824, 2.1614558701053848, 2.1298428141603014, 2.2922090570665703, 1.9859759715477765, 2.2080409420204696, 2.0499300419386413, 2.3845700354741597, 2.0332893250547204, 1.9147916841585952, 2.313852615724695, 2.303240520962644, 2.2325473298248237, 2.023579738501343, 1.9541509373722004, 2.1795507761401307, 2.0116305507330385, 1.8929876033943924, 2.146366579735417, 1.9695683495236658, 2.3375825604372356, 1.9868832294345868, 2.2489277762323177, 1.8596210795025763, 2.106677134303195, 2.163638513455659, 1.984485548794379, 1.8433551662479888, 2.2849751088774917, 2.120000865143483, 1.971570711752885, 1.9522345219150254], \"yaxis\": \"y\"}],                        {\"legend\": {\"title\": {\"text\": \"Condition\"}, \"tracegroupgap\": 0}, \"margin\": {\"t\": 60}, \"template\": {\"data\": {\"bar\": [{\"error_x\": {\"color\": \"#2a3f5f\"}, \"error_y\": {\"color\": \"#2a3f5f\"}, \"marker\": {\"line\": {\"color\": \"#E5ECF6\", \"width\": 0.5}}, \"type\": \"bar\"}], \"barpolar\": [{\"marker\": {\"line\": {\"color\": \"#E5ECF6\", \"width\": 0.5}}, \"type\": \"barpolar\"}], \"carpet\": [{\"aaxis\": {\"endlinecolor\": \"#2a3f5f\", \"gridcolor\": \"white\", \"linecolor\": \"white\", \"minorgridcolor\": \"white\", \"startlinecolor\": \"#2a3f5f\"}, \"baxis\": {\"endlinecolor\": \"#2a3f5f\", \"gridcolor\": \"white\", \"linecolor\": \"white\", \"minorgridcolor\": \"white\", \"startlinecolor\": \"#2a3f5f\"}, \"type\": \"carpet\"}], \"choropleth\": [{\"colorbar\": {\"outlinewidth\": 0, \"ticks\": \"\"}, \"type\": \"choropleth\"}], \"contour\": [{\"colorbar\": {\"outlinewidth\": 0, \"ticks\": \"\"}, \"colorscale\": [[0.0, \"#0d0887\"], [0.1111111111111111, \"#46039f\"], [0.2222222222222222, \"#7201a8\"], [0.3333333333333333, \"#9c179e\"], [0.4444444444444444, \"#bd3786\"], [0.5555555555555556, \"#d8576b\"], [0.6666666666666666, \"#ed7953\"], [0.7777777777777778, \"#fb9f3a\"], [0.8888888888888888, \"#fdca26\"], [1.0, \"#f0f921\"]], \"type\": \"contour\"}], \"contourcarpet\": [{\"colorbar\": {\"outlinewidth\": 0, \"ticks\": \"\"}, \"type\": \"contourcarpet\"}], \"heatmap\": [{\"colorbar\": {\"outlinewidth\": 0, \"ticks\": \"\"}, \"colorscale\": [[0.0, \"#0d0887\"], [0.1111111111111111, \"#46039f\"], [0.2222222222222222, \"#7201a8\"], [0.3333333333333333, \"#9c179e\"], [0.4444444444444444, \"#bd3786\"], [0.5555555555555556, \"#d8576b\"], [0.6666666666666666, \"#ed7953\"], [0.7777777777777778, \"#fb9f3a\"], [0.8888888888888888, \"#fdca26\"], [1.0, \"#f0f921\"]], \"type\": \"heatmap\"}], \"heatmapgl\": [{\"colorbar\": {\"outlinewidth\": 0, \"ticks\": \"\"}, \"colorscale\": [[0.0, \"#0d0887\"], [0.1111111111111111, \"#46039f\"], [0.2222222222222222, \"#7201a8\"], [0.3333333333333333, \"#9c179e\"], [0.4444444444444444, \"#bd3786\"], [0.5555555555555556, \"#d8576b\"], [0.6666666666666666, \"#ed7953\"], [0.7777777777777778, \"#fb9f3a\"], [0.8888888888888888, \"#fdca26\"], [1.0, \"#f0f921\"]], \"type\": \"heatmapgl\"}], \"histogram\": [{\"marker\": {\"colorbar\": {\"outlinewidth\": 0, \"ticks\": \"\"}}, \"type\": \"histogram\"}], \"histogram2d\": [{\"colorbar\": {\"outlinewidth\": 0, \"ticks\": \"\"}, \"colorscale\": [[0.0, \"#0d0887\"], [0.1111111111111111, \"#46039f\"], [0.2222222222222222, \"#7201a8\"], [0.3333333333333333, \"#9c179e\"], [0.4444444444444444, \"#bd3786\"], [0.5555555555555556, \"#d8576b\"], [0.6666666666666666, \"#ed7953\"], [0.7777777777777778, \"#fb9f3a\"], [0.8888888888888888, \"#fdca26\"], [1.0, \"#f0f921\"]], \"type\": \"histogram2d\"}], \"histogram2dcontour\": [{\"colorbar\": {\"outlinewidth\": 0, \"ticks\": \"\"}, \"colorscale\": [[0.0, \"#0d0887\"], [0.1111111111111111, \"#46039f\"], [0.2222222222222222, \"#7201a8\"], [0.3333333333333333, \"#9c179e\"], [0.4444444444444444, \"#bd3786\"], [0.5555555555555556, \"#d8576b\"], [0.6666666666666666, \"#ed7953\"], [0.7777777777777778, \"#fb9f3a\"], [0.8888888888888888, \"#fdca26\"], [1.0, \"#f0f921\"]], \"type\": \"histogram2dcontour\"}], \"mesh3d\": [{\"colorbar\": {\"outlinewidth\": 0, \"ticks\": \"\"}, \"type\": \"mesh3d\"}], \"parcoords\": [{\"line\": {\"colorbar\": {\"outlinewidth\": 0, \"ticks\": \"\"}}, \"type\": \"parcoords\"}], \"pie\": [{\"automargin\": true, \"type\": \"pie\"}], \"scatter\": [{\"marker\": {\"colorbar\": {\"outlinewidth\": 0, \"ticks\": \"\"}}, \"type\": \"scatter\"}], \"scatter3d\": [{\"line\": {\"colorbar\": {\"outlinewidth\": 0, \"ticks\": \"\"}}, \"marker\": {\"colorbar\": {\"outlinewidth\": 0, \"ticks\": \"\"}}, \"type\": \"scatter3d\"}], \"scattercarpet\": [{\"marker\": {\"colorbar\": {\"outlinewidth\": 0, \"ticks\": \"\"}}, \"type\": \"scattercarpet\"}], \"scattergeo\": [{\"marker\": {\"colorbar\": {\"outlinewidth\": 0, \"ticks\": \"\"}}, \"type\": \"scattergeo\"}], \"scattergl\": [{\"marker\": {\"colorbar\": {\"outlinewidth\": 0, \"ticks\": \"\"}}, \"type\": \"scattergl\"}], \"scattermapbox\": [{\"marker\": {\"colorbar\": {\"outlinewidth\": 0, \"ticks\": \"\"}}, \"type\": \"scattermapbox\"}], \"scatterpolar\": [{\"marker\": {\"colorbar\": {\"outlinewidth\": 0, \"ticks\": \"\"}}, \"type\": \"scatterpolar\"}], \"scatterpolargl\": [{\"marker\": {\"colorbar\": {\"outlinewidth\": 0, \"ticks\": \"\"}}, \"type\": \"scatterpolargl\"}], \"scatterternary\": [{\"marker\": {\"colorbar\": {\"outlinewidth\": 0, \"ticks\": \"\"}}, \"type\": \"scatterternary\"}], \"surface\": [{\"colorbar\": {\"outlinewidth\": 0, \"ticks\": \"\"}, \"colorscale\": [[0.0, \"#0d0887\"], [0.1111111111111111, \"#46039f\"], [0.2222222222222222, \"#7201a8\"], [0.3333333333333333, \"#9c179e\"], [0.4444444444444444, \"#bd3786\"], [0.5555555555555556, \"#d8576b\"], [0.6666666666666666, \"#ed7953\"], [0.7777777777777778, \"#fb9f3a\"], [0.8888888888888888, \"#fdca26\"], [1.0, \"#f0f921\"]], \"type\": \"surface\"}], \"table\": [{\"cells\": {\"fill\": {\"color\": \"#EBF0F8\"}, \"line\": {\"color\": \"white\"}}, \"header\": {\"fill\": {\"color\": \"#C8D4E3\"}, \"line\": {\"color\": \"white\"}}, \"type\": \"table\"}]}, \"layout\": {\"annotationdefaults\": {\"arrowcolor\": \"#2a3f5f\", \"arrowhead\": 0, \"arrowwidth\": 1}, \"coloraxis\": {\"colorbar\": {\"outlinewidth\": 0, \"ticks\": \"\"}}, \"colorscale\": {\"diverging\": [[0, \"#8e0152\"], [0.1, \"#c51b7d\"], [0.2, \"#de77ae\"], [0.3, \"#f1b6da\"], [0.4, \"#fde0ef\"], [0.5, \"#f7f7f7\"], [0.6, \"#e6f5d0\"], [0.7, \"#b8e186\"], [0.8, \"#7fbc41\"], [0.9, \"#4d9221\"], [1, \"#276419\"]], \"sequential\": [[0.0, \"#0d0887\"], [0.1111111111111111, \"#46039f\"], [0.2222222222222222, \"#7201a8\"], [0.3333333333333333, \"#9c179e\"], [0.4444444444444444, \"#bd3786\"], [0.5555555555555556, \"#d8576b\"], [0.6666666666666666, \"#ed7953\"], [0.7777777777777778, \"#fb9f3a\"], [0.8888888888888888, \"#fdca26\"], [1.0, \"#f0f921\"]], \"sequentialminus\": [[0.0, \"#0d0887\"], [0.1111111111111111, \"#46039f\"], [0.2222222222222222, \"#7201a8\"], [0.3333333333333333, \"#9c179e\"], [0.4444444444444444, \"#bd3786\"], [0.5555555555555556, \"#d8576b\"], [0.6666666666666666, \"#ed7953\"], [0.7777777777777778, \"#fb9f3a\"], [0.8888888888888888, \"#fdca26\"], [1.0, \"#f0f921\"]]}, \"colorway\": [\"#636efa\", \"#EF553B\", \"#00cc96\", \"#ab63fa\", \"#FFA15A\", \"#19d3f3\", \"#FF6692\", \"#B6E880\", \"#FF97FF\", \"#FECB52\"], \"font\": {\"color\": \"#2a3f5f\"}, \"geo\": {\"bgcolor\": \"white\", \"lakecolor\": \"white\", \"landcolor\": \"#E5ECF6\", \"showlakes\": true, \"showland\": true, \"subunitcolor\": \"white\"}, \"hoverlabel\": {\"align\": \"left\"}, \"hovermode\": \"closest\", \"mapbox\": {\"style\": \"light\"}, \"paper_bgcolor\": \"white\", \"plot_bgcolor\": \"#E5ECF6\", \"polar\": {\"angularaxis\": {\"gridcolor\": \"white\", \"linecolor\": \"white\", \"ticks\": \"\"}, \"bgcolor\": \"#E5ECF6\", \"radialaxis\": {\"gridcolor\": \"white\", \"linecolor\": \"white\", \"ticks\": \"\"}}, \"scene\": {\"xaxis\": {\"backgroundcolor\": \"#E5ECF6\", \"gridcolor\": \"white\", \"gridwidth\": 2, \"linecolor\": \"white\", \"showbackground\": true, \"ticks\": \"\", \"zerolinecolor\": \"white\"}, \"yaxis\": {\"backgroundcolor\": \"#E5ECF6\", \"gridcolor\": \"white\", \"gridwidth\": 2, \"linecolor\": \"white\", \"showbackground\": true, \"ticks\": \"\", \"zerolinecolor\": \"white\"}, \"zaxis\": {\"backgroundcolor\": \"#E5ECF6\", \"gridcolor\": \"white\", \"gridwidth\": 2, \"linecolor\": \"white\", \"showbackground\": true, \"ticks\": \"\", \"zerolinecolor\": \"white\"}}, \"shapedefaults\": {\"line\": {\"color\": \"#2a3f5f\"}}, \"ternary\": {\"aaxis\": {\"gridcolor\": \"white\", \"linecolor\": \"white\", \"ticks\": \"\"}, \"baxis\": {\"gridcolor\": \"white\", \"linecolor\": \"white\", \"ticks\": \"\"}, \"bgcolor\": \"#E5ECF6\", \"caxis\": {\"gridcolor\": \"white\", \"linecolor\": \"white\", \"ticks\": \"\"}}, \"title\": {\"x\": 0.05}, \"xaxis\": {\"automargin\": true, \"gridcolor\": \"white\", \"linecolor\": \"white\", \"ticks\": \"\", \"title\": {\"standoff\": 15}, \"zerolinecolor\": \"white\", \"zerolinewidth\": 2}, \"yaxis\": {\"automargin\": true, \"gridcolor\": \"white\", \"linecolor\": \"white\", \"ticks\": \"\", \"title\": {\"standoff\": 15}, \"zerolinecolor\": \"white\", \"zerolinewidth\": 2}}}, \"xaxis\": {\"anchor\": \"y\", \"domain\": [0.0, 1.0], \"title\": {\"text\": \"exponent\"}}, \"yaxis\": {\"anchor\": \"x\", \"domain\": [0.0, 1.0], \"title\": {\"text\": \"amplitude\"}}},                        {\"responsive\": true}                    ).then(function(){\n",
       "                            \n",
       "var gd = document.getElementById('edce547f-2764-470e-8a1f-b298477c8f67');\n",
       "var x = new MutationObserver(function (mutations, observer) {{\n",
       "        var display = window.getComputedStyle(gd).display;\n",
       "        if (!display || display === 'none') {{\n",
       "            console.log([gd, 'removed!']);\n",
       "            Plotly.purge(gd);\n",
       "            observer.disconnect();\n",
       "        }}\n",
       "}});\n",
       "\n",
       "// Listen for the removal of the full notebook cells\n",
       "var notebookContainer = gd.closest('#notebook-container');\n",
       "if (notebookContainer) {{\n",
       "    x.observe(notebookContainer, {childList: true});\n",
       "}}\n",
       "\n",
       "// Listen for the clearing of the current output cell\n",
       "var outputEl = gd.closest('.output');\n",
       "if (outputEl) {{\n",
       "    x.observe(outputEl, {childList: true});\n",
       "}}\n",
       "\n",
       "                        })                };                });            </script>        </div>"
      ]
     },
     "metadata": {},
     "output_type": "display_data"
    }
   ],
   "source": [
    "px.scatter(allfitparams, x='exponent', y='amplitude', hover_data=['well'], color='Condition')"
   ]
  },
  {
   "cell_type": "markdown",
   "metadata": {},
   "source": [
    "## Heatmap"
   ]
  },
  {
   "cell_type": "markdown",
   "metadata": {},
   "source": [
    "Now we will make a pivot table of just the fit amplitudes, and arrange it in the same way as the well plate itself:  Row X Column"
   ]
  },
  {
   "cell_type": "code",
   "execution_count": 208,
   "metadata": {},
   "outputs": [
    {
     "data": {
      "text/html": [
       "<div>\n",
       "<style scoped>\n",
       "    .dataframe tbody tr th:only-of-type {\n",
       "        vertical-align: middle;\n",
       "    }\n",
       "\n",
       "    .dataframe tbody tr th {\n",
       "        vertical-align: top;\n",
       "    }\n",
       "\n",
       "    .dataframe thead th {\n",
       "        text-align: right;\n",
       "    }\n",
       "</style>\n",
       "<table border=\"1\" class=\"dataframe\">\n",
       "  <thead>\n",
       "    <tr style=\"text-align: right;\">\n",
       "      <th>Column</th>\n",
       "      <th>C1</th>\n",
       "      <th>C2</th>\n",
       "      <th>C3</th>\n",
       "      <th>C4</th>\n",
       "      <th>C5</th>\n",
       "      <th>C6</th>\n",
       "      <th>C7</th>\n",
       "      <th>C8</th>\n",
       "      <th>C9</th>\n",
       "      <th>C10</th>\n",
       "      <th>C11</th>\n",
       "      <th>C12</th>\n",
       "      <th>C16</th>\n",
       "      <th>C17</th>\n",
       "      <th>C18</th>\n",
       "      <th>C22</th>\n",
       "      <th>C23</th>\n",
       "      <th>C24</th>\n",
       "    </tr>\n",
       "    <tr>\n",
       "      <th>Row</th>\n",
       "      <th></th>\n",
       "      <th></th>\n",
       "      <th></th>\n",
       "      <th></th>\n",
       "      <th></th>\n",
       "      <th></th>\n",
       "      <th></th>\n",
       "      <th></th>\n",
       "      <th></th>\n",
       "      <th></th>\n",
       "      <th></th>\n",
       "      <th></th>\n",
       "      <th></th>\n",
       "      <th></th>\n",
       "      <th></th>\n",
       "      <th></th>\n",
       "      <th></th>\n",
       "      <th></th>\n",
       "    </tr>\n",
       "  </thead>\n",
       "  <tbody>\n",
       "    <tr>\n",
       "      <th>A</th>\n",
       "      <td>0.478788</td>\n",
       "      <td>1.291934</td>\n",
       "      <td>2.210948</td>\n",
       "      <td>-0.016253</td>\n",
       "      <td>-0.012494</td>\n",
       "      <td>2.145053</td>\n",
       "      <td>-0.009896</td>\n",
       "      <td>-0.024128</td>\n",
       "      <td>2.090890</td>\n",
       "      <td>-0.020097</td>\n",
       "      <td>-0.001855</td>\n",
       "      <td>1.809464</td>\n",
       "      <td>0.0</td>\n",
       "      <td>0.0</td>\n",
       "      <td>0.0</td>\n",
       "      <td>-0.025308</td>\n",
       "      <td>-0.013644</td>\n",
       "      <td>0.123220</td>\n",
       "    </tr>\n",
       "    <tr>\n",
       "      <th>B</th>\n",
       "      <td>-0.019427</td>\n",
       "      <td>-0.012698</td>\n",
       "      <td>1.905215</td>\n",
       "      <td>-0.015840</td>\n",
       "      <td>-0.005299</td>\n",
       "      <td>2.249400</td>\n",
       "      <td>-0.011367</td>\n",
       "      <td>-0.008220</td>\n",
       "      <td>2.300816</td>\n",
       "      <td>-0.010495</td>\n",
       "      <td>-0.006875</td>\n",
       "      <td>2.223239</td>\n",
       "      <td>0.0</td>\n",
       "      <td>0.0</td>\n",
       "      <td>0.0</td>\n",
       "      <td>-0.018284</td>\n",
       "      <td>-0.013749</td>\n",
       "      <td>0.283876</td>\n",
       "    </tr>\n",
       "    <tr>\n",
       "      <th>C</th>\n",
       "      <td>-0.015108</td>\n",
       "      <td>-0.009017</td>\n",
       "      <td>1.854521</td>\n",
       "      <td>-0.017961</td>\n",
       "      <td>-0.013499</td>\n",
       "      <td>2.036207</td>\n",
       "      <td>-0.008271</td>\n",
       "      <td>-0.004835</td>\n",
       "      <td>2.013709</td>\n",
       "      <td>-0.003403</td>\n",
       "      <td>-0.006765</td>\n",
       "      <td>2.405481</td>\n",
       "      <td>0.0</td>\n",
       "      <td>0.0</td>\n",
       "      <td>0.0</td>\n",
       "      <td>0.000000</td>\n",
       "      <td>0.000000</td>\n",
       "      <td>0.000000</td>\n",
       "    </tr>\n",
       "    <tr>\n",
       "      <th>D</th>\n",
       "      <td>-0.015205</td>\n",
       "      <td>-0.012813</td>\n",
       "      <td>1.639123</td>\n",
       "      <td>-0.009916</td>\n",
       "      <td>-0.010646</td>\n",
       "      <td>2.277487</td>\n",
       "      <td>-0.004983</td>\n",
       "      <td>-0.003612</td>\n",
       "      <td>2.359703</td>\n",
       "      <td>0.001480</td>\n",
       "      <td>-0.010606</td>\n",
       "      <td>1.853080</td>\n",
       "      <td>0.0</td>\n",
       "      <td>0.0</td>\n",
       "      <td>0.0</td>\n",
       "      <td>0.000000</td>\n",
       "      <td>0.000000</td>\n",
       "      <td>0.000000</td>\n",
       "    </tr>\n",
       "    <tr>\n",
       "      <th>E</th>\n",
       "      <td>-0.014686</td>\n",
       "      <td>-0.010660</td>\n",
       "      <td>1.681811</td>\n",
       "      <td>-0.018100</td>\n",
       "      <td>-0.018916</td>\n",
       "      <td>1.843991</td>\n",
       "      <td>-0.008511</td>\n",
       "      <td>-0.008395</td>\n",
       "      <td>2.239219</td>\n",
       "      <td>-0.004976</td>\n",
       "      <td>-0.003585</td>\n",
       "      <td>2.437423</td>\n",
       "      <td>0.0</td>\n",
       "      <td>0.0</td>\n",
       "      <td>0.0</td>\n",
       "      <td>0.000000</td>\n",
       "      <td>0.000000</td>\n",
       "      <td>0.000000</td>\n",
       "    </tr>\n",
       "  </tbody>\n",
       "</table>\n",
       "</div>"
      ],
      "text/plain": [
       "Column        C1        C2        C3        C4        C5        C6        C7  \\\n",
       "Row                                                                            \n",
       "A       0.478788  1.291934  2.210948 -0.016253 -0.012494  2.145053 -0.009896   \n",
       "B      -0.019427 -0.012698  1.905215 -0.015840 -0.005299  2.249400 -0.011367   \n",
       "C      -0.015108 -0.009017  1.854521 -0.017961 -0.013499  2.036207 -0.008271   \n",
       "D      -0.015205 -0.012813  1.639123 -0.009916 -0.010646  2.277487 -0.004983   \n",
       "E      -0.014686 -0.010660  1.681811 -0.018100 -0.018916  1.843991 -0.008511   \n",
       "\n",
       "Column        C8        C9       C10       C11       C12  C16  C17  C18  \\\n",
       "Row                                                                       \n",
       "A      -0.024128  2.090890 -0.020097 -0.001855  1.809464  0.0  0.0  0.0   \n",
       "B      -0.008220  2.300816 -0.010495 -0.006875  2.223239  0.0  0.0  0.0   \n",
       "C      -0.004835  2.013709 -0.003403 -0.006765  2.405481  0.0  0.0  0.0   \n",
       "D      -0.003612  2.359703  0.001480 -0.010606  1.853080  0.0  0.0  0.0   \n",
       "E      -0.008395  2.239219 -0.004976 -0.003585  2.437423  0.0  0.0  0.0   \n",
       "\n",
       "Column       C22       C23       C24  \n",
       "Row                                   \n",
       "A      -0.025308 -0.013644  0.123220  \n",
       "B      -0.018284 -0.013749  0.283876  \n",
       "C       0.000000  0.000000  0.000000  \n",
       "D       0.000000  0.000000  0.000000  \n",
       "E       0.000000  0.000000  0.000000  "
      ]
     },
     "execution_count": 208,
     "metadata": {},
     "output_type": "execute_result"
    }
   ],
   "source": [
    "amplitude_df = allfitparams.pivot_table(index='Row', columns='Column', values='amplitude').fillna(0)\n",
    "amplitude_df.columns = 'C'+ (amplitude_df.columns).astype(str)\n",
    "amplitude_df.head()"
   ]
  },
  {
   "cell_type": "code",
   "execution_count": 209,
   "metadata": {},
   "outputs": [
    {
     "data": {
      "text/plain": [
       "<AxesSubplot:xlabel='Column', ylabel='Row'>"
      ]
     },
     "execution_count": 209,
     "metadata": {},
     "output_type": "execute_result"
    },
    {
     "data": {
      "image/png": "[encoded data removed]",
      "text/plain": [
       "<Figure size 1440x720 with 2 Axes>"
      ]
     },
     "metadata": {
      "needs_background": "light"
     },
     "output_type": "display_data"
    }
   ],
   "source": [
    "plt.figure(figsize=[20,10])\n",
    "\n",
    "sns.heatmap(amplitude_df, annot=True)"
   ]
  },
  {
   "cell_type": "code",
   "execution_count": 210,
   "metadata": {},
   "outputs": [
    {
     "data": {
      "application/vnd.plotly.v1+json": {
       "config": {
        "plotlyServerURL": "https://plot.ly"
       },
       "data": [
        {
         "coloraxis": "coloraxis",
         "hovertemplate": "Column: %{x}<br>Row: %{y}<br>color: %{z}<extra></extra>",
         "type": "heatmap",
         "x": [
          "C1",
          "C2",
          "C3",
          "C4",
          "C5",
          "C6",
          "C7",
          "C8",
          "C9",
          "C10",
          "C11",
          "C12",
          "C16",
          "C17",
          "C18",
          "C22",
          "C23",
          "C24"
         ],
         "y": [
          "A",
          "B",
          "C",
          "D",
          "E",
          "F",
          "G",
          "H",
          "I",
          "J",
          "K",
          "L",
          "M",
          "N",
          "O",
          "P"
         ],
         "z": [
          [
           0.478787731251923,
           1.2919340798618237,
           2.2109482188962835,
           -0.016252575483904335,
           -0.0124936433414209,
           2.1450532628715684,
           -0.009896109232223801,
           -0.024128152531436662,
           2.090890093303879,
           -0.020097432044584394,
           -0.001854596739948208,
           1.8094642421278166,
           0,
           0,
           0,
           -0.025308273600373517,
           -0.013644231291861176,
           0.12322049425128344
          ],
          [
           -0.01942671328056925,
           -0.01269790787964692,
           1.9052151095179741,
           -0.015839981165641417,
           -0.005298616862309952,
           2.2494000045226943,
           -0.011366720312753889,
           -0.008219567076020829,
           2.300816485918854,
           -0.010495141543652537,
           -0.006874904312127654,
           2.223239114934133,
           0,
           0,
           0,
           -0.018284435090631507,
           -0.013748639569534708,
           0.28387632125776807
          ],
          [
           -0.015108499667709089,
           -0.009016686860139029,
           1.85452101586922,
           -0.017961067411302788,
           -0.013499184142275326,
           2.03620740610278,
           -0.008271455919135145,
           -0.004835120715476783,
           2.0137094697971065,
           -0.0034029508054194504,
           -0.006764501772213781,
           2.405481021299868,
           0,
           0,
           0,
           0,
           0,
           0
          ],
          [
           -0.01520483915030317,
           -0.012813194267454557,
           1.639122877340214,
           -0.009915694961224733,
           -0.010646319800158243,
           2.2774874157325113,
           -0.004983269764007043,
           -0.0036118669838223613,
           2.359702974683338,
           0.0014803694021270145,
           -0.010606483291488267,
           1.8530801612508663,
           0,
           0,
           0,
           0,
           0,
           0
          ],
          [
           -0.014685871097121961,
           -0.0106600888141458,
           1.6818114868501801,
           -0.01809958114502381,
           -0.01891613864339355,
           1.8439907945767449,
           -0.008511419041343858,
           -0.008394765915538007,
           2.239219406377687,
           -0.004976154837481869,
           -0.0035854648722249403,
           2.4374227779935964,
           0,
           0,
           0,
           0,
           0,
           0
          ],
          [
           -0.0155594380075264,
           -0.008797942815847396,
           2.2006537751277038,
           -0.013957826699448821,
           -0.0035415596376490452,
           2.021279207810193,
           -0.006852016265305687,
           -0.004427119097379213,
           2.4155733375551467,
           -0.019815137524444543,
           -0.00415505360658663,
           2.1879440607160516,
           0,
           0,
           0,
           0,
           0,
           0
          ],
          [
           -0.014208676908751324,
           -0.006327472138165121,
           2.1153437092149145,
           -0.0021211955712824833,
           0.0027744632030554162,
           2.220138386856908,
           -0.01140118087715165,
           -0.006117060297697837,
           2.311631858706634,
           -0.015118532725785113,
           -0.00844335791368727,
           2.297782129781288,
           0,
           0,
           0,
           0,
           0,
           0
          ],
          [
           -0.012745570767658398,
           -0.0027483670097895384,
           2.1915690043457436,
           -0.0036179213063054568,
           -0.006061917000818758,
           2.099978960393713,
           -0.004682553127960236,
           -0.022292372349512132,
           2.1572341939226862,
           -0.007083134796978917,
           -0.006255932047719014,
           2.300704130033819,
           0,
           0,
           0,
           0,
           0,
           0
          ],
          [
           -0.014654212095331435,
           -0.008413564969682277,
           1.8029631642202242,
           -0.013016440190761402,
           -0.003896718534282365,
           2.1493532283596353,
           -0.01418017598807566,
           -0.009160328655174188,
           2.1592058273206423,
           -0.0024286177682744737,
           -0.0042893127952850045,
           2.2117510542771237,
           0,
           0,
           0,
           0,
           0,
           0
          ],
          [
           -0.010387414154999634,
           -0.009336773812778056,
           2.1390568387933824,
           -0.008802173430615803,
           -0.009086960666272428,
           2.1614558701053848,
           -0.008596352432447801,
           -0.00848460721333417,
           2.1298428141603014,
           -0.0037258974792961116,
           -0.002974062289173016,
           2.2922090570665703,
           -0.012744966679853321,
           -0.010500641822455647,
           1.9859759715477765,
           0,
           0,
           0
          ],
          [
           -0.0015491130190145948,
           0.00102973910594725,
           2.2080409420204696,
           -0.009637172585177661,
           -0.005253756709497117,
           2.0499300419386413,
           0.0017464274108236766,
           0.001598828480434194,
           2.3845700354741597,
           -0.005751427005414842,
           0.0008136364117356542,
           2.0332893250547204,
           0,
           0,
           0,
           0,
           0,
           0
          ],
          [
           -0.012713999573126723,
           -0.01367849666431669,
           1.9147916841585952,
           -0.007598907558159733,
           -0.0077243744639693985,
           2.313852615724695,
           -0.011282043712495636,
           -0.006502064964069215,
           2.303240520962644,
           -0.01212184004886312,
           -0.011396210002123985,
           2.2325473298248237,
           -0.009724828789217873,
           -0.009480207571888766,
           2.023579738501343,
           0,
           0,
           0
          ],
          [
           -0.009670387794458134,
           -0.00972540471401903,
           1.9541509373722004,
           -0.01103329913120167,
           -0.009145786236296685,
           2.1795507761401307,
           -0.011163317156005529,
           -0.00752587416908182,
           2.0116305507330385,
           -0.021004193725279414,
           -0.014192187092091996,
           1.8929876033943924,
           0,
           0,
           0,
           0,
           0,
           0
          ],
          [
           -0.0065070376421760105,
           -0.009522917144271574,
           2.146366579735417,
           -0.0077097420588558225,
           -0.010624816304245948,
           1.9695683495236658,
           -0.008578859110082389,
           -0.002791309991378796,
           2.3375825604372356,
           0,
           0,
           0,
           -0.010273456221809429,
           -0.006702705949983451,
           1.9868832294345868,
           0,
           0,
           0
          ],
          [
           0.0033868856863834536,
           0.005365059753411143,
           2.2489277762323177,
           -0.010528373609897185,
           -0.01309026219248815,
           1.8596210795025763,
           -0.010620262796992526,
           -0.008126416329680414,
           2.106677134303195,
           -0.011954405939398945,
           -0.009305260660371607,
           2.163638513455659,
           0,
           0,
           0,
           1.7494395056800585,
           2.1513062481775096,
           1.984485548794379
          ],
          [
           -0.014964610474685003,
           -0.012165293765894081,
           1.8433551662479888,
           -0.00701268299715037,
           -0.01035284059729547,
           2.2849751088774917,
           -0.0064570086171909565,
           -0.007544484990014192,
           2.120000865143483,
           0,
           0,
           0,
           -0.010900051283316768,
           -0.011482051928796493,
           1.971570711752885,
           1.7043033911719736,
           2.0691770805810616,
           1.9522345219150254
          ]
         ]
        }
       ],
       "layout": {
        "coloraxis": {
         "colorscale": [
          [
           0,
           "#0d0887"
          ],
          [
           0.1111111111111111,
           "#46039f"
          ],
          [
           0.2222222222222222,
           "#7201a8"
          ],
          [
           0.3333333333333333,
           "#9c179e"
          ],
          [
           0.4444444444444444,
           "#bd3786"
          ],
          [
           0.5555555555555556,
           "#d8576b"
          ],
          [
           0.6666666666666666,
           "#ed7953"
          ],
          [
           0.7777777777777778,
           "#fb9f3a"
          ],
          [
           0.8888888888888888,
           "#fdca26"
          ],
          [
           1,
           "#f0f921"
          ]
         ]
        },
        "height": 700,
        "margin": {
         "t": 60
        },
        "template": {
         "data": {
          "bar": [
           {
            "error_x": {
             "color": "#2a3f5f"
            },
            "error_y": {
             "color": "#2a3f5f"
            },
            "marker": {
             "line": {
              "color": "#E5ECF6",
              "width": 0.5
             }
            },
            "type": "bar"
           }
          ],
          "barpolar": [
           {
            "marker": {
             "line": {
              "color": "#E5ECF6",
              "width": 0.5
             }
            },
            "type": "barpolar"
           }
          ],
          "carpet": [
           {
            "aaxis": {
             "endlinecolor": "#2a3f5f",
             "gridcolor": "white",
             "linecolor": "white",
             "minorgridcolor": "white",
             "startlinecolor": "#2a3f5f"
            },
            "baxis": {
             "endlinecolor": "#2a3f5f",
             "gridcolor": "white",
             "linecolor": "white",
             "minorgridcolor": "white",
             "startlinecolor": "#2a3f5f"
            },
            "type": "carpet"
           }
          ],
          "choropleth": [
           {
            "colorbar": {
             "outlinewidth": 0,
             "ticks": ""
            },
            "type": "choropleth"
           }
          ],
          "contour": [
           {
            "colorbar": {
             "outlinewidth": 0,
             "ticks": ""
            },
            "colorscale": [
             [
              0,
              "#0d0887"
             ],
             [
              0.1111111111111111,
              "#46039f"
             ],
             [
              0.2222222222222222,
              "#7201a8"
             ],
             [
              0.3333333333333333,
              "#9c179e"
             ],
             [
              0.4444444444444444,
              "#bd3786"
             ],
             [
              0.5555555555555556,
              "#d8576b"
             ],
             [
              0.6666666666666666,
              "#ed7953"
             ],
             [
              0.7777777777777778,
              "#fb9f3a"
             ],
             [
              0.8888888888888888,
              "#fdca26"
             ],
             [
              1,
              "#f0f921"
             ]
            ],
            "type": "contour"
           }
          ],
          "contourcarpet": [
           {
            "colorbar": {
             "outlinewidth": 0,
             "ticks": ""
            },
            "type": "contourcarpet"
           }
          ],
          "heatmap": [
           {
            "colorbar": {
             "outlinewidth": 0,
             "ticks": ""
            },
            "colorscale": [
             [
              0,
              "#0d0887"
             ],
             [
              0.1111111111111111,
              "#46039f"
             ],
             [
              0.2222222222222222,
              "#7201a8"
             ],
             [
              0.3333333333333333,
              "#9c179e"
             ],
             [
              0.4444444444444444,
              "#bd3786"
             ],
             [
              0.5555555555555556,
              "#d8576b"
             ],
             [
              0.6666666666666666,
              "#ed7953"
             ],
             [
              0.7777777777777778,
              "#fb9f3a"
             ],
             [
              0.8888888888888888,
              "#fdca26"
             ],
             [
              1,
              "#f0f921"
             ]
            ],
            "type": "heatmap"
           }
          ],
          "heatmapgl": [
           {
            "colorbar": {
             "outlinewidth": 0,
             "ticks": ""
            },
            "colorscale": [
             [
              0,
              "#0d0887"
             ],
             [
              0.1111111111111111,
              "#46039f"
             ],
             [
              0.2222222222222222,
              "#7201a8"
             ],
             [
              0.3333333333333333,
              "#9c179e"
             ],
             [
              0.4444444444444444,
              "#bd3786"
             ],
             [
              0.5555555555555556,
              "#d8576b"
             ],
             [
              0.6666666666666666,
              "#ed7953"
             ],
             [
              0.7777777777777778,
              "#fb9f3a"
             ],
             [
              0.8888888888888888,
              "#fdca26"
             ],
             [
              1,
              "#f0f921"
             ]
            ],
            "type": "heatmapgl"
           }
          ],
          "histogram": [
           {
            "marker": {
             "colorbar": {
              "outlinewidth": 0,
              "ticks": ""
             }
            },
            "type": "histogram"
           }
          ],
          "histogram2d": [
           {
            "colorbar": {
             "outlinewidth": 0,
             "ticks": ""
            },
            "colorscale": [
             [
              0,
              "#0d0887"
             ],
             [
              0.1111111111111111,
              "#46039f"
             ],
             [
              0.2222222222222222,
              "#7201a8"
             ],
             [
              0.3333333333333333,
              "#9c179e"
             ],
             [
              0.4444444444444444,
              "#bd3786"
             ],
             [
              0.5555555555555556,
              "#d8576b"
             ],
             [
              0.6666666666666666,
              "#ed7953"
             ],
             [
              0.7777777777777778,
              "#fb9f3a"
             ],
             [
              0.8888888888888888,
              "#fdca26"
             ],
             [
              1,
              "#f0f921"
             ]
            ],
            "type": "histogram2d"
           }
          ],
          "histogram2dcontour": [
           {
            "colorbar": {
             "outlinewidth": 0,
             "ticks": ""
            },
            "colorscale": [
             [
              0,
              "#0d0887"
             ],
             [
              0.1111111111111111,
              "#46039f"
             ],
             [
              0.2222222222222222,
              "#7201a8"
             ],
             [
              0.3333333333333333,
              "#9c179e"
             ],
             [
              0.4444444444444444,
              "#bd3786"
             ],
             [
              0.5555555555555556,
              "#d8576b"
             ],
             [
              0.6666666666666666,
              "#ed7953"
             ],
             [
              0.7777777777777778,
              "#fb9f3a"
             ],
             [
              0.8888888888888888,
              "#fdca26"
             ],
             [
              1,
              "#f0f921"
             ]
            ],
            "type": "histogram2dcontour"
           }
          ],
          "mesh3d": [
           {
            "colorbar": {
             "outlinewidth": 0,
             "ticks": ""
            },
            "type": "mesh3d"
           }
          ],
          "parcoords": [
           {
            "line": {
             "colorbar": {
              "outlinewidth": 0,
              "ticks": ""
             }
            },
            "type": "parcoords"
           }
          ],
          "pie": [
           {
            "automargin": true,
            "type": "pie"
           }
          ],
          "scatter": [
           {
            "marker": {
             "colorbar": {
              "outlinewidth": 0,
              "ticks": ""
             }
            },
            "type": "scatter"
           }
          ],
          "scatter3d": [
           {
            "line": {
             "colorbar": {
              "outlinewidth": 0,
              "ticks": ""
             }
            },
            "marker": {
             "colorbar": {
              "outlinewidth": 0,
              "ticks": ""
             }
            },
            "type": "scatter3d"
           }
          ],
          "scattercarpet": [
           {
            "marker": {
             "colorbar": {
              "outlinewidth": 0,
              "ticks": ""
             }
            },
            "type": "scattercarpet"
           }
          ],
          "scattergeo": [
           {
            "marker": {
             "colorbar": {
              "outlinewidth": 0,
              "ticks": ""
             }
            },
            "type": "scattergeo"
           }
          ],
          "scattergl": [
           {
            "marker": {
             "colorbar": {
              "outlinewidth": 0,
              "ticks": ""
             }
            },
            "type": "scattergl"
           }
          ],
          "scattermapbox": [
           {
            "marker": {
             "colorbar": {
              "outlinewidth": 0,
              "ticks": ""
             }
            },
            "type": "scattermapbox"
           }
          ],
          "scatterpolar": [
           {
            "marker": {
             "colorbar": {
              "outlinewidth": 0,
              "ticks": ""
             }
            },
            "type": "scatterpolar"
           }
          ],
          "scatterpolargl": [
           {
            "marker": {
             "colorbar": {
              "outlinewidth": 0,
              "ticks": ""
             }
            },
            "type": "scatterpolargl"
           }
          ],
          "scatterternary": [
           {
            "marker": {
             "colorbar": {
              "outlinewidth": 0,
              "ticks": ""
             }
            },
            "type": "scatterternary"
           }
          ],
          "surface": [
           {
            "colorbar": {
             "outlinewidth": 0,
             "ticks": ""
            },
            "colorscale": [
             [
              0,
              "#0d0887"
             ],
             [
              0.1111111111111111,
              "#46039f"
             ],
             [
              0.2222222222222222,
              "#7201a8"
             ],
             [
              0.3333333333333333,
              "#9c179e"
             ],
             [
              0.4444444444444444,
              "#bd3786"
             ],
             [
              0.5555555555555556,
              "#d8576b"
             ],
             [
              0.6666666666666666,
              "#ed7953"
             ],
             [
              0.7777777777777778,
              "#fb9f3a"
             ],
             [
              0.8888888888888888,
              "#fdca26"
             ],
             [
              1,
              "#f0f921"
             ]
            ],
            "type": "surface"
           }
          ],
          "table": [
           {
            "cells": {
             "fill": {
              "color": "#EBF0F8"
             },
             "line": {
              "color": "white"
             }
            },
            "header": {
             "fill": {
              "color": "#C8D4E3"
             },
             "line": {
              "color": "white"
             }
            },
            "type": "table"
           }
          ]
         },
         "layout": {
          "annotationdefaults": {
           "arrowcolor": "#2a3f5f",
           "arrowhead": 0,
           "arrowwidth": 1
          },
          "coloraxis": {
           "colorbar": {
            "outlinewidth": 0,
            "ticks": ""
           }
          },
          "colorscale": {
           "diverging": [
            [
             0,
             "#8e0152"
            ],
            [
             0.1,
             "#c51b7d"
            ],
            [
             0.2,
             "#de77ae"
            ],
            [
             0.3,
             "#f1b6da"
            ],
            [
             0.4,
             "#fde0ef"
            ],
            [
             0.5,
             "#f7f7f7"
            ],
            [
             0.6,
             "#e6f5d0"
            ],
            [
             0.7,
             "#b8e186"
            ],
            [
             0.8,
             "#7fbc41"
            ],
            [
             0.9,
             "#4d9221"
            ],
            [
             1,
             "#276419"
            ]
           ],
           "sequential": [
            [
             0,
             "#0d0887"
            ],
            [
             0.1111111111111111,
             "#46039f"
            ],
            [
             0.2222222222222222,
             "#7201a8"
            ],
            [
             0.3333333333333333,
             "#9c179e"
            ],
            [
             0.4444444444444444,
             "#bd3786"
            ],
            [
             0.5555555555555556,
             "#d8576b"
            ],
            [
             0.6666666666666666,
             "#ed7953"
            ],
            [
             0.7777777777777778,
             "#fb9f3a"
            ],
            [
             0.8888888888888888,
             "#fdca26"
            ],
            [
             1,
             "#f0f921"
            ]
           ],
           "sequentialminus": [
            [
             0,
             "#0d0887"
            ],
            [
             0.1111111111111111,
             "#46039f"
            ],
            [
             0.2222222222222222,
             "#7201a8"
            ],
            [
             0.3333333333333333,
             "#9c179e"
            ],
            [
             0.4444444444444444,
             "#bd3786"
            ],
            [
             0.5555555555555556,
             "#d8576b"
            ],
            [
             0.6666666666666666,
             "#ed7953"
            ],
            [
             0.7777777777777778,
             "#fb9f3a"
            ],
            [
             0.8888888888888888,
             "#fdca26"
            ],
            [
             1,
             "#f0f921"
            ]
           ]
          },
          "colorway": [
           "#636efa",
           "#EF553B",
           "#00cc96",
           "#ab63fa",
           "#FFA15A",
           "#19d3f3",
           "#FF6692",
           "#B6E880",
           "#FF97FF",
           "#FECB52"
          ],
          "font": {
           "color": "#2a3f5f"
          },
          "geo": {
           "bgcolor": "white",
           "lakecolor": "white",
           "landcolor": "#E5ECF6",
           "showlakes": true,
           "showland": true,
           "subunitcolor": "white"
          },
          "hoverlabel": {
           "align": "left"
          },
          "hovermode": "closest",
          "mapbox": {
           "style": "light"
          },
          "paper_bgcolor": "white",
          "plot_bgcolor": "#E5ECF6",
          "polar": {
           "angularaxis": {
            "gridcolor": "white",
            "linecolor": "white",
            "ticks": ""
           },
           "bgcolor": "#E5ECF6",
           "radialaxis": {
            "gridcolor": "white",
            "linecolor": "white",
            "ticks": ""
           }
          },
          "scene": {
           "xaxis": {
            "backgroundcolor": "#E5ECF6",
            "gridcolor": "white",
            "gridwidth": 2,
            "linecolor": "white",
            "showbackground": true,
            "ticks": "",
            "zerolinecolor": "white"
           },
           "yaxis": {
            "backgroundcolor": "#E5ECF6",
            "gridcolor": "white",
            "gridwidth": 2,
            "linecolor": "white",
            "showbackground": true,
            "ticks": "",
            "zerolinecolor": "white"
           },
           "zaxis": {
            "backgroundcolor": "#E5ECF6",
            "gridcolor": "white",
            "gridwidth": 2,
            "linecolor": "white",
            "showbackground": true,
            "ticks": "",
            "zerolinecolor": "white"
           }
          },
          "shapedefaults": {
           "line": {
            "color": "#2a3f5f"
           }
          },
          "ternary": {
           "aaxis": {
            "gridcolor": "white",
            "linecolor": "white",
            "ticks": ""
           },
           "baxis": {
            "gridcolor": "white",
            "linecolor": "white",
            "ticks": ""
           },
           "bgcolor": "#E5ECF6",
           "caxis": {
            "gridcolor": "white",
            "linecolor": "white",
            "ticks": ""
           }
          },
          "title": {
           "x": 0.05
          },
          "xaxis": {
           "automargin": true,
           "gridcolor": "white",
           "linecolor": "white",
           "ticks": "",
           "title": {
            "standoff": 15
           },
           "zerolinecolor": "white",
           "zerolinewidth": 2
          },
          "yaxis": {
           "automargin": true,
           "gridcolor": "white",
           "linecolor": "white",
           "ticks": "",
           "title": {
            "standoff": 15
           },
           "zerolinecolor": "white",
           "zerolinewidth": 2
          }
         }
        },
        "width": 900,
        "xaxis": {
         "constrain": "domain",
         "scaleanchor": "y",
         "title": {
          "text": "Column"
         }
        },
        "yaxis": {
         "autorange": "reversed",
         "constrain": "domain",
         "title": {
          "text": "Row"
         }
        }
       }
      },
      "text/html": [
       "<div>                            <div id=\"8de22e20-252f-43ee-9477-66658e228c79\" class=\"plotly-graph-div\" style=\"height:700px; width:900px;\"></div>            <script type=\"text/javascript\">                require([\"plotly\"], function(Plotly) {                    window.PLOTLYENV=window.PLOTLYENV || {};                                    if (document.getElementById(\"8de22e20-252f-43ee-9477-66658e228c79\")) {                    Plotly.newPlot(                        \"8de22e20-252f-43ee-9477-66658e228c79\",                        [{\"coloraxis\": \"coloraxis\", \"hovertemplate\": \"Column: %{x}<br>Row: %{y}<br>color: %{z}<extra></extra>\", \"type\": \"heatmap\", \"x\": [\"C1\", \"C2\", \"C3\", \"C4\", \"C5\", \"C6\", \"C7\", \"C8\", \"C9\", \"C10\", \"C11\", \"C12\", \"C16\", \"C17\", \"C18\", \"C22\", \"C23\", \"C24\"], \"y\": [\"A\", \"B\", \"C\", \"D\", \"E\", \"F\", \"G\", \"H\", \"I\", \"J\", \"K\", \"L\", \"M\", \"N\", \"O\", \"P\"], \"z\": [[0.478787731251923, 1.2919340798618237, 2.2109482188962835, -0.016252575483904335, -0.0124936433414209, 2.1450532628715684, -0.009896109232223801, -0.024128152531436662, 2.090890093303879, -0.020097432044584394, -0.001854596739948208, 1.8094642421278166, 0.0, 0.0, 0.0, -0.025308273600373517, -0.013644231291861176, 0.12322049425128344], [-0.01942671328056925, -0.01269790787964692, 1.9052151095179741, -0.015839981165641417, -0.005298616862309952, 2.2494000045226943, -0.011366720312753889, -0.008219567076020829, 2.300816485918854, -0.010495141543652537, -0.006874904312127654, 2.223239114934133, 0.0, 0.0, 0.0, -0.018284435090631507, -0.013748639569534708, 0.28387632125776807], [-0.015108499667709089, -0.009016686860139029, 1.85452101586922, -0.017961067411302788, -0.013499184142275326, 2.03620740610278, -0.008271455919135145, -0.004835120715476783, 2.0137094697971065, -0.0034029508054194504, -0.006764501772213781, 2.405481021299868, 0.0, 0.0, 0.0, 0.0, 0.0, 0.0], [-0.01520483915030317, -0.012813194267454557, 1.639122877340214, -0.009915694961224733, -0.010646319800158243, 2.2774874157325113, -0.004983269764007043, -0.0036118669838223613, 2.359702974683338, 0.0014803694021270145, -0.010606483291488267, 1.8530801612508663, 0.0, 0.0, 0.0, 0.0, 0.0, 0.0], [-0.014685871097121961, -0.0106600888141458, 1.6818114868501801, -0.01809958114502381, -0.01891613864339355, 1.8439907945767449, -0.008511419041343858, -0.008394765915538007, 2.239219406377687, -0.004976154837481869, -0.0035854648722249403, 2.4374227779935964, 0.0, 0.0, 0.0, 0.0, 0.0, 0.0], [-0.0155594380075264, -0.008797942815847396, 2.2006537751277038, -0.013957826699448821, -0.0035415596376490452, 2.021279207810193, -0.006852016265305687, -0.004427119097379213, 2.4155733375551467, -0.019815137524444543, -0.00415505360658663, 2.1879440607160516, 0.0, 0.0, 0.0, 0.0, 0.0, 0.0], [-0.014208676908751324, -0.006327472138165121, 2.1153437092149145, -0.0021211955712824833, 0.0027744632030554162, 2.220138386856908, -0.01140118087715165, -0.006117060297697837, 2.311631858706634, -0.015118532725785113, -0.00844335791368727, 2.297782129781288, 0.0, 0.0, 0.0, 0.0, 0.0, 0.0], [-0.012745570767658398, -0.0027483670097895384, 2.1915690043457436, -0.0036179213063054568, -0.006061917000818758, 2.099978960393713, -0.004682553127960236, -0.022292372349512132, 2.1572341939226862, -0.007083134796978917, -0.006255932047719014, 2.300704130033819, 0.0, 0.0, 0.0, 0.0, 0.0, 0.0], [-0.014654212095331435, -0.008413564969682277, 1.8029631642202242, -0.013016440190761402, -0.003896718534282365, 2.1493532283596353, -0.01418017598807566, -0.009160328655174188, 2.1592058273206423, -0.0024286177682744737, -0.0042893127952850045, 2.2117510542771237, 0.0, 0.0, 0.0, 0.0, 0.0, 0.0], [-0.010387414154999634, -0.009336773812778056, 2.1390568387933824, -0.008802173430615803, -0.009086960666272428, 2.1614558701053848, -0.008596352432447801, -0.00848460721333417, 2.1298428141603014, -0.0037258974792961116, -0.002974062289173016, 2.2922090570665703, -0.012744966679853321, -0.010500641822455647, 1.9859759715477765, 0.0, 0.0, 0.0], [-0.0015491130190145948, 0.00102973910594725, 2.2080409420204696, -0.009637172585177661, -0.005253756709497117, 2.0499300419386413, 0.0017464274108236766, 0.001598828480434194, 2.3845700354741597, -0.005751427005414842, 0.0008136364117356542, 2.0332893250547204, 0.0, 0.0, 0.0, 0.0, 0.0, 0.0], [-0.012713999573126723, -0.01367849666431669, 1.9147916841585952, -0.007598907558159733, -0.0077243744639693985, 2.313852615724695, -0.011282043712495636, -0.006502064964069215, 2.303240520962644, -0.01212184004886312, -0.011396210002123985, 2.2325473298248237, -0.009724828789217873, -0.009480207571888766, 2.023579738501343, 0.0, 0.0, 0.0], [-0.009670387794458134, -0.00972540471401903, 1.9541509373722004, -0.01103329913120167, -0.009145786236296685, 2.1795507761401307, -0.011163317156005529, -0.00752587416908182, 2.0116305507330385, -0.021004193725279414, -0.014192187092091996, 1.8929876033943924, 0.0, 0.0, 0.0, 0.0, 0.0, 0.0], [-0.0065070376421760105, -0.009522917144271574, 2.146366579735417, -0.0077097420588558225, -0.010624816304245948, 1.9695683495236658, -0.008578859110082389, -0.002791309991378796, 2.3375825604372356, 0.0, 0.0, 0.0, -0.010273456221809429, -0.006702705949983451, 1.9868832294345868, 0.0, 0.0, 0.0], [0.0033868856863834536, 0.005365059753411143, 2.2489277762323177, -0.010528373609897185, -0.01309026219248815, 1.8596210795025763, -0.010620262796992526, -0.008126416329680414, 2.106677134303195, -0.011954405939398945, -0.009305260660371607, 2.163638513455659, 0.0, 0.0, 0.0, 1.7494395056800585, 2.1513062481775096, 1.984485548794379], [-0.014964610474685003, -0.012165293765894081, 1.8433551662479888, -0.00701268299715037, -0.01035284059729547, 2.2849751088774917, -0.0064570086171909565, -0.007544484990014192, 2.120000865143483, 0.0, 0.0, 0.0, -0.010900051283316768, -0.011482051928796493, 1.971570711752885, 1.7043033911719736, 2.0691770805810616, 1.9522345219150254]]}],                        {\"coloraxis\": {\"colorscale\": [[0.0, \"#0d0887\"], [0.1111111111111111, \"#46039f\"], [0.2222222222222222, \"#7201a8\"], [0.3333333333333333, \"#9c179e\"], [0.4444444444444444, \"#bd3786\"], [0.5555555555555556, \"#d8576b\"], [0.6666666666666666, \"#ed7953\"], [0.7777777777777778, \"#fb9f3a\"], [0.8888888888888888, \"#fdca26\"], [1.0, \"#f0f921\"]]}, \"height\": 700, \"margin\": {\"t\": 60}, \"template\": {\"data\": {\"bar\": [{\"error_x\": {\"color\": \"#2a3f5f\"}, \"error_y\": {\"color\": \"#2a3f5f\"}, \"marker\": {\"line\": {\"color\": \"#E5ECF6\", \"width\": 0.5}}, \"type\": \"bar\"}], \"barpolar\": [{\"marker\": {\"line\": {\"color\": \"#E5ECF6\", \"width\": 0.5}}, \"type\": \"barpolar\"}], \"carpet\": [{\"aaxis\": {\"endlinecolor\": \"#2a3f5f\", \"gridcolor\": \"white\", \"linecolor\": \"white\", \"minorgridcolor\": \"white\", \"startlinecolor\": \"#2a3f5f\"}, \"baxis\": {\"endlinecolor\": \"#2a3f5f\", \"gridcolor\": \"white\", \"linecolor\": \"white\", \"minorgridcolor\": \"white\", \"startlinecolor\": \"#2a3f5f\"}, \"type\": \"carpet\"}], \"choropleth\": [{\"colorbar\": {\"outlinewidth\": 0, \"ticks\": \"\"}, \"type\": \"choropleth\"}], \"contour\": [{\"colorbar\": {\"outlinewidth\": 0, \"ticks\": \"\"}, \"colorscale\": [[0.0, \"#0d0887\"], [0.1111111111111111, \"#46039f\"], [0.2222222222222222, \"#7201a8\"], [0.3333333333333333, \"#9c179e\"], [0.4444444444444444, \"#bd3786\"], [0.5555555555555556, \"#d8576b\"], [0.6666666666666666, \"#ed7953\"], [0.7777777777777778, \"#fb9f3a\"], [0.8888888888888888, \"#fdca26\"], [1.0, \"#f0f921\"]], \"type\": \"contour\"}], \"contourcarpet\": [{\"colorbar\": {\"outlinewidth\": 0, \"ticks\": \"\"}, \"type\": \"contourcarpet\"}], \"heatmap\": [{\"colorbar\": {\"outlinewidth\": 0, \"ticks\": \"\"}, \"colorscale\": [[0.0, \"#0d0887\"], [0.1111111111111111, \"#46039f\"], [0.2222222222222222, \"#7201a8\"], [0.3333333333333333, \"#9c179e\"], [0.4444444444444444, \"#bd3786\"], [0.5555555555555556, \"#d8576b\"], [0.6666666666666666, \"#ed7953\"], [0.7777777777777778, \"#fb9f3a\"], [0.8888888888888888, \"#fdca26\"], [1.0, \"#f0f921\"]], \"type\": \"heatmap\"}], \"heatmapgl\": [{\"colorbar\": {\"outlinewidth\": 0, \"ticks\": \"\"}, \"colorscale\": [[0.0, \"#0d0887\"], [0.1111111111111111, \"#46039f\"], [0.2222222222222222, \"#7201a8\"], [0.3333333333333333, \"#9c179e\"], [0.4444444444444444, \"#bd3786\"], [0.5555555555555556, \"#d8576b\"], [0.6666666666666666, \"#ed7953\"], [0.7777777777777778, \"#fb9f3a\"], [0.8888888888888888, \"#fdca26\"], [1.0, \"#f0f921\"]], \"type\": \"heatmapgl\"}], \"histogram\": [{\"marker\": {\"colorbar\": {\"outlinewidth\": 0, \"ticks\": \"\"}}, \"type\": \"histogram\"}], \"histogram2d\": [{\"colorbar\": {\"outlinewidth\": 0, \"ticks\": \"\"}, \"colorscale\": [[0.0, \"#0d0887\"], [0.1111111111111111, \"#46039f\"], [0.2222222222222222, \"#7201a8\"], [0.3333333333333333, \"#9c179e\"], [0.4444444444444444, \"#bd3786\"], [0.5555555555555556, \"#d8576b\"], [0.6666666666666666, \"#ed7953\"], [0.7777777777777778, \"#fb9f3a\"], [0.8888888888888888, \"#fdca26\"], [1.0, \"#f0f921\"]], \"type\": \"histogram2d\"}], \"histogram2dcontour\": [{\"colorbar\": {\"outlinewidth\": 0, \"ticks\": \"\"}, \"colorscale\": [[0.0, \"#0d0887\"], [0.1111111111111111, \"#46039f\"], [0.2222222222222222, \"#7201a8\"], [0.3333333333333333, \"#9c179e\"], [0.4444444444444444, \"#bd3786\"], [0.5555555555555556, \"#d8576b\"], [0.6666666666666666, \"#ed7953\"], [0.7777777777777778, \"#fb9f3a\"], [0.8888888888888888, \"#fdca26\"], [1.0, \"#f0f921\"]], \"type\": \"histogram2dcontour\"}], \"mesh3d\": [{\"colorbar\": {\"outlinewidth\": 0, \"ticks\": \"\"}, \"type\": \"mesh3d\"}], \"parcoords\": [{\"line\": {\"colorbar\": {\"outlinewidth\": 0, \"ticks\": \"\"}}, \"type\": \"parcoords\"}], \"pie\": [{\"automargin\": true, \"type\": \"pie\"}], \"scatter\": [{\"marker\": {\"colorbar\": {\"outlinewidth\": 0, \"ticks\": \"\"}}, \"type\": \"scatter\"}], \"scatter3d\": [{\"line\": {\"colorbar\": {\"outlinewidth\": 0, \"ticks\": \"\"}}, \"marker\": {\"colorbar\": {\"outlinewidth\": 0, \"ticks\": \"\"}}, \"type\": \"scatter3d\"}], \"scattercarpet\": [{\"marker\": {\"colorbar\": {\"outlinewidth\": 0, \"ticks\": \"\"}}, \"type\": \"scattercarpet\"}], \"scattergeo\": [{\"marker\": {\"colorbar\": {\"outlinewidth\": 0, \"ticks\": \"\"}}, \"type\": \"scattergeo\"}], \"scattergl\": [{\"marker\": {\"colorbar\": {\"outlinewidth\": 0, \"ticks\": \"\"}}, \"type\": \"scattergl\"}], \"scattermapbox\": [{\"marker\": {\"colorbar\": {\"outlinewidth\": 0, \"ticks\": \"\"}}, \"type\": \"scattermapbox\"}], \"scatterpolar\": [{\"marker\": {\"colorbar\": {\"outlinewidth\": 0, \"ticks\": \"\"}}, \"type\": \"scatterpolar\"}], \"scatterpolargl\": [{\"marker\": {\"colorbar\": {\"outlinewidth\": 0, \"ticks\": \"\"}}, \"type\": \"scatterpolargl\"}], \"scatterternary\": [{\"marker\": {\"colorbar\": {\"outlinewidth\": 0, \"ticks\": \"\"}}, \"type\": \"scatterternary\"}], \"surface\": [{\"colorbar\": {\"outlinewidth\": 0, \"ticks\": \"\"}, \"colorscale\": [[0.0, \"#0d0887\"], [0.1111111111111111, \"#46039f\"], [0.2222222222222222, \"#7201a8\"], [0.3333333333333333, \"#9c179e\"], [0.4444444444444444, \"#bd3786\"], [0.5555555555555556, \"#d8576b\"], [0.6666666666666666, \"#ed7953\"], [0.7777777777777778, \"#fb9f3a\"], [0.8888888888888888, \"#fdca26\"], [1.0, \"#f0f921\"]], \"type\": \"surface\"}], \"table\": [{\"cells\": {\"fill\": {\"color\": \"#EBF0F8\"}, \"line\": {\"color\": \"white\"}}, \"header\": {\"fill\": {\"color\": \"#C8D4E3\"}, \"line\": {\"color\": \"white\"}}, \"type\": \"table\"}]}, \"layout\": {\"annotationdefaults\": {\"arrowcolor\": \"#2a3f5f\", \"arrowhead\": 0, \"arrowwidth\": 1}, \"coloraxis\": {\"colorbar\": {\"outlinewidth\": 0, \"ticks\": \"\"}}, \"colorscale\": {\"diverging\": [[0, \"#8e0152\"], [0.1, \"#c51b7d\"], [0.2, \"#de77ae\"], [0.3, \"#f1b6da\"], [0.4, \"#fde0ef\"], [0.5, \"#f7f7f7\"], [0.6, \"#e6f5d0\"], [0.7, \"#b8e186\"], [0.8, \"#7fbc41\"], [0.9, \"#4d9221\"], [1, \"#276419\"]], \"sequential\": [[0.0, \"#0d0887\"], [0.1111111111111111, \"#46039f\"], [0.2222222222222222, \"#7201a8\"], [0.3333333333333333, \"#9c179e\"], [0.4444444444444444, \"#bd3786\"], [0.5555555555555556, \"#d8576b\"], [0.6666666666666666, \"#ed7953\"], [0.7777777777777778, \"#fb9f3a\"], [0.8888888888888888, \"#fdca26\"], [1.0, \"#f0f921\"]], \"sequentialminus\": [[0.0, \"#0d0887\"], [0.1111111111111111, \"#46039f\"], [0.2222222222222222, \"#7201a8\"], [0.3333333333333333, \"#9c179e\"], [0.4444444444444444, \"#bd3786\"], [0.5555555555555556, \"#d8576b\"], [0.6666666666666666, \"#ed7953\"], [0.7777777777777778, \"#fb9f3a\"], [0.8888888888888888, \"#fdca26\"], [1.0, \"#f0f921\"]]}, \"colorway\": [\"#636efa\", \"#EF553B\", \"#00cc96\", \"#ab63fa\", \"#FFA15A\", \"#19d3f3\", \"#FF6692\", \"#B6E880\", \"#FF97FF\", \"#FECB52\"], \"font\": {\"color\": \"#2a3f5f\"}, \"geo\": {\"bgcolor\": \"white\", \"lakecolor\": \"white\", \"landcolor\": \"#E5ECF6\", \"showlakes\": true, \"showland\": true, \"subunitcolor\": \"white\"}, \"hoverlabel\": {\"align\": \"left\"}, \"hovermode\": \"closest\", \"mapbox\": {\"style\": \"light\"}, \"paper_bgcolor\": \"white\", \"plot_bgcolor\": \"#E5ECF6\", \"polar\": {\"angularaxis\": {\"gridcolor\": \"white\", \"linecolor\": \"white\", \"ticks\": \"\"}, \"bgcolor\": \"#E5ECF6\", \"radialaxis\": {\"gridcolor\": \"white\", \"linecolor\": \"white\", \"ticks\": \"\"}}, \"scene\": {\"xaxis\": {\"backgroundcolor\": \"#E5ECF6\", \"gridcolor\": \"white\", \"gridwidth\": 2, \"linecolor\": \"white\", \"showbackground\": true, \"ticks\": \"\", \"zerolinecolor\": \"white\"}, \"yaxis\": {\"backgroundcolor\": \"#E5ECF6\", \"gridcolor\": \"white\", \"gridwidth\": 2, \"linecolor\": \"white\", \"showbackground\": true, \"ticks\": \"\", \"zerolinecolor\": \"white\"}, \"zaxis\": {\"backgroundcolor\": \"#E5ECF6\", \"gridcolor\": \"white\", \"gridwidth\": 2, \"linecolor\": \"white\", \"showbackground\": true, \"ticks\": \"\", \"zerolinecolor\": \"white\"}}, \"shapedefaults\": {\"line\": {\"color\": \"#2a3f5f\"}}, \"ternary\": {\"aaxis\": {\"gridcolor\": \"white\", \"linecolor\": \"white\", \"ticks\": \"\"}, \"baxis\": {\"gridcolor\": \"white\", \"linecolor\": \"white\", \"ticks\": \"\"}, \"bgcolor\": \"#E5ECF6\", \"caxis\": {\"gridcolor\": \"white\", \"linecolor\": \"white\", \"ticks\": \"\"}}, \"title\": {\"x\": 0.05}, \"xaxis\": {\"automargin\": true, \"gridcolor\": \"white\", \"linecolor\": \"white\", \"ticks\": \"\", \"title\": {\"standoff\": 15}, \"zerolinecolor\": \"white\", \"zerolinewidth\": 2}, \"yaxis\": {\"automargin\": true, \"gridcolor\": \"white\", \"linecolor\": \"white\", \"ticks\": \"\", \"title\": {\"standoff\": 15}, \"zerolinecolor\": \"white\", \"zerolinewidth\": 2}}}, \"width\": 900, \"xaxis\": {\"constrain\": \"domain\", \"scaleanchor\": \"y\", \"title\": {\"text\": \"Column\"}}, \"yaxis\": {\"autorange\": \"reversed\", \"constrain\": \"domain\", \"title\": {\"text\": \"Row\"}}},                        {\"responsive\": true}                    ).then(function(){\n",
       "                            \n",
       "var gd = document.getElementById('8de22e20-252f-43ee-9477-66658e228c79');\n",
       "var x = new MutationObserver(function (mutations, observer) {{\n",
       "        var display = window.getComputedStyle(gd).display;\n",
       "        if (!display || display === 'none') {{\n",
       "            console.log([gd, 'removed!']);\n",
       "            Plotly.purge(gd);\n",
       "            observer.disconnect();\n",
       "        }}\n",
       "}});\n",
       "\n",
       "// Listen for the removal of the full notebook cells\n",
       "var notebookContainer = gd.closest('#notebook-container');\n",
       "if (notebookContainer) {{\n",
       "    x.observe(notebookContainer, {childList: true});\n",
       "}}\n",
       "\n",
       "// Listen for the clearing of the current output cell\n",
       "var outputEl = gd.closest('.output');\n",
       "if (outputEl) {{\n",
       "    x.observe(outputEl, {childList: true});\n",
       "}}\n",
       "\n",
       "                        })                };                });            </script>        </div>"
      ]
     },
     "metadata": {},
     "output_type": "display_data"
    }
   ],
   "source": [
    "px.imshow(amplitude_df, width=900, height=700)"
   ]
  },
  {
   "cell_type": "code",
   "execution_count": null,
   "metadata": {},
   "outputs": [],
   "source": []
  }
 ],
 "metadata": {
  "kernelspec": {
   "display_name": "Python 3",
   "language": "python",
   "name": "python3"
  },
  "language_info": {
   "codemirror_mode": {
    "name": "ipython",
    "version": 3
   },
   "file_extension": ".py",
   "mimetype": "text/x-python",
   "name": "python",
   "nbconvert_exporter": "python",
   "pygments_lexer": "ipython3",
   "version": "3.7.9"
  }
 },
 "nbformat": 4,
 "nbformat_minor": 2
}
