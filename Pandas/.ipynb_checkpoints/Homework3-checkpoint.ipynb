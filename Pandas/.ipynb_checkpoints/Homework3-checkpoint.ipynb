{
 "cells": [
  {
   "cell_type": "markdown",
   "metadata": {},
   "source": [
    "# Homework 3: Reshaping, sorting (5)"
   ]
  },
  {
   "cell_type": "code",
   "execution_count": null,
   "metadata": {},
   "outputs": [],
   "source": [
    "import pandas as pd\n",
    "import numpy as np"
   ]
  },
  {
   "cell_type": "markdown",
   "metadata": {},
   "source": [
    "Some functions we have learned\n",
    "\n",
    "- pd.Series() \n",
    "- df=pd.DataFrame({'A': 1., 'B': pd.Timestamp('20130102'), 'C': pd.Series(1, index=list(range(4)), dtype='float32'), 'D': np.array([3] * 4, dtype='int32'), 'E': pd.Categorical([\"test\", \"train\", \"test\", \"train\"]), 'F': 'foo'}) \n",
    "- df.T \n",
    "- df.index \n",
    "- df.columns \n",
    "- df.sort_values(by='C') \n",
    "- df['A'] \n",
    "- df.describe(include=['number', 'category', 'all'], percentiles=[.05, .25, .75, .95]) \n",
    "- df.max(skipna=False) \n",
    "- df.min() \n",
    "- df.sum() \n",
    "- df.mean() \n",
    "- df.unique() \n",
    "- df.idxmax() \n",
    "- df.iloc \n",
    "- df.value_counts() \n",
    "- df[['A', 'B']] (df['A']>1) & (df['B']>1) df[df['A']>1, 'B'] \n",
    "- df.loc[df['A']==3.14, 'A']=0 df.sort_values(by='A') \n",
    "- df.pivot_table(values='Name', aggfunc=np.sum, index='Row', columns='Column') \n",
    "- df.melt(id_vars=None, value_vars=None, var_name=None, value_name='value')"
   ]
  },
  {
   "cell_type": "raw",
   "metadata": {},
   "source": [
    "pd.Series()\n",
    "df=pd.DataFrame({'A': 1.,\n",
    "                    'B': pd.Timestamp('20130102'),\n",
    "                    'C': pd.Series(1, index=list(range(4)), dtype='float32'),\n",
    "                    'D': np.array([3] * 4, dtype='int32'),\n",
    "                    'E': pd.Categorical([\"test\", \"train\", \"test\", \"train\"]),\n",
    "                    'F': 'foo'})\n",
    "df.T\n",
    "df.index\n",
    "df.columns\n",
    "df.sort_values(by='C')\n",
    "df['A']\n",
    "\n",
    "df.describe(include=['number', 'category', 'all'], percentiles=[.05, .25, .75, .95])\n",
    "df.max(skipna=False)\n",
    "df.min()\n",
    "df.sum()\n",
    "df.mean()\n",
    "df.unique()\n",
    "\n",
    "df.idxmax()\n",
    "df.iloc\n",
    "df.value_counts()\n",
    "\n",
    "df[['A', 'B']]\n",
    "(df['A']>1) & (df['B']>1)\n",
    "df[df['A']>1, 'B']\n",
    "\n",
    "df.loc[df['A']==3.14, 'A']=0\n",
    "df.sort_values(by='A')\n",
    "df.pivot_table(values='Name', aggfunc=np.sum, index='Row', columns='Column')\n",
    "df.melt(id_vars=None, value_vars=None, var_name=None, value_name='value')"
   ]
  },
  {
   "cell_type": "code",
   "execution_count": null,
   "metadata": {},
   "outputs": [],
   "source": [
    "csv_path = 'https://raw.githubusercontent.com/pandas-dev/pandas/master/doc/data/titanic.csv'\n",
    "titanic = pd.read_csv(csv_path)\n",
    "titanic.head()"
   ]
  },
  {
   "cell_type": "markdown",
   "metadata": {},
   "source": [
    "## Pivot tables"
   ]
  },
  {
   "cell_type": "markdown",
   "metadata": {},
   "source": [
    "**Exercise 1:**  Generate a new table named *Survived* using `titanic.pivot_table(...)`. The tabke should have *Pclass* as rows and *Sex* as columns for those that have survived.  Hint:  Since the 'Survived' column is 0 if they did not survive and 1 if they did, we can simply sum it for counting survived."
   ]
  },
  {
   "cell_type": "code",
   "execution_count": null,
   "metadata": {},
   "outputs": [],
   "source": [
    "# YOUR CODE HERE\n",
    "Survived ="
   ]
  },
  {
   "cell_type": "markdown",
   "metadata": {},
   "source": [
    "**Exercise 2:**  Generate a table named *Total* using `titanic.pivot_table(...)`. The table should have *Pclass* as rows and *Sex* as columns for all passengers.  `len` is a perfectly acceptable aggfunc"
   ]
  },
  {
   "cell_type": "code",
   "execution_count": null,
   "metadata": {},
   "outputs": [],
   "source": [
    "# YOUR CODE HERE\n",
    "Total = "
   ]
  },
  {
   "cell_type": "markdown",
   "metadata": {},
   "source": [
    "If tables are exactly the same dimensions, we can actually just add/multiply etc with them.  If your Survived and Total work the table below should show the infamous survival rate by class/sex."
   ]
  },
  {
   "cell_type": "code",
   "execution_count": null,
   "metadata": {},
   "outputs": [],
   "source": [
    "# Run this cell as-is to get survival rate\n",
    "Survived/Total * 100"
   ]
  },
  {
   "cell_type": "markdown",
   "metadata": {},
   "source": [
    "## More pivot tables"
   ]
  },
  {
   "cell_type": "markdown",
   "metadata": {},
   "source": [
    "Before we tried to look at the relationship between number the embarkation point and the first class passengers on the Titanic.  It took us 3 long lines to get the percentage of 1st class for each location."
   ]
  },
  {
   "cell_type": "code",
   "execution_count": null,
   "metadata": {},
   "outputs": [],
   "source": [
    "# Run this cell as-is \n",
    "print(len(titanic.loc[(titanic['Pclass']==1) & (titanic['Embarked']=='C')])/len(titanic[(titanic['Embarked']=='C')]))\n",
    "print(len(titanic.loc[(titanic['Pclass']==1) & (titanic['Embarked']=='Q')])/len(titanic[(titanic['Embarked']=='Q')]))\n",
    "print(len(titanic.loc[(titanic['Pclass']==1) & (titanic['Embarked']=='S')])/len(titanic[(titanic['Embarked']=='S')]))\n"
   ]
  },
  {
   "cell_type": "markdown",
   "metadata": {},
   "source": [
    "**Exercise 3:**   Instead of percentages, use pivot_table to generate a new table called EmbarkedClass that shows the # of each class by embarkation point.  You should have embarkation site in the rows of the new table and the passenger class in the columns.  "
   ]
  },
  {
   "cell_type": "code",
   "execution_count": null,
   "metadata": {},
   "outputs": [],
   "source": [
    "# YOUR CODE HERE\n"
   ]
  },
  {
   "cell_type": "markdown",
   "metadata": {},
   "source": [
    "If it worked well, the following should give the percentage of passengers at each embarkation point that correspond to each class.\n",
    "\n",
    "DO NOT DELETE FOLLOWING CODE"
   ]
  },
  {
   "cell_type": "code",
   "execution_count": null,
   "metadata": {},
   "outputs": [],
   "source": [
    "# Run this cell as-is to get percentages\n",
    "EmbarkedClassPercents = EmbarkedClass.transform(lambda x: x/x.sum(), axis=1)*100\n",
    "EmbarkedClassPercents"
   ]
  },
  {
   "cell_type": "markdown",
   "metadata": {},
   "source": [
    "**Exercise 4:** Take EmbarkedClassPercents and sort it so that Embarked location with the highest percentage of 3rd class is at the top and the lowest is at the bottom.  "
   ]
  },
  {
   "cell_type": "code",
   "execution_count": null,
   "metadata": {},
   "outputs": [],
   "source": [
    "# YOUR CODE HERE\n"
   ]
  },
  {
   "cell_type": "markdown",
   "metadata": {},
   "source": [
    "**Exercise 5:** Use melt on EmbarkedClass to get back a table with 3 columns:  Embarked, Pclass, and Counts.  Where Embarked is the C/Q/S code, Pclass is 1 or 2 (we are throwing out 3rd class) and Counts is the number of people associated with that pair.  Hint:  melt has a value_vars argument that lets you melt only some of the columns.  Also remember that if you want an index to become a column, .reset_index() is useful"
   ]
  },
  {
   "cell_type": "code",
   "execution_count": null,
   "metadata": {},
   "outputs": [],
   "source": [
    "# YOUR CODE HERE\n"
   ]
  }
 ],
 "metadata": {
  "kernelspec": {
   "display_name": "Python 3",
   "language": "python",
   "name": "python3"
  },
  "language_info": {
   "codemirror_mode": {
    "name": "ipython",
    "version": 3
   },
   "file_extension": ".py",
   "mimetype": "text/x-python",
   "name": "python",
   "nbconvert_exporter": "python",
   "pygments_lexer": "ipython3",
   "version": "3.7.9"
  }
 },
 "nbformat": 4,
 "nbformat_minor": 4
}
