{
 "cells": [
  {
   "cell_type": "markdown",
   "metadata": {},
   "source": [
    "# Homework 2:  Selecting, replacing, deriving data (3,4)"
   ]
  },
  {
   "cell_type": "code",
   "execution_count": 1,
   "metadata": {},
   "outputs": [],
   "source": [
    "import pandas as pd\n",
    "import numpy as np"
   ]
  },
  {
   "cell_type": "markdown",
   "metadata": {},
   "source": [
    "Some functions we have covered\n",
    "\n",
    "- pd.Series()\n",
    "- df=pd.DataFrame({'A': 1., 'B': pd.Timestamp('20130102'), 'C': pd.Series(1, index=list(range(4)), dtype='float32'), 'D': np.array([3] * 4, dtype='int32'), 'E': pd.Categorical([\"test\", \"train\", \"test\", \"train\"]), 'F': 'foo'})\n",
    "- df.T\n",
    "- df.index \n",
    "- df.columns \n",
    "- df.sort_values(by='C') \n",
    "- df['A'] \n",
    "- df.describe(include=['number', 'category', 'all'], percentiles=[.05, .25, .75, .95]) \n",
    "- df.max(skipna=False) \n",
    "- df.min() \n",
    "- df.sum() \n",
    "- df.mean() \n",
    "- df.unique() \n",
    "- df.idxmax() \n",
    "- df.iloc \n",
    "- df.value_counts() \n",
    "- df[['A', 'B']] \n",
    "- (df['A']>1) & (df['B']>1) \n",
    "- df[df['A']>1, 'B'] \n",
    "- df.loc[df['A']==3.14, 'A']=0"
   ]
  },
  {
   "cell_type": "raw",
   "metadata": {},
   "source": [
    "pd.Series()\n",
    "df=pd.DataFrame({'A': 1.,\n",
    "                    'B': pd.Timestamp('20130102'),\n",
    "                    'C': pd.Series(1, index=list(range(4)), dtype='float32'),\n",
    "                    'D': np.array([3] * 4, dtype='int32'),\n",
    "                    'E': pd.Categorical([\"test\", \"train\", \"test\", \"train\"]),\n",
    "                    'F': 'foo'})\n",
    "df.T\n",
    "df.index\n",
    "df.columns\n",
    "df.sort_values(by='C')\n",
    "df['A']\n",
    "\n",
    "df.describe(include=['number', 'category', 'all'], percentiles=[.05, .25, .75, .95])\n",
    "df.max(skipna=False)\n",
    "df.min()\n",
    "df.sum()\n",
    "df.mean()\n",
    "df.unique()\n",
    "\n",
    "df.idxmax()\n",
    "df.iloc\n",
    "df.value_counts()\n",
    "\n",
    "df[['A', 'B']]\n",
    "(df['A']>1) & (df['B']>1)\n",
    "df[df['A']>1, 'B']\n",
    "\n",
    "df.loc[df['A']==3.14, 'A']=0\n",
    "\n"
   ]
  },
  {
   "cell_type": "markdown",
   "metadata": {},
   "source": [
    "Retrieve titanic data"
   ]
  },
  {
   "cell_type": "code",
   "execution_count": 2,
   "metadata": {},
   "outputs": [
    {
     "data": {
      "text/html": [
       "<div>\n",
       "<style scoped>\n",
       "    .dataframe tbody tr th:only-of-type {\n",
       "        vertical-align: middle;\n",
       "    }\n",
       "\n",
       "    .dataframe tbody tr th {\n",
       "        vertical-align: top;\n",
       "    }\n",
       "\n",
       "    .dataframe thead th {\n",
       "        text-align: right;\n",
       "    }\n",
       "</style>\n",
       "<table border=\"1\" class=\"dataframe\">\n",
       "  <thead>\n",
       "    <tr style=\"text-align: right;\">\n",
       "      <th></th>\n",
       "      <th>PassengerId</th>\n",
       "      <th>Survived</th>\n",
       "      <th>Pclass</th>\n",
       "      <th>Name</th>\n",
       "      <th>Sex</th>\n",
       "      <th>Age</th>\n",
       "      <th>SibSp</th>\n",
       "      <th>Parch</th>\n",
       "      <th>Ticket</th>\n",
       "      <th>Fare</th>\n",
       "      <th>Cabin</th>\n",
       "      <th>Embarked</th>\n",
       "    </tr>\n",
       "  </thead>\n",
       "  <tbody>\n",
       "    <tr>\n",
       "      <th>0</th>\n",
       "      <td>1</td>\n",
       "      <td>0</td>\n",
       "      <td>3</td>\n",
       "      <td>Braund, Mr. Owen Harris</td>\n",
       "      <td>male</td>\n",
       "      <td>22.0</td>\n",
       "      <td>1</td>\n",
       "      <td>0</td>\n",
       "      <td>A/5 21171</td>\n",
       "      <td>7.2500</td>\n",
       "      <td>NaN</td>\n",
       "      <td>S</td>\n",
       "    </tr>\n",
       "    <tr>\n",
       "      <th>1</th>\n",
       "      <td>2</td>\n",
       "      <td>1</td>\n",
       "      <td>1</td>\n",
       "      <td>Cumings, Mrs. John Bradley (Florence Briggs Th...</td>\n",
       "      <td>female</td>\n",
       "      <td>38.0</td>\n",
       "      <td>1</td>\n",
       "      <td>0</td>\n",
       "      <td>PC 17599</td>\n",
       "      <td>71.2833</td>\n",
       "      <td>C85</td>\n",
       "      <td>C</td>\n",
       "    </tr>\n",
       "    <tr>\n",
       "      <th>2</th>\n",
       "      <td>3</td>\n",
       "      <td>1</td>\n",
       "      <td>3</td>\n",
       "      <td>Heikkinen, Miss. Laina</td>\n",
       "      <td>female</td>\n",
       "      <td>26.0</td>\n",
       "      <td>0</td>\n",
       "      <td>0</td>\n",
       "      <td>STON/O2. 3101282</td>\n",
       "      <td>7.9250</td>\n",
       "      <td>NaN</td>\n",
       "      <td>S</td>\n",
       "    </tr>\n",
       "    <tr>\n",
       "      <th>3</th>\n",
       "      <td>4</td>\n",
       "      <td>1</td>\n",
       "      <td>1</td>\n",
       "      <td>Futrelle, Mrs. Jacques Heath (Lily May Peel)</td>\n",
       "      <td>female</td>\n",
       "      <td>35.0</td>\n",
       "      <td>1</td>\n",
       "      <td>0</td>\n",
       "      <td>113803</td>\n",
       "      <td>53.1000</td>\n",
       "      <td>C123</td>\n",
       "      <td>S</td>\n",
       "    </tr>\n",
       "    <tr>\n",
       "      <th>4</th>\n",
       "      <td>5</td>\n",
       "      <td>0</td>\n",
       "      <td>3</td>\n",
       "      <td>Allen, Mr. William Henry</td>\n",
       "      <td>male</td>\n",
       "      <td>35.0</td>\n",
       "      <td>0</td>\n",
       "      <td>0</td>\n",
       "      <td>373450</td>\n",
       "      <td>8.0500</td>\n",
       "      <td>NaN</td>\n",
       "      <td>S</td>\n",
       "    </tr>\n",
       "  </tbody>\n",
       "</table>\n",
       "</div>"
      ],
      "text/plain": [
       "   PassengerId  Survived  Pclass  \\\n",
       "0            1         0       3   \n",
       "1            2         1       1   \n",
       "2            3         1       3   \n",
       "3            4         1       1   \n",
       "4            5         0       3   \n",
       "\n",
       "                                                Name     Sex   Age  SibSp  \\\n",
       "0                            Braund, Mr. Owen Harris    male  22.0      1   \n",
       "1  Cumings, Mrs. John Bradley (Florence Briggs Th...  female  38.0      1   \n",
       "2                             Heikkinen, Miss. Laina  female  26.0      0   \n",
       "3       Futrelle, Mrs. Jacques Heath (Lily May Peel)  female  35.0      1   \n",
       "4                           Allen, Mr. William Henry    male  35.0      0   \n",
       "\n",
       "   Parch            Ticket     Fare Cabin Embarked  \n",
       "0      0         A/5 21171   7.2500   NaN        S  \n",
       "1      0          PC 17599  71.2833   C85        C  \n",
       "2      0  STON/O2. 3101282   7.9250   NaN        S  \n",
       "3      0            113803  53.1000  C123        S  \n",
       "4      0            373450   8.0500   NaN        S  "
      ]
     },
     "execution_count": 2,
     "metadata": {},
     "output_type": "execute_result"
    }
   ],
   "source": [
    "csv_path = 'https://raw.githubusercontent.com/pandas-dev/pandas/master/doc/data/titanic.csv'\n",
    "titanic = pd.read_csv(csv_path)\n",
    "titanic.head()"
   ]
  },
  {
   "cell_type": "markdown",
   "metadata": {},
   "source": [
    "|Variable|Definition|Key|\n",
    "|--- |--- |--- |\n",
    "|survival|Survival|0 = No, 1 = Yes|\n",
    "|pclass|Ticket class|1 = 1st, 2 = 2nd, 3 = 3rd|\n",
    "|sex|Sex||\n",
    "|Age|Age in years||\n",
    "|sibsp|# of siblings / spouses aboard the Titanic||\n",
    "|parch|# of parents / children aboard the Titanic||\n",
    "|ticket|Ticket number||\n",
    "|fare|Passenger fare||\n",
    "|cabin|Cabin number||\n",
    "|embarked|Port of Embarkation|C = Cherbourg, Q = Queenstown, S = Southampton|"
   ]
  },
  {
   "cell_type": "raw",
   "metadata": {},
   "source": [
    "Pclass Passenger Class (1 = 1st; 2 = 2nd; 3 = 3rd)\n",
    "survival Survival (0 = No; 1 = Yes)\n",
    "name Name\n",
    "sex Sex\n",
    "age Age\n",
    "sibsp Number of Siblings/Spouses Aboard\n",
    "parch Number of Parents/Children Aboard\n",
    "ticket Ticket Number\n",
    "fare Passenger Fare (British pound)\n",
    "cabin Cabin\n",
    "embarked Port of Embarkation (C = Cherbourg; Q = Queenstown; S = Southampton)\n"
   ]
  },
  {
   "cell_type": "markdown",
   "metadata": {},
   "source": [
    "# Selecting data"
   ]
  },
  {
   "cell_type": "markdown",
   "metadata": {},
   "source": [
    "**Question 1:  How many first class passengers were on the ship?**"
   ]
  },
  {
   "cell_type": "code",
   "execution_count": 3,
   "metadata": {},
   "outputs": [
    {
     "data": {
      "text/plain": [
       "216"
      ]
     },
     "execution_count": 3,
     "metadata": {},
     "output_type": "execute_result"
    }
   ],
   "source": [
    "titanic['Pclass'].value_counts().loc[1]"
   ]
  },
  {
   "cell_type": "markdown",
   "metadata": {},
   "source": [
    "There were three places passengers embarked from:  C = Cherbourg; Q = Queenstown; S = Southampton\n",
    "\n",
    "**Question 2:  Which one of these locations had the most first class passengers?**"
   ]
  },
  {
   "cell_type": "code",
   "execution_count": 4,
   "metadata": {
    "tags": []
   },
   "outputs": [
    {
     "name": "stdout",
     "output_type": "stream",
     "text": [
      "85\n",
      "2\n",
      "127\n"
     ]
    }
   ],
   "source": [
    "print(len(titanic.loc[(titanic['Pclass']==1) & (titanic['Embarked']=='C')]))\n",
    "print(len(titanic.loc[(titanic['Pclass']==1) & (titanic['Embarked']=='Q')]))\n",
    "print(len(titanic.loc[(titanic['Pclass']==1) & (titanic['Embarked']=='S')]))\n"
   ]
  },
  {
   "cell_type": "markdown",
   "metadata": {},
   "source": [
    "**Question 3:  Which embarkation location had the highest percentage of its passengers in first class?**"
   ]
  },
  {
   "cell_type": "code",
   "execution_count": 5,
   "metadata": {
    "tags": []
   },
   "outputs": [
    {
     "name": "stdout",
     "output_type": "stream",
     "text": [
      "0.5059523809523809\n",
      "0.025974025974025976\n",
      "0.1972049689440994\n"
     ]
    }
   ],
   "source": [
    "print(len(titanic.loc[(titanic['Pclass']==1) & (titanic['Embarked']=='C')])/len(titanic[(titanic['Embarked']=='C')]))\n",
    "print(len(titanic.loc[(titanic['Pclass']==1) & (titanic['Embarked']=='Q')])/len(titanic[(titanic['Embarked']=='Q')]))\n",
    "print(len(titanic.loc[(titanic['Pclass']==1) & (titanic['Embarked']=='S')])/len(titanic[(titanic['Embarked']=='S')]))\n"
   ]
  },
  {
   "cell_type": "markdown",
   "metadata": {},
   "source": [
    "**Exercise 1:  Make 2 new dataframes.** The first called Southampton should contain all of the original dataframe but with only passengers embarking from Southampton.  The second called CherbourgQueenstown should contain all of the original dataframe but with only the passengers embarking from Queenstown and Cherbourg."
   ]
  },
  {
   "cell_type": "code",
   "execution_count": 6,
   "metadata": {},
   "outputs": [],
   "source": [
    "Southampton=titanic[titanic['Embarked']=='S']\n",
    "CherbourgQueenstown=titanic[titanic['Embarked'].isin(['C', 'Q'])]"
   ]
  },
  {
   "cell_type": "markdown",
   "metadata": {},
   "source": [
    "**Exercise 2:  For each of these new dataframes, find the ratio of the total number of males to females.**  \n",
    "Was one group more male heavy than the other?"
   ]
  },
  {
   "cell_type": "code",
   "execution_count": 7,
   "metadata": {
    "tags": []
   },
   "outputs": [
    {
     "name": "stdout",
     "output_type": "stream",
     "text": [
      "2.1724137931034484\n",
      "1.2477064220183487\n"
     ]
    }
   ],
   "source": [
    "print(len(Southampton[Southampton['Sex']=='male'])/\n",
    "      len(Southampton[Southampton['Sex']=='female']))\n",
    "print(len(CherbourgQueenstown[CherbourgQueenstown['Sex']=='male'])/\n",
    "      len(CherbourgQueenstown[CherbourgQueenstown['Sex']=='female']))"
   ]
  },
  {
   "cell_type": "markdown",
   "metadata": {},
   "source": [
    "# Replacing data"
   ]
  },
  {
   "cell_type": "markdown",
   "metadata": {},
   "source": [
    "C, Q, and S are not very descriptive.  Let's make a new dataframe that is simply a copy of titanic (if we operate on the original titanic some things above might break if run out of order)."
   ]
  },
  {
   "cell_type": "code",
   "execution_count": 8,
   "metadata": {},
   "outputs": [],
   "source": [
    "titanic_copy=titanic"
   ]
  },
  {
   "cell_type": "markdown",
   "metadata": {},
   "source": [
    "**Exercise 3:  Now in titanic_copy, replace C with Cherbourg, Q with Queenstown and S with Southampton.**"
   ]
  },
  {
   "cell_type": "code",
   "execution_count": 9,
   "metadata": {},
   "outputs": [],
   "source": [
    "titanic_copy.loc[titanic_copy['Embarked']=='S', 'Embarked']='Southampton'\n",
    "titanic_copy.loc[titanic_copy['Embarked']=='Q', 'Embarked']='Queenstown'\n",
    "titanic_copy.loc[titanic_copy['Embarked']=='C', 'Embarked']='Cherbourg'"
   ]
  },
  {
   "cell_type": "markdown",
   "metadata": {},
   "source": [
    "**Exercise 4:  Replace all passengers having an NaN age.**  \n",
    "Replace NaN male ages with the average male passenger age and all female passengers having an NaN age with the average female passenger age in titanic_copy."
   ]
  },
  {
   "cell_type": "code",
   "execution_count": 10,
   "metadata": {},
   "outputs": [],
   "source": [
    "titanic_copy.loc[titanic_copy['Age'].isna() & (titanic_copy['Sex']=='male'), 'Age'] = np.mean(\n",
    "    titanic_copy.loc[(titanic_copy['Sex']=='male'), 'Age'])\n",
    "\n",
    "titanic_copy.loc[titanic_copy['Age'].isna() & (titanic_copy['Sex']=='female'), 'Age'] = np.mean(\n",
    "    titanic_copy.loc[(titanic_copy['Sex']=='female'), 'Age'])"
   ]
  },
  {
   "cell_type": "markdown",
   "metadata": {},
   "source": [
    "# Derived data"
   ]
  },
  {
   "cell_type": "markdown",
   "metadata": {},
   "source": [
    "**Exercise 5:  Create a new column 'YearsLeft' in titanic_copy.**  \n",
    "It should calculate how many years of life each passenger had left.  The average lifespan at the time was about 55 years.  "
   ]
  },
  {
   "cell_type": "code",
   "execution_count": 11,
   "metadata": {},
   "outputs": [],
   "source": [
    "titanic_copy['YearsLeft']=55-titanic_copy['Age']"
   ]
  },
  {
   "cell_type": "markdown",
   "metadata": {},
   "source": [
    "**Exercise 6:  For any passenger with a negative 'YearsLeft' replace it with 0.**  \n",
    "Unfortunately there are 40 people who outlived the average lifespan so their 'YearsLeft' is negative."
   ]
  },
  {
   "cell_type": "code",
   "execution_count": 12,
   "metadata": {},
   "outputs": [],
   "source": [
    "titanic_copy.loc[titanic_copy['YearsLeft']<0, 'YearsLeft']=0"
   ]
  },
  {
   "cell_type": "markdown",
   "metadata": {},
   "source": [
    "**Question 4:  Approximately how many total years of life were lost in the sinking of the Titanic?**"
   ]
  },
  {
   "cell_type": "code",
   "execution_count": 13,
   "metadata": {},
   "outputs": [
    {
     "data": {
      "text/plain": [
       "13634.45533429753"
      ]
     },
     "execution_count": 13,
     "metadata": {},
     "output_type": "execute_result"
    }
   ],
   "source": [
    "np.sum(titanic_copy.loc[titanic_copy['Survived']==0, 'YearsLeft'])"
   ]
  }
 ],
 "metadata": {
  "kernelspec": {
   "display_name": "Python 3",
   "language": "python",
   "name": "python3"
  },
  "language_info": {
   "codemirror_mode": {
    "name": "ipython",
    "version": 3
   },
   "file_extension": ".py",
   "mimetype": "text/x-python",
   "name": "python",
   "nbconvert_exporter": "python",
   "pygments_lexer": "ipython3",
   "version": "3.7.9"
  }
 },
 "nbformat": 4,
 "nbformat_minor": 4
}
