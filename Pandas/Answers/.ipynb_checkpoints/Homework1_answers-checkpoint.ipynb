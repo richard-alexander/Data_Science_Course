{
 "cells": [
  {
   "cell_type": "markdown",
   "metadata": {},
   "source": [
    "# Homework 1: Construction, structures and simple statistics (0,1,2)"
   ]
  },
  {
   "cell_type": "code",
   "execution_count": 1,
   "metadata": {},
   "outputs": [],
   "source": [
    "import pandas as pd\n",
    "import numpy as np"
   ]
  },
  {
   "cell_type": "markdown",
   "metadata": {},
   "source": [
    "Some functions we have covered\n",
    "\n",
    "- pd.Series() \n",
    "- df=pd.DataFrame({'A': 1., 'B': pd.Timestamp('20130102'), 'C': pd.Series(1, index=list(range(4)), dtype='float32'), 'D': np.array([3] * 4, dtype='int32'), 'E': pd.Categorical([\"test\", \"train\", \"test\", \"train\"]), 'F': 'foo'})\n",
    "- df.T \n",
    "- df.index \n",
    "- df.columns \n",
    "- df.sort_values(by='C') \n",
    "- df['A'] \n",
    "- df.describe(include=['number', 'category', 'all'], percentiles=[.05, .25, .75, .95]) \n",
    "- df.max(skipna=False) \n",
    "- df.min() \n",
    "- df.sum() \n",
    "- df.mean() \n",
    "- df.unique() \n",
    "- df.idxmax() \n",
    "- df.iloc \n",
    "- df.value_counts()"
   ]
  },
  {
   "cell_type": "raw",
   "metadata": {},
   "source": [
    "pd.Series()\n",
    "df=pd.DataFrame({'A': 1.,\n",
    "                    'B': pd.Timestamp('20130102'),\n",
    "                    'C': pd.Series(1, index=list(range(4)), dtype='float32'),\n",
    "                    'D': np.array([3] * 4, dtype='int32'),\n",
    "                    'E': pd.Categorical([\"test\", \"train\", \"test\", \"train\"]),\n",
    "                    'F': 'foo'})\n",
    "df.T\n",
    "df.index\n",
    "df.columns\n",
    "df.sort_values(by='C')\n",
    "df['A']\n",
    "\n",
    "df.describe(include=['number', 'category', 'all'], percentiles=[.05, .25, .75, .95])\n",
    "df.max(skipna=False)\n",
    "df.min()\n",
    "df.sum()\n",
    "df.mean()\n",
    "df.unique()\n",
    "\n",
    "df.idxmax()\n",
    "df.iloc\n",
    "df.value_counts()\n"
   ]
  },
  {
   "cell_type": "markdown",
   "metadata": {},
   "source": [
    "# Constructing the dataset"
   ]
  },
  {
   "cell_type": "markdown",
   "metadata": {},
   "source": [
    "**Exercise 1:  Create 4 Series**  \n",
    "Create a series with 100 entries called Norm1 that has random values that are normally distributed with mean 0 and standard deviation 4.  \n",
    "Create a second series with 100 entries called Norm2 that has random values that are normally distributed with mean 3 and standard deviation 2.  \n",
    "Create a third series with 100 entries called Conditions that has either 'WT' or 'mut', randomly chosen.\n",
    "np.random.choice() can accomplish something like this.  \n",
    "Create a fourth series with 100 entries called Counts that has a poisson distribution, lambda=5."
   ]
  },
  {
   "cell_type": "code",
   "execution_count": 2,
   "metadata": {},
   "outputs": [
    {
     "data": {
      "text/plain": [
       "0     1.404877\n",
       "1     4.539920\n",
       "2    -1.861111\n",
       "3    -0.446206\n",
       "4     5.482059\n",
       "        ...   \n",
       "95    2.667421\n",
       "96    9.004488\n",
       "97   -2.539164\n",
       "98   -4.522893\n",
       "99    1.415669\n",
       "Length: 100, dtype: float64"
      ]
     },
     "execution_count": 2,
     "metadata": {},
     "output_type": "execute_result"
    }
   ],
   "source": [
    "Norm1 = pd.Series(np.random.normal(0, 4, 100))\n",
    "Norm1"
   ]
  },
  {
   "cell_type": "code",
   "execution_count": 3,
   "metadata": {},
   "outputs": [
    {
     "data": {
      "text/plain": [
       "0    -0.191785\n",
       "1     3.571528\n",
       "2     1.480085\n",
       "3     2.811187\n",
       "4     4.911508\n",
       "        ...   \n",
       "95    2.271243\n",
       "96    1.080513\n",
       "97    5.329382\n",
       "98    3.104005\n",
       "99   -1.776546\n",
       "Length: 100, dtype: float64"
      ]
     },
     "execution_count": 3,
     "metadata": {},
     "output_type": "execute_result"
    }
   ],
   "source": [
    "Norm2 = pd.Series(np.random.normal(3,2,100))\n",
    "Norm2"
   ]
  },
  {
   "cell_type": "code",
   "execution_count": 4,
   "metadata": {},
   "outputs": [
    {
     "data": {
      "text/plain": [
       "['mut', 'mut', 'mut', 'mut', 'mut', ..., 'WT', 'mut', 'WT', 'mut', 'WT']\n",
       "Length: 100\n",
       "Categories (2, object): ['WT', 'mut']"
      ]
     },
     "execution_count": 4,
     "metadata": {},
     "output_type": "execute_result"
    }
   ],
   "source": [
    "Conditions = pd.Categorical(pd.Series(np.random.choice(['WT', 'mut'], size=100)))\n",
    "Conditions"
   ]
  },
  {
   "cell_type": "code",
   "execution_count": 5,
   "metadata": {},
   "outputs": [
    {
     "data": {
      "text/plain": [
       "array([ 3,  5,  5,  7,  4,  3,  5,  7,  6,  4,  4,  3,  3,  6,  5,  6,  1,\n",
       "       10, 11,  6,  5,  6,  5,  4,  2,  5,  7,  7,  8,  1,  6, 10,  7,  2,\n",
       "       10,  2,  3,  7,  6,  5,  7,  2,  5,  2,  4,  7,  6,  0,  8,  4,  2,\n",
       "        2,  5,  6,  5,  5,  2,  4,  4,  5,  4,  3,  6,  3,  3,  4,  7,  0,\n",
       "        4,  5,  4,  4,  4,  5,  2,  6,  6,  5,  8,  5,  5,  3,  4,  8,  2,\n",
       "        3,  4,  5,  3,  3,  3,  7,  5,  5,  4,  6,  5,  5,  8,  6])"
      ]
     },
     "execution_count": 5,
     "metadata": {},
     "output_type": "execute_result"
    }
   ],
   "source": [
    "Counts=np.random.poisson(5,100)\n",
    "Counts"
   ]
  },
  {
   "cell_type": "markdown",
   "metadata": {},
   "source": [
    "**Exercise 2:  Combine these into a Dataframe called df**"
   ]
  },
  {
   "cell_type": "code",
   "execution_count": 6,
   "metadata": {},
   "outputs": [
    {
     "data": {
      "text/html": [
       "<div>\n",
       "<style scoped>\n",
       "    .dataframe tbody tr th:only-of-type {\n",
       "        vertical-align: middle;\n",
       "    }\n",
       "\n",
       "    .dataframe tbody tr th {\n",
       "        vertical-align: top;\n",
       "    }\n",
       "\n",
       "    .dataframe thead th {\n",
       "        text-align: right;\n",
       "    }\n",
       "</style>\n",
       "<table border=\"1\" class=\"dataframe\">\n",
       "  <thead>\n",
       "    <tr style=\"text-align: right;\">\n",
       "      <th></th>\n",
       "      <th>Norm1</th>\n",
       "      <th>Norm2</th>\n",
       "      <th>Conditions</th>\n",
       "      <th>Counts</th>\n",
       "    </tr>\n",
       "  </thead>\n",
       "  <tbody>\n",
       "    <tr>\n",
       "      <th>0</th>\n",
       "      <td>1.404877</td>\n",
       "      <td>-0.191785</td>\n",
       "      <td>mut</td>\n",
       "      <td>3</td>\n",
       "    </tr>\n",
       "    <tr>\n",
       "      <th>1</th>\n",
       "      <td>4.539920</td>\n",
       "      <td>3.571528</td>\n",
       "      <td>mut</td>\n",
       "      <td>5</td>\n",
       "    </tr>\n",
       "    <tr>\n",
       "      <th>2</th>\n",
       "      <td>-1.861111</td>\n",
       "      <td>1.480085</td>\n",
       "      <td>mut</td>\n",
       "      <td>5</td>\n",
       "    </tr>\n",
       "    <tr>\n",
       "      <th>3</th>\n",
       "      <td>-0.446206</td>\n",
       "      <td>2.811187</td>\n",
       "      <td>mut</td>\n",
       "      <td>7</td>\n",
       "    </tr>\n",
       "    <tr>\n",
       "      <th>4</th>\n",
       "      <td>5.482059</td>\n",
       "      <td>4.911508</td>\n",
       "      <td>mut</td>\n",
       "      <td>4</td>\n",
       "    </tr>\n",
       "  </tbody>\n",
       "</table>\n",
       "</div>"
      ],
      "text/plain": [
       "      Norm1     Norm2 Conditions  Counts\n",
       "0  1.404877 -0.191785        mut       3\n",
       "1  4.539920  3.571528        mut       5\n",
       "2 -1.861111  1.480085        mut       5\n",
       "3 -0.446206  2.811187        mut       7\n",
       "4  5.482059  4.911508        mut       4"
      ]
     },
     "execution_count": 6,
     "metadata": {},
     "output_type": "execute_result"
    }
   ],
   "source": [
    "df=pd.DataFrame({'Norm1':Norm1, 'Norm2':Norm2, 'Conditions':Conditions, 'Counts':Counts})\n",
    "df.head()"
   ]
  },
  {
   "cell_type": "markdown",
   "metadata": {},
   "source": [
    "# Statistics on the dataset"
   ]
  },
  {
   "cell_type": "markdown",
   "metadata": {},
   "source": [
    "The mean/stdev of Norm1 should be 0/4.  The mean/stdev of Norm2 should be 3/2.  \n",
    "\n",
    "**Question 1:  How far off are these from our dataframe?**"
   ]
  },
  {
   "cell_type": "code",
   "execution_count": 7,
   "metadata": {},
   "outputs": [
    {
     "data": {
      "text/html": [
       "<div>\n",
       "<style scoped>\n",
       "    .dataframe tbody tr th:only-of-type {\n",
       "        vertical-align: middle;\n",
       "    }\n",
       "\n",
       "    .dataframe tbody tr th {\n",
       "        vertical-align: top;\n",
       "    }\n",
       "\n",
       "    .dataframe thead th {\n",
       "        text-align: right;\n",
       "    }\n",
       "</style>\n",
       "<table border=\"1\" class=\"dataframe\">\n",
       "  <thead>\n",
       "    <tr style=\"text-align: right;\">\n",
       "      <th></th>\n",
       "      <th>Norm1</th>\n",
       "      <th>Norm2</th>\n",
       "      <th>Conditions</th>\n",
       "      <th>Counts</th>\n",
       "    </tr>\n",
       "  </thead>\n",
       "  <tbody>\n",
       "    <tr>\n",
       "      <th>count</th>\n",
       "      <td>100.000000</td>\n",
       "      <td>100.000000</td>\n",
       "      <td>100</td>\n",
       "      <td>100.000000</td>\n",
       "    </tr>\n",
       "    <tr>\n",
       "      <th>unique</th>\n",
       "      <td>NaN</td>\n",
       "      <td>NaN</td>\n",
       "      <td>2</td>\n",
       "      <td>NaN</td>\n",
       "    </tr>\n",
       "    <tr>\n",
       "      <th>top</th>\n",
       "      <td>NaN</td>\n",
       "      <td>NaN</td>\n",
       "      <td>mut</td>\n",
       "      <td>NaN</td>\n",
       "    </tr>\n",
       "    <tr>\n",
       "      <th>freq</th>\n",
       "      <td>NaN</td>\n",
       "      <td>NaN</td>\n",
       "      <td>54</td>\n",
       "      <td>NaN</td>\n",
       "    </tr>\n",
       "    <tr>\n",
       "      <th>mean</th>\n",
       "      <td>-0.357408</td>\n",
       "      <td>3.006164</td>\n",
       "      <td>NaN</td>\n",
       "      <td>4.790000</td>\n",
       "    </tr>\n",
       "    <tr>\n",
       "      <th>std</th>\n",
       "      <td>4.058557</td>\n",
       "      <td>2.167942</td>\n",
       "      <td>NaN</td>\n",
       "      <td>2.123914</td>\n",
       "    </tr>\n",
       "    <tr>\n",
       "      <th>min</th>\n",
       "      <td>-12.396577</td>\n",
       "      <td>-2.747025</td>\n",
       "      <td>NaN</td>\n",
       "      <td>0.000000</td>\n",
       "    </tr>\n",
       "    <tr>\n",
       "      <th>25%</th>\n",
       "      <td>-2.969937</td>\n",
       "      <td>1.606974</td>\n",
       "      <td>NaN</td>\n",
       "      <td>3.000000</td>\n",
       "    </tr>\n",
       "    <tr>\n",
       "      <th>50%</th>\n",
       "      <td>-0.446159</td>\n",
       "      <td>2.851043</td>\n",
       "      <td>NaN</td>\n",
       "      <td>5.000000</td>\n",
       "    </tr>\n",
       "    <tr>\n",
       "      <th>75%</th>\n",
       "      <td>2.367380</td>\n",
       "      <td>4.639856</td>\n",
       "      <td>NaN</td>\n",
       "      <td>6.000000</td>\n",
       "    </tr>\n",
       "    <tr>\n",
       "      <th>max</th>\n",
       "      <td>10.270742</td>\n",
       "      <td>9.383905</td>\n",
       "      <td>NaN</td>\n",
       "      <td>11.000000</td>\n",
       "    </tr>\n",
       "  </tbody>\n",
       "</table>\n",
       "</div>"
      ],
      "text/plain": [
       "             Norm1       Norm2 Conditions      Counts\n",
       "count   100.000000  100.000000        100  100.000000\n",
       "unique         NaN         NaN          2         NaN\n",
       "top            NaN         NaN        mut         NaN\n",
       "freq           NaN         NaN         54         NaN\n",
       "mean     -0.357408    3.006164        NaN    4.790000\n",
       "std       4.058557    2.167942        NaN    2.123914\n",
       "min     -12.396577   -2.747025        NaN    0.000000\n",
       "25%      -2.969937    1.606974        NaN    3.000000\n",
       "50%      -0.446159    2.851043        NaN    5.000000\n",
       "75%       2.367380    4.639856        NaN    6.000000\n",
       "max      10.270742    9.383905        NaN   11.000000"
      ]
     },
     "execution_count": 7,
     "metadata": {},
     "output_type": "execute_result"
    }
   ],
   "source": [
    "df.describe(include='all')"
   ]
  },
  {
   "cell_type": "markdown",
   "metadata": {},
   "source": [
    "**Question 2:  What Condition is the entry with the highest Norm1 value?**  \n",
    "You can use sort_values or iloc/idxmax to accomplish this."
   ]
  },
  {
   "cell_type": "code",
   "execution_count": 8,
   "metadata": {},
   "outputs": [
    {
     "data": {
      "text/plain": [
       "Norm1         10.2707\n",
       "Norm2         3.29337\n",
       "Conditions        mut\n",
       "Counts              5\n",
       "Name: 39, dtype: object"
      ]
     },
     "execution_count": 8,
     "metadata": {},
     "output_type": "execute_result"
    }
   ],
   "source": [
    "df.iloc[df['Norm1'].idxmax()]"
   ]
  },
  {
   "cell_type": "code",
   "execution_count": 9,
   "metadata": {},
   "outputs": [
    {
     "data": {
      "text/html": [
       "<div>\n",
       "<style scoped>\n",
       "    .dataframe tbody tr th:only-of-type {\n",
       "        vertical-align: middle;\n",
       "    }\n",
       "\n",
       "    .dataframe tbody tr th {\n",
       "        vertical-align: top;\n",
       "    }\n",
       "\n",
       "    .dataframe thead th {\n",
       "        text-align: right;\n",
       "    }\n",
       "</style>\n",
       "<table border=\"1\" class=\"dataframe\">\n",
       "  <thead>\n",
       "    <tr style=\"text-align: right;\">\n",
       "      <th></th>\n",
       "      <th>Norm1</th>\n",
       "      <th>Norm2</th>\n",
       "      <th>Conditions</th>\n",
       "      <th>Counts</th>\n",
       "    </tr>\n",
       "  </thead>\n",
       "  <tbody>\n",
       "    <tr>\n",
       "      <th>39</th>\n",
       "      <td>10.270742</td>\n",
       "      <td>3.293372</td>\n",
       "      <td>mut</td>\n",
       "      <td>5</td>\n",
       "    </tr>\n",
       "    <tr>\n",
       "      <th>96</th>\n",
       "      <td>9.004488</td>\n",
       "      <td>1.080513</td>\n",
       "      <td>mut</td>\n",
       "      <td>5</td>\n",
       "    </tr>\n",
       "    <tr>\n",
       "      <th>67</th>\n",
       "      <td>8.562666</td>\n",
       "      <td>-2.747025</td>\n",
       "      <td>mut</td>\n",
       "      <td>0</td>\n",
       "    </tr>\n",
       "    <tr>\n",
       "      <th>57</th>\n",
       "      <td>7.162682</td>\n",
       "      <td>2.165999</td>\n",
       "      <td>WT</td>\n",
       "      <td>4</td>\n",
       "    </tr>\n",
       "    <tr>\n",
       "      <th>91</th>\n",
       "      <td>6.859093</td>\n",
       "      <td>-0.065400</td>\n",
       "      <td>WT</td>\n",
       "      <td>7</td>\n",
       "    </tr>\n",
       "    <tr>\n",
       "      <th>...</th>\n",
       "      <td>...</td>\n",
       "      <td>...</td>\n",
       "      <td>...</td>\n",
       "      <td>...</td>\n",
       "    </tr>\n",
       "    <tr>\n",
       "      <th>64</th>\n",
       "      <td>-7.358443</td>\n",
       "      <td>5.230921</td>\n",
       "      <td>WT</td>\n",
       "      <td>3</td>\n",
       "    </tr>\n",
       "    <tr>\n",
       "      <th>55</th>\n",
       "      <td>-7.390530</td>\n",
       "      <td>4.890387</td>\n",
       "      <td>mut</td>\n",
       "      <td>5</td>\n",
       "    </tr>\n",
       "    <tr>\n",
       "      <th>66</th>\n",
       "      <td>-7.439598</td>\n",
       "      <td>2.260498</td>\n",
       "      <td>mut</td>\n",
       "      <td>7</td>\n",
       "    </tr>\n",
       "    <tr>\n",
       "      <th>50</th>\n",
       "      <td>-9.793913</td>\n",
       "      <td>2.837195</td>\n",
       "      <td>mut</td>\n",
       "      <td>2</td>\n",
       "    </tr>\n",
       "    <tr>\n",
       "      <th>27</th>\n",
       "      <td>-12.396577</td>\n",
       "      <td>0.454368</td>\n",
       "      <td>mut</td>\n",
       "      <td>7</td>\n",
       "    </tr>\n",
       "  </tbody>\n",
       "</table>\n",
       "<p>100 rows × 4 columns</p>\n",
       "</div>"
      ],
      "text/plain": [
       "        Norm1     Norm2 Conditions  Counts\n",
       "39  10.270742  3.293372        mut       5\n",
       "96   9.004488  1.080513        mut       5\n",
       "67   8.562666 -2.747025        mut       0\n",
       "57   7.162682  2.165999         WT       4\n",
       "91   6.859093 -0.065400         WT       7\n",
       "..        ...       ...        ...     ...\n",
       "64  -7.358443  5.230921         WT       3\n",
       "55  -7.390530  4.890387        mut       5\n",
       "66  -7.439598  2.260498        mut       7\n",
       "50  -9.793913  2.837195        mut       2\n",
       "27 -12.396577  0.454368        mut       7\n",
       "\n",
       "[100 rows x 4 columns]"
      ]
     },
     "execution_count": 9,
     "metadata": {},
     "output_type": "execute_result"
    }
   ],
   "source": [
    "df.sort_values(by='Norm1', ascending=False)"
   ]
  },
  {
   "cell_type": "markdown",
   "metadata": {},
   "source": [
    "**Question 3:  What is the most common value for Counts?**"
   ]
  },
  {
   "cell_type": "code",
   "execution_count": 14,
   "metadata": {},
   "outputs": [
    {
     "data": {
      "text/plain": [
       "5"
      ]
     },
     "execution_count": 14,
     "metadata": {},
     "output_type": "execute_result"
    }
   ],
   "source": [
    "df['Counts'].value_counts().index[0]"
   ]
  },
  {
   "cell_type": "markdown",
   "metadata": {},
   "source": [
    "# Looping"
   ]
  },
  {
   "cell_type": "markdown",
   "metadata": {},
   "source": [
    "**Exercise 3:  Loop through the columns of df and print out their names but with ' (preliminary)' tacked on to the end.**  \n",
    "It should look something like:  \n",
    "\n",
    "Norm1 (preliminary)  \n",
    "Norm2 (preliminary)  \n",
    "Conditions (preliminary)  \n",
    "Counts (preliminary)"
   ]
  },
  {
   "cell_type": "code",
   "execution_count": 11,
   "metadata": {
    "tags": []
   },
   "outputs": [
    {
     "name": "stdout",
     "output_type": "stream",
     "text": [
      "Norm1 (preliminary)\n",
      "Norm2 (preliminary)\n",
      "Conditions (preliminary)\n",
      "Counts (preliminary)\n"
     ]
    }
   ],
   "source": [
    "for c in df.columns:\n",
    "    print(c+' (preliminary)')"
   ]
  }
 ],
 "metadata": {
  "kernelspec": {
   "display_name": "Python 3",
   "language": "python",
   "name": "python3"
  },
  "language_info": {
   "codemirror_mode": {
    "name": "ipython",
    "version": 3
   },
   "file_extension": ".py",
   "mimetype": "text/x-python",
   "name": "python",
   "nbconvert_exporter": "python",
   "pygments_lexer": "ipython3",
   "version": "3.7.9"
  }
 },
 "nbformat": 4,
 "nbformat_minor": 4
}
