{
  "nbformat": 4,
  "nbformat_minor": 0,
  "metadata": {
    "colab": {
      "name": "numpy01.ipynb",
      "provenance": [],
      "collapsed_sections": [],
      "authorship_tag": "ABX9TyOWI72Lc7hXo4v3sIfaEK8P",
      "include_colab_link": true
    },
    "kernelspec": {
      "name": "python3",
      "display_name": "Python 3"
    }
  },
  "cells": [
    {
      "cell_type": "markdown",
      "metadata": {
        "id": "view-in-github",
        "colab_type": "text"
      },
      "source": [
        "<a href=\"https://colab.research.google.com/github/cwood1967/Data_Science_Course/blob/cjw/Intro/numpy01.ipynb\" target=\"_parent\"><img src=\"https://colab.research.google.com/assets/colab-badge.svg\" alt=\"Open In Colab\"/></a>"
      ]
    },
    {
      "cell_type": "code",
      "metadata": {
        "id": "cOEZAbeP4FBL"
      },
      "source": [
        "# importing numpy, with name np by convention\n",
        "\n",
        "import numpy as np"
      ],
      "execution_count": 4,
      "outputs": []
    },
    {
      "cell_type": "code",
      "metadata": {
        "id": "ewPhsDMwgxlc"
      },
      "source": [
        "x_list = [4,1,4,3,5,6]\n",
        "x = np.array(x_list)"
      ],
      "execution_count": 5,
      "outputs": []
    },
    {
      "cell_type": "code",
      "metadata": {
        "id": "YgZiY2avhG5a",
        "outputId": "22970a58-63de-412f-bda1-fee85ff1a6fe",
        "colab": {
          "base_uri": "https://localhost:8080/",
          "height": 34
        }
      },
      "source": [
        "### the numpy array has a fixed length of a static type\n",
        "\n",
        "type(x), x.shape, x.dtype"
      ],
      "execution_count": 6,
      "outputs": [
        {
          "output_type": "execute_result",
          "data": {
            "text/plain": [
              "(numpy.ndarray, (6,), dtype('int64'))"
            ]
          },
          "metadata": {
            "tags": []
          },
          "execution_count": 6
        }
      ]
    },
    {
      "cell_type": "code",
      "metadata": {
        "id": "UpimOfnDXqr2",
        "outputId": "eaec0b64-63e3-4396-bcac-6f2d1dd98fa6",
        "colab": {
          "base_uri": "https://localhost:8080/",
          "height": 34
        }
      },
      "source": [
        "x[0], x[2]"
      ],
      "execution_count": 7,
      "outputs": [
        {
          "output_type": "execute_result",
          "data": {
            "text/plain": [
              "(4, 4)"
            ]
          },
          "metadata": {
            "tags": []
          },
          "execution_count": 7
        }
      ]
    },
    {
      "cell_type": "code",
      "metadata": {
        "id": "h5bKCFiLX2Sj",
        "outputId": "8c2a905c-02f7-47f4-e8e1-916c814694a9",
        "colab": {
          "base_uri": "https://localhost:8080/",
          "height": 34
        }
      },
      "source": [
        "x[1] = 3\n",
        "x[2] = 5.6  # because the array is int64, will be truncated\n",
        "x"
      ],
      "execution_count": 9,
      "outputs": [
        {
          "output_type": "execute_result",
          "data": {
            "text/plain": [
              "array([4, 3, 5, 3, 5, 6])"
            ]
          },
          "metadata": {
            "tags": []
          },
          "execution_count": 9
        }
      ]
    },
    {
      "cell_type": "code",
      "metadata": {
        "id": "mMyHeeN7hWUZ",
        "outputId": "1ef32724-d47d-4258-9fd5-471f74632058",
        "colab": {
          "base_uri": "https://localhost:8080/",
          "height": 34
        }
      },
      "source": [
        "#numpy array support vectorized operations\n",
        "\n",
        "# multiply every element by 2\n",
        "y = x * 2\n",
        "y\n"
      ],
      "execution_count": 10,
      "outputs": [
        {
          "output_type": "execute_result",
          "data": {
            "text/plain": [
              "array([ 8,  6, 10,  6, 10, 12])"
            ]
          },
          "metadata": {
            "tags": []
          },
          "execution_count": 10
        }
      ]
    },
    {
      "cell_type": "code",
      "metadata": {
        "id": "63z1b74_hY0c",
        "outputId": "734c33b4-cbbb-4b34-e2fa-1a9177c928b8",
        "colab": {
          "base_uri": "https://localhost:8080/",
          "height": 34
        }
      },
      "source": [
        "'''\n",
        "math operations element-wise\n",
        "need the dimensions to be the same\n",
        "'''\n",
        "u1 = x * y\n",
        "u2 = x / y\n",
        "u2"
      ],
      "execution_count": 11,
      "outputs": [
        {
          "output_type": "execute_result",
          "data": {
            "text/plain": [
              "array([0.5, 0.5, 0.5, 0.5, 0.5, 0.5])"
            ]
          },
          "metadata": {
            "tags": []
          },
          "execution_count": 11
        }
      ]
    },
    {
      "cell_type": "code",
      "metadata": {
        "id": "WEvaSFqYhc0S",
        "outputId": "3031a1b9-3b8e-4261-cef7-095c87eb1141",
        "colab": {
          "base_uri": "https://localhost:8080/",
          "height": 51
        }
      },
      "source": [
        "'''\n",
        "math function on the array\n",
        "exp, sqrt, log, trig functions, ...\n",
        "'''\n",
        "\n",
        "sy = np.exp(-.1*y)\n",
        "sy"
      ],
      "execution_count": 12,
      "outputs": [
        {
          "output_type": "execute_result",
          "data": {
            "text/plain": [
              "array([0.44932896, 0.54881164, 0.36787944, 0.54881164, 0.36787944,\n",
              "       0.30119421])"
            ]
          },
          "metadata": {
            "tags": []
          },
          "execution_count": 12
        }
      ]
    },
    {
      "cell_type": "code",
      "metadata": {
        "id": "tQfb-T9uiRNV",
        "outputId": "963a537c-cc55-4ff9-f8cd-c25edda15f49",
        "colab": {
          "base_uri": "https://localhost:8080/",
          "height": 34
        }
      },
      "source": [
        "'''\n",
        "multi-dimensional arrays\n",
        "use np.random to generate arrays from a distribution\n",
        "'''\n",
        "rx = np.random.randint(0, 10,(100,8)) # 100 rows, 8 columns\n",
        "rx.shape, rx.dtype"
      ],
      "execution_count": 13,
      "outputs": [
        {
          "output_type": "execute_result",
          "data": {
            "text/plain": [
              "((100, 8), dtype('int64'))"
            ]
          },
          "metadata": {
            "tags": []
          },
          "execution_count": 13
        }
      ]
    },
    {
      "cell_type": "code",
      "metadata": {
        "id": "-L8VuiK4i4Uu",
        "outputId": "1a1a0fb2-2780-4c42-88d6-352ad47132c3",
        "colab": {
          "base_uri": "https://localhost:8080/",
          "height": 34
        }
      },
      "source": [
        "# select only part of the array\n",
        "# just the first row\n",
        "rx[0,:]"
      ],
      "execution_count": 14,
      "outputs": [
        {
          "output_type": "execute_result",
          "data": {
            "text/plain": [
              "array([3, 5, 4, 0, 0, 0, 0, 8])"
            ]
          },
          "metadata": {
            "tags": []
          },
          "execution_count": 14
        }
      ]
    },
    {
      "cell_type": "code",
      "metadata": {
        "id": "UeoX8n9TjifR",
        "outputId": "c29c4516-26f3-4272-d93f-fde0fc6059c5",
        "colab": {
          "base_uri": "https://localhost:8080/",
          "height": 102
        }
      },
      "source": [
        "# the first column\n",
        "rx[:,0]"
      ],
      "execution_count": 15,
      "outputs": [
        {
          "output_type": "execute_result",
          "data": {
            "text/plain": [
              "array([3, 5, 3, 2, 2, 6, 1, 4, 8, 4, 0, 2, 4, 5, 7, 8, 2, 1, 1, 3, 6, 6,\n",
              "       7, 1, 6, 7, 0, 3, 7, 8, 7, 7, 4, 6, 6, 2, 4, 1, 2, 4, 0, 3, 1, 3,\n",
              "       7, 3, 9, 6, 6, 4, 1, 0, 8, 2, 5, 0, 8, 5, 9, 1, 1, 9, 0, 0, 6, 2,\n",
              "       6, 9, 9, 6, 5, 7, 9, 5, 4, 4, 9, 9, 7, 0, 5, 9, 8, 5, 8, 4, 7, 2,\n",
              "       2, 6, 8, 5, 5, 4, 9, 7, 8, 4, 6, 9])"
            ]
          },
          "metadata": {
            "tags": []
          },
          "execution_count": 15
        }
      ]
    },
    {
      "cell_type": "code",
      "metadata": {
        "id": "-0zCPwUrkRuQ",
        "outputId": "517d866c-590b-47a3-8d22-cd2b1c292a0e",
        "colab": {
          "base_uri": "https://localhost:8080/",
          "height": 68
        }
      },
      "source": [
        "# a slice from anywhere\n",
        "\n",
        "rx[13:16, 4:7]   #does not include 16th row or 7th column"
      ],
      "execution_count": 16,
      "outputs": [
        {
          "output_type": "execute_result",
          "data": {
            "text/plain": [
              "array([[9, 6, 9],\n",
              "       [2, 7, 7],\n",
              "       [6, 1, 3]])"
            ]
          },
          "metadata": {
            "tags": []
          },
          "execution_count": 16
        }
      ]
    },
    {
      "cell_type": "code",
      "metadata": {
        "id": "N2IEM58Qkl_e",
        "outputId": "3fb7a657-a8a0-4826-ec81-fe6829ff0ce5",
        "colab": {
          "base_uri": "https://localhost:8080/",
          "height": 68
        }
      },
      "source": [
        "'''\n",
        "all of the slicing operations create a view into the array, not a copy\n",
        "so be careful if you go changing things\n",
        "'''\n",
        "print(rx[0, :])\n",
        "u = rx[0,:]  ## first row\n",
        "u[3] = 40\n",
        "print(u)\n",
        "print(rx[0,:])"
      ],
      "execution_count": null,
      "outputs": [
        {
          "output_type": "stream",
          "text": [
            "[9 5 1 0 4 6 6 9]\n",
            "[ 9  5  1 40  4  6  6  9]\n",
            "[ 9  5  1 40  4  6  6  9]\n"
          ],
          "name": "stdout"
        }
      ]
    },
    {
      "cell_type": "code",
      "metadata": {
        "id": "SjLmsgW7lNFW",
        "outputId": "b0315e88-0a6e-4422-f7de-d109f6de4944",
        "colab": {
          "base_uri": "https://localhost:8080/",
          "height": 68
        }
      },
      "source": [
        "# use the array method copy to get a copy\n",
        "print(rx[0, :])\n",
        "u = rx[0,:].copy()  ## first row\n",
        "u[2] = 40\n",
        "print(u)\n",
        "print(rx[0,:])"
      ],
      "execution_count": 17,
      "outputs": [
        {
          "output_type": "stream",
          "text": [
            "[3 5 4 0 0 0 0 8]\n",
            "[ 3  5 40  0  0  0  0  8]\n",
            "[3 5 4 0 0 0 0 8]\n"
          ],
          "name": "stdout"
        }
      ]
    },
    {
      "cell_type": "code",
      "metadata": {
        "id": "EXeQe1zbltTc"
      },
      "source": [
        "# use random again for a normal distribution (also see np.random.normal)\n",
        "rx = np.random.randn(100,8)  # 100 columns, 8 rows\n",
        "rx.shape, rx.dtype\n",
        "np.set_printoptions(precision=4, linewidth=100)"
      ],
      "execution_count": 29,
      "outputs": []
    },
    {
      "cell_type": "code",
      "metadata": {
        "id": "XfaT3uibn2XK",
        "outputId": "5a98e0ac-9e0f-489c-a8ed-993555dc3e86",
        "colab": {
          "base_uri": "https://localhost:8080/",
          "height": 34
        }
      },
      "source": [
        "# statistics for the entire array\n",
        "(rx.mean(), rx.std(), rx.min(), rx.max())"
      ],
      "execution_count": 33,
      "outputs": [
        {
          "output_type": "execute_result",
          "data": {
            "text/plain": [
              "(0.010890316769035839, 0.975290381035699, -3.25800571234229, 2.65665796850222)"
            ]
          },
          "metadata": {
            "tags": []
          },
          "execution_count": 33
        }
      ]
    },
    {
      "cell_type": "code",
      "metadata": {
        "id": "FNSitbp8oDdJ",
        "outputId": "2b058510-71ef-46b7-db7a-cbd368448667",
        "colab": {
          "base_uri": "https://localhost:8080/",
          "height": 85
        }
      },
      "source": [
        "print(rx.mean(axis=0))\n",
        "print(rx.std(axis=0))\n",
        "print(rx.min(axis=0))\n",
        "print(rx.max(axis=0))"
      ],
      "execution_count": 46,
      "outputs": [
        {
          "output_type": "stream",
          "text": [
            "[ 0.1286 -0.0081  0.0376 -0.0494  0.0017 -0.062   0.1096 -0.0709]\n",
            "[0.9914 0.9334 0.9734 0.9288 0.8931 1.0354 1.0469 0.9691]\n",
            "[-2.0096 -1.9024 -2.6431 -2.1515 -3.258  -2.6363 -2.5014 -2.0154]\n",
            "[2.6567 2.2692 2.2453 2.0357 2.5812 1.9627 2.3172 1.9898]\n"
          ],
          "name": "stdout"
        }
      ]
    },
    {
      "cell_type": "code",
      "metadata": {
        "id": "N9ZTqV6QoI78",
        "outputId": "0df5ad06-d50b-4df2-d1bc-152cbcbee0be",
        "colab": {
          "base_uri": "https://localhost:8080/",
          "height": 34
        }
      },
      "source": [
        "rx.std(axis=0)"
      ],
      "execution_count": null,
      "outputs": [
        {
          "output_type": "execute_result",
          "data": {
            "text/plain": [
              "array([0.9691, 0.8408, 1.0019, 1.0117, 1.0919, 0.9961, 0.9523, 0.9431])"
            ]
          },
          "metadata": {
            "tags": []
          },
          "execution_count": 78
        }
      ]
    },
    {
      "cell_type": "code",
      "metadata": {
        "id": "XgpbSDjLoP0j",
        "outputId": "e1ef1038-25f0-4c56-923a-96897f3b5e26",
        "colab": {
          "base_uri": "https://localhost:8080/",
          "height": 34
        }
      },
      "source": [
        "rx.min(axis=0)"
      ],
      "execution_count": null,
      "outputs": [
        {
          "output_type": "execute_result",
          "data": {
            "text/plain": [
              "array([-2.2278, -1.6038, -2.2911, -2.5581, -3.0908, -2.3611, -2.3539, -2.6386])"
            ]
          },
          "metadata": {
            "tags": []
          },
          "execution_count": 79
        }
      ]
    },
    {
      "cell_type": "code",
      "metadata": {
        "id": "vCQHL2ZYoSra",
        "outputId": "f225ac50-fafa-46b5-c74c-c709c9cd9854",
        "colab": {
          "base_uri": "https://localhost:8080/",
          "height": 34
        }
      },
      "source": [
        "rx.max(axis=0)"
      ],
      "execution_count": null,
      "outputs": [
        {
          "output_type": "execute_result",
          "data": {
            "text/plain": [
              "array([2.304 , 1.938 , 2.2609, 2.6116, 1.9647, 2.5507, 2.2089, 2.2931])"
            ]
          },
          "metadata": {
            "tags": []
          },
          "execution_count": 80
        }
      ]
    },
    {
      "cell_type": "code",
      "metadata": {
        "id": "-VB-qNzcoUPB",
        "outputId": "25bf56ff-0f19-41b7-b9b4-32d96042cd45",
        "colab": {
          "base_uri": "https://localhost:8080/",
          "height": 85
        }
      },
      "source": [
        "### pass functions/methods around like variables\n",
        "funcs = [np.mean, np.std, np.min, np.max]  #list of functions\n",
        "for f in funcs:\n",
        "    print(f.__name__, f(rx, axis=0))"
      ],
      "execution_count": null,
      "outputs": [
        {
          "output_type": "stream",
          "text": [
            "mean [-0.0795  0.1594  0.0175 -0.1353 -0.0811  0.1686  0.0605 -0.0252]\n",
            "std [0.9691 0.8408 1.0019 1.0117 1.0919 0.9961 0.9523 0.9431]\n",
            "amin [-2.2278 -1.6038 -2.2911 -2.5581 -3.0908 -2.3611 -2.3539 -2.6386]\n",
            "amax [2.304  1.938  2.2609 2.6116 1.9647 2.5507 2.2089 2.2931]\n"
          ],
          "name": "stdout"
        }
      ]
    },
    {
      "cell_type": "code",
      "metadata": {
        "id": "QdoeHgNPrNaW"
      },
      "source": [
        ""
      ],
      "execution_count": null,
      "outputs": []
    },
    {
      "cell_type": "code",
      "metadata": {
        "id": "OI71Jl6arpTA",
        "outputId": "57f1fa0d-72e7-46b7-aab0-307ac9b1d963",
        "colab": {
          "base_uri": "https://localhost:8080/",
          "height": 51
        }
      },
      "source": [
        "x1 = np.arange(-4,4, .5)\n",
        "x1, x1.shape"
      ],
      "execution_count": null,
      "outputs": [
        {
          "output_type": "execute_result",
          "data": {
            "text/plain": [
              "(array([-4. , -3.5, -3. , -2.5, -2. , -1.5, -1. , -0.5,  0. ,  0.5,  1. ,  1.5,  2. ,  2.5,  3. ,\n",
              "         3.5]), (16,))"
            ]
          },
          "metadata": {
            "tags": []
          },
          "execution_count": 99
        }
      ]
    },
    {
      "cell_type": "code",
      "metadata": {
        "id": "ty6Nnni4r6CH",
        "outputId": "4e1917d7-be12-4859-ae6d-5eaa583e6f1f",
        "colab": {
          "base_uri": "https://localhost:8080/",
          "height": 51
        }
      },
      "source": [
        "x2 = np.linspace(-4, 4, 16)\n",
        "x2, x2.shape"
      ],
      "execution_count": null,
      "outputs": [
        {
          "output_type": "execute_result",
          "data": {
            "text/plain": [
              "(array([-4.    , -3.4667, -2.9333, -2.4   , -1.8667, -1.3333, -0.8   , -0.2667,  0.2667,  0.8   ,\n",
              "         1.3333,  1.8667,  2.4   ,  2.9333,  3.4667,  4.    ]), (16,))"
            ]
          },
          "metadata": {
            "tags": []
          },
          "execution_count": 100
        }
      ]
    },
    {
      "cell_type": "code",
      "metadata": {
        "id": "1bsQUn0bulGF",
        "outputId": "e437f4df-db07-4f5c-e396-9f00fb6e3eb0",
        "colab": {
          "base_uri": "https://localhost:8080/",
          "height": 34
        }
      },
      "source": [
        "rx0 = rx[:,0]\n",
        "w = np.where(rx0 > 1.5)\n",
        "w   # w is a tuple, so needs indexed when using"
      ],
      "execution_count": null,
      "outputs": [
        {
          "output_type": "execute_result",
          "data": {
            "text/plain": [
              "(array([24, 27, 37, 69, 83, 84, 85, 86]),)"
            ]
          },
          "metadata": {
            "tags": []
          },
          "execution_count": 106
        }
      ]
    },
    {
      "cell_type": "code",
      "metadata": {
        "id": "RZSVUBjXvOIW",
        "outputId": "5e0bbcc3-bf63-449a-c9cc-c8e72b2005d1",
        "colab": {
          "base_uri": "https://localhost:8080/",
          "height": 153
        }
      },
      "source": [
        "for index in w[0]:\n",
        "    print(f\"{index}: {rx0[index]}\")"
      ],
      "execution_count": null,
      "outputs": [
        {
          "output_type": "stream",
          "text": [
            "24: 1.5106615960632106\n",
            "27: 1.555317376922868\n",
            "37: 1.5010029032007484\n",
            "69: 1.9232354210274734\n",
            "83: 1.5280179050125617\n",
            "84: 2.3040471945562104\n",
            "85: 1.984287464813517\n",
            "86: 1.8938399298863136\n"
          ],
          "name": "stdout"
        }
      ]
    },
    {
      "cell_type": "code",
      "metadata": {
        "id": "QsnaBxXYvVVb"
      },
      "source": [
        ""
      ],
      "execution_count": null,
      "outputs": []
    }
  ]
}