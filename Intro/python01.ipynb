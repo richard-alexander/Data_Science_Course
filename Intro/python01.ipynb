{
  "nbformat": 4,
  "nbformat_minor": 0,
  "metadata": {
    "colab": {
      "name": "python01.ipynb",
      "provenance": [],
      "collapsed_sections": [],
      "toc_visible": true,
      "authorship_tag": "ABX9TyOK89OAdZ/LnVWTd3orSD14",
      "include_colab_link": true
    },
    "kernelspec": {
      "name": "python3",
      "display_name": "Python 3"
    }
  },
  "cells": [
    {
      "cell_type": "markdown",
      "metadata": {
        "id": "view-in-github",
        "colab_type": "text"
      },
      "source": [
        "<a href=\"https://colab.research.google.com/github/cwood1967/Data_Science_Course/blob/cjw/Intro/python01.ipynb\" target=\"_parent\"><img src=\"https://colab.research.google.com/assets/colab-badge.svg\" alt=\"Open In Colab\"/></a>"
      ]
    },
    {
      "cell_type": "markdown",
      "metadata": {
        "id": "LovC01Rxxr98"
      },
      "source": [
        "### Intro\n",
        "We will go over some python basics\n",
        "- indenting\n",
        "- imports\n",
        "- data types"
      ]
    },
    {
      "cell_type": "code",
      "metadata": {
        "id": "ML1ydEn_xj8i",
        "outputId": "7a1a16f4-4bb0-41ff-df59-c7bb88296e38",
        "colab": {
          "base_uri": "https://localhost:8080/",
          "height": 34
        }
      },
      "source": [
        "'''\n",
        "in a notebook, type code into a cell, and push the play button,\n",
        "or shift-enter\n",
        "\n",
        "the last line of the cell will be printed if it isn't an assignment\n",
        "'''\n",
        "x = 4  # set x equal to 4\n",
        "x      # this will print x"
      ],
      "execution_count": null,
      "outputs": [
        {
          "output_type": "execute_result",
          "data": {
            "text/plain": [
              "4"
            ]
          },
          "metadata": {
            "tags": []
          },
          "execution_count": 2
        }
      ]
    },
    {
      "cell_type": "code",
      "metadata": {
        "id": "zITWDB7PylUg",
        "outputId": "1cfc0adb-cfa9-40e5-cc58-712be8611730",
        "colab": {
          "base_uri": "https://localhost:8080/",
          "height": 34
        }
      },
      "source": [
        "''' control things like if statements, loops and function defs with indenting\n",
        "    to denote when code blocks start and stop\n",
        "    - notice below the indention is only 2 spaces, most often see 4,\n",
        "    - every line in the block must be same indent level\n",
        "'''\n",
        "\n",
        "if x > 5:\n",
        "  a = 2\n",
        "  print('yes')   # strings can be defined with single or double quotes\n",
        "else:\n",
        "  a = 1\n",
        "  print('no')"
      ],
      "execution_count": null,
      "outputs": [
        {
          "output_type": "stream",
          "text": [
            "no\n"
          ],
          "name": "stdout"
        }
      ]
    },
    {
      "cell_type": "code",
      "metadata": {
        "id": "L8TmWssVzrJO",
        "outputId": "6a3f699d-d34d-425e-f3ce-353ce13657c0",
        "colab": {
          "base_uri": "https://localhost:8080/",
          "height": 238
        }
      },
      "source": [
        "sum_even = 0\n",
        "sum_odd = 0\n",
        "for i in range(12):\n",
        "    if i % 2 == 0:\n",
        "        print(f'{i} is even')   # f-string for easier string formatting\n",
        "        sum_even += i\n",
        "    else:\n",
        "        print(f'{i} is odd')\n",
        "        sum_odd += i\n",
        "\n",
        "\n",
        "print(sum_even, sum_odd)\n"
      ],
      "execution_count": null,
      "outputs": [
        {
          "output_type": "stream",
          "text": [
            "0 is even\n",
            "1 is odd\n",
            "2 is even\n",
            "3 is odd\n",
            "4 is even\n",
            "5 is odd\n",
            "6 is even\n",
            "7 is odd\n",
            "8 is even\n",
            "9 is odd\n",
            "10 is even\n",
            "11 is odd\n",
            "30 36\n"
          ],
          "name": "stdout"
        }
      ]
    },
    {
      "cell_type": "code",
      "metadata": {
        "id": "coQJMKQgz74c"
      },
      "source": [
        "''' imports\n",
        " enables use other modules or packages\n",
        " typically at the top of the file, but can be anywhere\n",
        "\n",
        "these are all standard python packages\n",
        "'''\n",
        "import os\n",
        "import sys\n",
        "import glob\n"
      ],
      "execution_count": null,
      "outputs": []
    },
    {
      "cell_type": "code",
      "metadata": {
        "id": "hqunXHBK06Yh",
        "outputId": "2d91f5fb-a2eb-475e-87c1-275ce9a9f284",
        "colab": {
          "base_uri": "https://localhost:8080/",
          "height": 34
        }
      },
      "source": [
        "print(sys.executable, os.name)"
      ],
      "execution_count": null,
      "outputs": [
        {
          "output_type": "stream",
          "text": [
            "/usr/bin/python3 posix\n"
          ],
          "name": "stdout"
        }
      ]
    },
    {
      "cell_type": "code",
      "metadata": {
        "id": "ZOSO6kdL1HNK",
        "outputId": "5a34390c-56fe-4d64-9030-15d651a7a17b",
        "colab": {
          "base_uri": "https://localhost:8080/",
          "height": 119
        }
      },
      "source": [
        "os.listdir('sample_data')"
      ],
      "execution_count": null,
      "outputs": [
        {
          "output_type": "execute_result",
          "data": {
            "text/plain": [
              "['anscombe.json',\n",
              " 'README.md',\n",
              " 'mnist_test.csv',\n",
              " 'california_housing_train.csv',\n",
              " 'mnist_train_small.csv',\n",
              " 'california_housing_test.csv']"
            ]
          },
          "metadata": {
            "tags": []
          },
          "execution_count": 8
        }
      ]
    },
    {
      "cell_type": "code",
      "metadata": {
        "id": "GWpdrm6Q5L0i",
        "outputId": "963362a3-3337-48e9-8ae1-2de6773fa9c4",
        "colab": {
          "base_uri": "https://localhost:8080/",
          "height": 34
        }
      },
      "source": [
        "### determine if a path exists\n",
        "os.path.exists(\"/usr/bin\")"
      ],
      "execution_count": null,
      "outputs": [
        {
          "output_type": "execute_result",
          "data": {
            "text/plain": [
              "True"
            ]
          },
          "metadata": {
            "tags": []
          },
          "execution_count": 9
        }
      ]
    },
    {
      "cell_type": "code",
      "metadata": {
        "id": "8scI1hJW4sLf",
        "outputId": "e6b059c7-f5b9-4382-f55a-e7e829957656",
        "colab": {
          "base_uri": "https://localhost:8080/",
          "height": 85
        }
      },
      "source": [
        "### use a glob pattern to find files\n",
        "glob.glob('sample_data/*.csv')"
      ],
      "execution_count": null,
      "outputs": [
        {
          "output_type": "execute_result",
          "data": {
            "text/plain": [
              "['sample_data/mnist_test.csv',\n",
              " 'sample_data/california_housing_train.csv',\n",
              " 'sample_data/mnist_train_small.csv',\n",
              " 'sample_data/california_housing_test.csv']"
            ]
          },
          "metadata": {
            "tags": []
          },
          "execution_count": 10
        }
      ]
    },
    {
      "cell_type": "code",
      "metadata": {
        "id": "OTPWSAos2AKh",
        "outputId": "2f6b2fba-8dca-47df-960d-c75daf616259",
        "colab": {
          "base_uri": "https://localhost:8080/",
          "height": 102
        }
      },
      "source": [
        "'''\n",
        "tuple - sequence of comma separated values with parentheses\n",
        "immutable (static)\n",
        "not a specific data type\n",
        "'''\n",
        "z1 = (4,5, \"no\", [6,7])\n",
        "#z1[0] = \"no\" # will raise an error\n",
        "for b in z1: # for each over the tuple\n",
        "    print(b)\n",
        "\n",
        "if 4 in z1:  # use in to determine if an element is in the tuple\n",
        "    print(\"yes\")\n",
        "else:\n",
        "    print(\"no\")"
      ],
      "execution_count": null,
      "outputs": [
        {
          "output_type": "stream",
          "text": [
            "4\n",
            "5\n",
            "no\n",
            "[6, 7]\n",
            "yes\n"
          ],
          "name": "stdout"
        }
      ]
    },
    {
      "cell_type": "code",
      "metadata": {
        "id": "qlPuuJfU1q0D"
      },
      "source": [
        ""
      ],
      "execution_count": null,
      "outputs": []
    },
    {
      "cell_type": "code",
      "metadata": {
        "id": "VWibzMlhwUq-",
        "outputId": "08765fd7-c327-4e33-e240-b2a11f6c2d2d",
        "colab": {
          "base_uri": "https://localhost:8080/",
          "height": 102
        }
      },
      "source": [
        "'''\n",
        "list  - not a set length\n",
        "elements can be changed\n",
        "not a specific data type\n",
        "'''\n",
        "z = [4,5, \"no\"]\n",
        "z[0] = 3 # can change elements\n",
        "z.append(\"appended\")\n",
        "z.insert(2, \"inserted\")\n",
        "\n",
        "for i, b in enumerate(z):  # use enumerate to get index number\n",
        "    print(i, b)"
      ],
      "execution_count": null,
      "outputs": [
        {
          "output_type": "stream",
          "text": [
            "0 3\n",
            "1 5\n",
            "2 inserted\n",
            "3 no\n",
            "4 appended\n"
          ],
          "name": "stdout"
        }
      ]
    },
    {
      "cell_type": "code",
      "metadata": {
        "id": "xT-7_2ZFRjgH",
        "outputId": "90922511-cc5e-41a6-c11a-e0747f5bdd61",
        "colab": {
          "base_uri": "https://localhost:8080/",
          "height": 34
        }
      },
      "source": [
        "'''\n",
        "to add items to a list in a loop, use append\n",
        "'''\n",
        "\n",
        "newlist = list()\n",
        "for b in z:\n",
        "    newlist.append(b*2)\n",
        "\n",
        "newlist"
      ],
      "execution_count": null,
      "outputs": [
        {
          "output_type": "execute_result",
          "data": {
            "text/plain": [
              "[6, 10, 'insertedinserted', 'nono', 'appendedappended']"
            ]
          },
          "metadata": {
            "tags": []
          },
          "execution_count": 20
        }
      ]
    },
    {
      "cell_type": "code",
      "metadata": {
        "id": "X1bTCTji5MJX",
        "outputId": "a51bd447-afdf-444e-d831-897bc3d68ef3",
        "colab": {
          "base_uri": "https://localhost:8080/",
          "height": 34
        }
      },
      "source": [
        "'''\n",
        "don't name things list\n",
        "'''\n",
        "# list = [8,6,7]\n",
        "t = (1, 2, \"three\")\n",
        "list(t)"
      ],
      "execution_count": null,
      "outputs": [
        {
          "output_type": "execute_result",
          "data": {
            "text/plain": [
              "[1, 2, 'three']"
            ]
          },
          "metadata": {
            "tags": []
          },
          "execution_count": 27
        }
      ]
    },
    {
      "cell_type": "code",
      "metadata": {
        "id": "BDweMscESwoq"
      },
      "source": [
        "del(list)"
      ],
      "execution_count": null,
      "outputs": []
    },
    {
      "cell_type": "code",
      "metadata": {
        "id": "2RaS8q9l2E5l",
        "outputId": "27c4603e-9b2d-4df4-f576-c1a781930776",
        "colab": {
          "base_uri": "https://localhost:8080/",
          "height": 34
        }
      },
      "source": [
        "list(range(4))"
      ],
      "execution_count": null,
      "outputs": [
        {
          "output_type": "execute_result",
          "data": {
            "text/plain": [
              "[0, 1, 2, 3]"
            ]
          },
          "metadata": {
            "tags": []
          },
          "execution_count": 33
        }
      ]
    },
    {
      "cell_type": "code",
      "metadata": {
        "id": "OGExIOTz2HaP",
        "outputId": "387fdc23-1a9b-4f5d-e38a-128b0cf0c47a",
        "colab": {
          "base_uri": "https://localhost:8080/",
          "height": 68
        }
      },
      "source": [
        "'''\n",
        "dictionaries\n",
        "key value pairs\n",
        "order (might) not the same as inserted!!!!\n",
        "as of python 3.7 dict keys keep insertion order\n",
        "'''\n",
        "d = {'date':\"10/10/20\",  ## you can uses multiple line for readability\n",
        "     'time':39.5,\n",
        "     'distance':4.6}\n",
        "d, d.keys(), sys.version"
      ],
      "execution_count": null,
      "outputs": [
        {
          "output_type": "execute_result",
          "data": {
            "text/plain": [
              "({'date': '10/10/20', 'distance': 4.6, 'time': 39.5},\n",
              " dict_keys(['date', 'time', 'distance']),\n",
              " '3.6.9 (default, Jul 17 2020, 12:50:27) \\n[GCC 8.4.0]')"
            ]
          },
          "metadata": {
            "tags": []
          },
          "execution_count": 30
        }
      ]
    },
    {
      "cell_type": "code",
      "metadata": {
        "id": "hyejynZBxcHA",
        "outputId": "316801b1-4394-4e49-a18d-5042ae7c02b8",
        "colab": {
          "base_uri": "https://localhost:8080/",
          "height": 34
        }
      },
      "source": [
        "# to access values\n",
        "d['time']"
      ],
      "execution_count": null,
      "outputs": [
        {
          "output_type": "execute_result",
          "data": {
            "text/plain": [
              "39.5"
            ]
          },
          "metadata": {
            "tags": []
          },
          "execution_count": 21
        }
      ]
    },
    {
      "cell_type": "code",
      "metadata": {
        "id": "nylo7Kc5ybYt",
        "outputId": "731f6d6c-0f3b-40f2-948f-660da0141503",
        "colab": {
          "base_uri": "https://localhost:8080/",
          "height": 68
        }
      },
      "source": [
        "# to iterate over a dictionary\n",
        "for k, v in d.items():\n",
        "    print(f\"key: {k}, value: {v}\")"
      ],
      "execution_count": null,
      "outputs": [
        {
          "output_type": "stream",
          "text": [
            "key: date, value: 10/10/20\n",
            "key: time, value: 39.5\n",
            "key: distance, value: 4.6\n"
          ],
          "name": "stdout"
        }
      ]
    },
    {
      "cell_type": "code",
      "metadata": {
        "id": "Ymu_KFNoyhkh",
        "outputId": "b2168030-16dd-4282-c501-c03977178d46",
        "colab": {
          "base_uri": "https://localhost:8080/",
          "height": 34
        }
      },
      "source": [
        "d.keys()"
      ],
      "execution_count": null,
      "outputs": [
        {
          "output_type": "execute_result",
          "data": {
            "text/plain": [
              "dict_keys(['date', 'time', 'distance'])"
            ]
          },
          "metadata": {
            "tags": []
          },
          "execution_count": 31
        }
      ]
    },
    {
      "cell_type": "code",
      "metadata": {
        "id": "bvlfXrS_ym55",
        "outputId": "002c0fa0-91e2-47a4-82eb-ee40cb4c4b6f",
        "colab": {
          "base_uri": "https://localhost:8080/",
          "height": 34
        }
      },
      "source": [
        "d.values()"
      ],
      "execution_count": null,
      "outputs": [
        {
          "output_type": "execute_result",
          "data": {
            "text/plain": [
              "dict_values(['10/10/20', 39.5, 4.6])"
            ]
          },
          "metadata": {
            "tags": []
          },
          "execution_count": 32
        }
      ]
    },
    {
      "cell_type": "code",
      "metadata": {
        "id": "whL7NdMQypEb",
        "outputId": "2fee2357-bc01-44af-a363-da529686f0e0",
        "colab": {
          "base_uri": "https://localhost:8080/",
          "height": 51
        }
      },
      "source": [
        "## check if an key is in the dictionary\n",
        "if 'date' in d:\n",
        "    print(\"yes\")\n",
        "    \n",
        "if 'temperature' in d:\n",
        "    print(\"yes\")\n",
        "else:\n",
        "    print('no')"
      ],
      "execution_count": null,
      "outputs": [
        {
          "output_type": "stream",
          "text": [
            "yes\n",
            "no\n"
          ],
          "name": "stdout"
        }
      ]
    },
    {
      "cell_type": "code",
      "metadata": {
        "id": "VsVhb8G75lyB"
      },
      "source": [
        "##help(d)\n"
      ],
      "execution_count": null,
      "outputs": []
    },
    {
      "cell_type": "code",
      "metadata": {
        "id": "kSVBkZ5h67pt",
        "outputId": "e3b57810-29a5-4726-f3ee-9d6c3ae641fa",
        "colab": {
          "base_uri": "https://localhost:8080/",
          "height": 34
        }
      },
      "source": [
        ""
      ],
      "execution_count": null,
      "outputs": [
        {
          "output_type": "execute_result",
          "data": {
            "text/plain": [
              "(1, 2)"
            ]
          },
          "metadata": {
            "tags": []
          },
          "execution_count": 31
        }
      ]
    },
    {
      "cell_type": "markdown",
      "metadata": {
        "id": "imcn2E1cJtur"
      },
      "source": [
        "[Numpy tutorial](https://www.machinelearningplus.com/python/numpy-tutorial-part1-array-python-examples/)\n",
        "\n",
        "[Matplotlib](https://www.machinelearningplus.com/plots/matplotlib-tutorial-complete-guide-python-plot-examples/)\n",
        "```\n",
        "# This is formatted as code\n",
        "```\n",
        "\n"
      ]
    }
  ]
}